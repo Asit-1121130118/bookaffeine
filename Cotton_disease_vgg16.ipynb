{
  "nbformat": 4,
  "nbformat_minor": 0,
  "metadata": {
    "colab": {
      "name": "Cotton_disease vgg16.ipynb",
      "provenance": [],
      "mount_file_id": "1Vafgzha5CxHUYCOD0rNQ5atU_qXm7WLx",
      "authorship_tag": "ABX9TyMhh5sGYHq0AuRSQhPGkWCW",
      "include_colab_link": true
    },
    "kernelspec": {
      "name": "python3",
      "display_name": "Python 3"
    }
  },
  "cells": [
    {
      "cell_type": "markdown",
      "metadata": {
        "id": "view-in-github",
        "colab_type": "text"
      },
      "source": [
        "<a href=\"https://colab.research.google.com/github/Asit-1121130118/practice-projects/blob/master/Cotton_disease_vgg16.ipynb\" target=\"_parent\"><img src=\"https://colab.research.google.com/assets/colab-badge.svg\" alt=\"Open In Colab\"/></a>"
      ]
    },
    {
      "cell_type": "markdown",
      "metadata": {
        "id": "aFMFcex7iI7D"
      },
      "source": [
        "***Cotton Disease prediction using Transfer Learning VGG16***"
      ]
    },
    {
      "cell_type": "code",
      "metadata": {
        "id": "_JMWWtXoRUXi"
      },
      "source": [
        "# importing the libraries\r\n",
        "\r\n",
        "import tensorflow as tf\r\n",
        "\r\n",
        "from tensorflow.keras.layers import Input, Lambda, Dense, Flatten\r\n",
        "from tensorflow.keras.models import Model\r\n",
        "from tensorflow.keras.applications.vgg16 import VGG16\r\n",
        "from tensorflow.keras.applications.vgg16 import preprocess_input\r\n",
        "from tensorflow.keras.preprocessing import image\r\n",
        "from tensorflow.keras.preprocessing.image import ImageDataGenerator,load_img\r\n",
        "from tensorflow.keras.models import Sequential\r\n",
        "import numpy as np\r\n",
        "from glob import glob #used for knowing the number of input image folder "
      ],
      "execution_count": 1,
      "outputs": []
    },
    {
      "cell_type": "code",
      "metadata": {
        "id": "PRKdWlM-Sc-P"
      },
      "source": [
        "# loading the data\r\n",
        "\r\n",
        "IMAGE_SIZE = [224,224]\r\n",
        "train_path = '/content/drive/MyDrive/datasets/Cotton Disease/train'\r\n",
        "test_path = '/content/drive/MyDrive/datasets/Cotton Disease/test'"
      ],
      "execution_count": 2,
      "outputs": []
    },
    {
      "cell_type": "code",
      "metadata": {
        "colab": {
          "base_uri": "https://localhost:8080/"
        },
        "id": "hkqMXidPTOwp",
        "outputId": "c8e92a78-a8f6-4601-83e6-933e51a25925"
      },
      "source": [
        "# importing the vgg16 library\r\n",
        "# using pre-defined imagenet weights and adding input layer\r\n",
        "\r\n",
        "vgg16 = VGG16(input_shape=IMAGE_SIZE + [3], weights='imagenet', include_top=False)\r\n",
        "# in input_shape, +[3] is for adding the third dimension to the image shape as it is for RGB channel"
      ],
      "execution_count": 3,
      "outputs": [
        {
          "output_type": "stream",
          "text": [
            "Downloading data from https://storage.googleapis.com/tensorflow/keras-applications/vgg16/vgg16_weights_tf_dim_ordering_tf_kernels_notop.h5\n",
            "58892288/58889256 [==============================] - 1s 0us/step\n"
          ],
          "name": "stdout"
        }
      ]
    },
    {
      "cell_type": "code",
      "metadata": {
        "id": "3V-qEliYUfoZ"
      },
      "source": [
        "# not training the input parameters\r\n",
        "\r\n",
        "for layer in vgg16.layers:\r\n",
        "  layer.trainable = False"
      ],
      "execution_count": 4,
      "outputs": []
    },
    {
      "cell_type": "code",
      "metadata": {
        "colab": {
          "base_uri": "https://localhost:8080/"
        },
        "id": "kHIcewfqUy9i",
        "outputId": "86ca30d6-3b6a-436f-ebe4-af31875cba50"
      },
      "source": [
        "# for checking the folder in input image\r\n",
        "\r\n",
        "folders = glob('/content/drive/MyDrive/datasets/Cotton Disease/train/*')\r\n",
        "folders"
      ],
      "execution_count": 6,
      "outputs": [
        {
          "output_type": "execute_result",
          "data": {
            "text/plain": [
              "['/content/drive/MyDrive/datasets/Cotton Disease/train/diseased cotton leaf',\n",
              " '/content/drive/MyDrive/datasets/Cotton Disease/train/fresh cotton leaf']"
            ]
          },
          "metadata": {
            "tags": []
          },
          "execution_count": 6
        }
      ]
    },
    {
      "cell_type": "code",
      "metadata": {
        "id": "DCsLoYjWVPAn"
      },
      "source": [
        "# adding the output layer\r\n",
        "x = Flatten()(vgg16.output)"
      ],
      "execution_count": 7,
      "outputs": []
    },
    {
      "cell_type": "code",
      "metadata": {
        "id": "312GCBwUYaNq"
      },
      "source": [
        "# creating the model\r\n",
        "\r\n",
        "pred = Dense(len(folders), activation='softmax')(x)\r\n",
        "model = Model(inputs = vgg16.inputs, outputs = pred)"
      ],
      "execution_count": 8,
      "outputs": []
    },
    {
      "cell_type": "code",
      "metadata": {
        "colab": {
          "base_uri": "https://localhost:8080/"
        },
        "id": "nSjUY47wY8dv",
        "outputId": "dd2794fd-df8c-46ca-f522-3b1dd9a028c7"
      },
      "source": [
        "model.summary()"
      ],
      "execution_count": 9,
      "outputs": [
        {
          "output_type": "stream",
          "text": [
            "Model: \"model\"\n",
            "_________________________________________________________________\n",
            "Layer (type)                 Output Shape              Param #   \n",
            "=================================================================\n",
            "input_1 (InputLayer)         [(None, 224, 224, 3)]     0         \n",
            "_________________________________________________________________\n",
            "block1_conv1 (Conv2D)        (None, 224, 224, 64)      1792      \n",
            "_________________________________________________________________\n",
            "block1_conv2 (Conv2D)        (None, 224, 224, 64)      36928     \n",
            "_________________________________________________________________\n",
            "block1_pool (MaxPooling2D)   (None, 112, 112, 64)      0         \n",
            "_________________________________________________________________\n",
            "block2_conv1 (Conv2D)        (None, 112, 112, 128)     73856     \n",
            "_________________________________________________________________\n",
            "block2_conv2 (Conv2D)        (None, 112, 112, 128)     147584    \n",
            "_________________________________________________________________\n",
            "block2_pool (MaxPooling2D)   (None, 56, 56, 128)       0         \n",
            "_________________________________________________________________\n",
            "block3_conv1 (Conv2D)        (None, 56, 56, 256)       295168    \n",
            "_________________________________________________________________\n",
            "block3_conv2 (Conv2D)        (None, 56, 56, 256)       590080    \n",
            "_________________________________________________________________\n",
            "block3_conv3 (Conv2D)        (None, 56, 56, 256)       590080    \n",
            "_________________________________________________________________\n",
            "block3_pool (MaxPooling2D)   (None, 28, 28, 256)       0         \n",
            "_________________________________________________________________\n",
            "block4_conv1 (Conv2D)        (None, 28, 28, 512)       1180160   \n",
            "_________________________________________________________________\n",
            "block4_conv2 (Conv2D)        (None, 28, 28, 512)       2359808   \n",
            "_________________________________________________________________\n",
            "block4_conv3 (Conv2D)        (None, 28, 28, 512)       2359808   \n",
            "_________________________________________________________________\n",
            "block4_pool (MaxPooling2D)   (None, 14, 14, 512)       0         \n",
            "_________________________________________________________________\n",
            "block5_conv1 (Conv2D)        (None, 14, 14, 512)       2359808   \n",
            "_________________________________________________________________\n",
            "block5_conv2 (Conv2D)        (None, 14, 14, 512)       2359808   \n",
            "_________________________________________________________________\n",
            "block5_conv3 (Conv2D)        (None, 14, 14, 512)       2359808   \n",
            "_________________________________________________________________\n",
            "block5_pool (MaxPooling2D)   (None, 7, 7, 512)         0         \n",
            "_________________________________________________________________\n",
            "flatten (Flatten)            (None, 25088)             0         \n",
            "_________________________________________________________________\n",
            "dense (Dense)                (None, 2)                 50178     \n",
            "=================================================================\n",
            "Total params: 14,764,866\n",
            "Trainable params: 50,178\n",
            "Non-trainable params: 14,714,688\n",
            "_________________________________________________________________\n"
          ],
          "name": "stdout"
        }
      ]
    },
    {
      "cell_type": "code",
      "metadata": {
        "id": "pPmxSMECZAH_"
      },
      "source": [
        "model.compile(optimizer='adam', loss='categorical_crossentropy',\r\n",
        "              metrics=['accuracy'])"
      ],
      "execution_count": 10,
      "outputs": []
    },
    {
      "cell_type": "code",
      "metadata": {
        "id": "T1ud87hrbLOd"
      },
      "source": [
        "# Use the Image Data Generator to preprocess the image and scaling\r\n",
        "from tensorflow.keras.preprocessing.image import ImageDataGenerator\r\n",
        "\r\n",
        "train_datagen = ImageDataGenerator(rescale = 1./255,\r\n",
        "                                   shear_range = 0.2,\r\n",
        "                                   zoom_range = 0.2,\r\n",
        "                                   horizontal_flip = True)\r\n",
        "\r\n",
        "test_datagen = ImageDataGenerator(rescale = 1./255)"
      ],
      "execution_count": 11,
      "outputs": []
    },
    {
      "cell_type": "code",
      "metadata": {
        "colab": {
          "base_uri": "https://localhost:8080/"
        },
        "id": "u8sg4rhuccxl",
        "outputId": "902e0266-9ede-4e91-9a82-905a88fd203d"
      },
      "source": [
        "training_set = train_datagen.flow_from_directory('/content/drive/MyDrive/datasets/Cotton Disease/train',\r\n",
        "                                                 target_size = (224, 224),\r\n",
        "                                                 batch_size = 32,\r\n",
        "                                                 class_mode = 'categorical')"
      ],
      "execution_count": 12,
      "outputs": [
        {
          "output_type": "stream",
          "text": [
            "Found 715 images belonging to 2 classes.\n"
          ],
          "name": "stdout"
        }
      ]
    },
    {
      "cell_type": "code",
      "metadata": {
        "colab": {
          "base_uri": "https://localhost:8080/"
        },
        "id": "UW-mePdsc5QS",
        "outputId": "6bb70c59-6eae-4e66-ecef-443c4a445feb"
      },
      "source": [
        "test_set = test_datagen.flow_from_directory('/content/drive/MyDrive/datasets/Cotton Disease/test',\r\n",
        "                                            target_size = (224, 224),\r\n",
        "                                            batch_size = 32,\r\n",
        "                                            class_mode = 'categorical')"
      ],
      "execution_count": 13,
      "outputs": [
        {
          "output_type": "stream",
          "text": [
            "Found 51 images belonging to 2 classes.\n"
          ],
          "name": "stdout"
        }
      ]
    },
    {
      "cell_type": "code",
      "metadata": {
        "colab": {
          "base_uri": "https://localhost:8080/"
        },
        "id": "vq2xMv6NdLtf",
        "outputId": "6e5eb752-56f5-4404-de90-09161b1e790c"
      },
      "source": [
        "# fitting the model\r\n",
        "\r\n",
        "r = model.fit_generator(\r\n",
        "  training_set,\r\n",
        "  validation_data=test_set,\r\n",
        "  epochs=20,\r\n",
        "  steps_per_epoch=len(training_set),\r\n",
        "  validation_steps=len(test_set)\r\n",
        ")"
      ],
      "execution_count": 15,
      "outputs": [
        {
          "output_type": "stream",
          "text": [
            "/usr/local/lib/python3.6/dist-packages/tensorflow/python/keras/engine/training.py:1844: UserWarning: `Model.fit_generator` is deprecated and will be removed in a future version. Please use `Model.fit`, which supports generators.\n",
            "  warnings.warn('`Model.fit_generator` is deprecated and '\n"
          ],
          "name": "stderr"
        },
        {
          "output_type": "stream",
          "text": [
            "Epoch 1/20\n",
            "23/23 [==============================] - 676s 29s/step - loss: 0.5382 - accuracy: 0.7608 - val_loss: 0.1417 - val_accuracy: 0.9608\n",
            "Epoch 2/20\n",
            "23/23 [==============================] - 391s 17s/step - loss: 0.1374 - accuracy: 0.9510 - val_loss: 0.1576 - val_accuracy: 0.9216\n",
            "Epoch 3/20\n",
            "23/23 [==============================] - 393s 17s/step - loss: 0.0981 - accuracy: 0.9636 - val_loss: 0.0893 - val_accuracy: 0.9608\n",
            "Epoch 4/20\n",
            "23/23 [==============================] - 385s 17s/step - loss: 0.0669 - accuracy: 0.9832 - val_loss: 0.1484 - val_accuracy: 0.9412\n",
            "Epoch 5/20\n",
            "23/23 [==============================] - 389s 17s/step - loss: 0.0551 - accuracy: 0.9846 - val_loss: 0.1205 - val_accuracy: 0.9608\n",
            "Epoch 6/20\n",
            "23/23 [==============================] - 393s 17s/step - loss: 0.0566 - accuracy: 0.9818 - val_loss: 0.0670 - val_accuracy: 0.9804\n",
            "Epoch 7/20\n",
            "23/23 [==============================] - 390s 17s/step - loss: 0.0365 - accuracy: 0.9958 - val_loss: 0.0792 - val_accuracy: 0.9804\n",
            "Epoch 8/20\n",
            "23/23 [==============================] - 392s 17s/step - loss: 0.0310 - accuracy: 0.9930 - val_loss: 0.1151 - val_accuracy: 0.9412\n",
            "Epoch 9/20\n",
            "23/23 [==============================] - 398s 18s/step - loss: 0.0381 - accuracy: 0.9916 - val_loss: 0.0479 - val_accuracy: 0.9804\n",
            "Epoch 10/20\n",
            "23/23 [==============================] - 392s 17s/step - loss: 0.0278 - accuracy: 0.9972 - val_loss: 0.1433 - val_accuracy: 0.9412\n",
            "Epoch 11/20\n",
            "23/23 [==============================] - 386s 17s/step - loss: 0.0172 - accuracy: 0.9986 - val_loss: 0.0881 - val_accuracy: 0.9608\n",
            "Epoch 12/20\n",
            "23/23 [==============================] - 388s 17s/step - loss: 0.0245 - accuracy: 0.9902 - val_loss: 0.0566 - val_accuracy: 0.9804\n",
            "Epoch 13/20\n",
            "23/23 [==============================] - 388s 17s/step - loss: 0.0158 - accuracy: 1.0000 - val_loss: 0.0715 - val_accuracy: 0.9804\n",
            "Epoch 14/20\n",
            "23/23 [==============================] - 387s 17s/step - loss: 0.0149 - accuracy: 1.0000 - val_loss: 0.1002 - val_accuracy: 0.9608\n",
            "Epoch 15/20\n",
            "23/23 [==============================] - 383s 17s/step - loss: 0.0133 - accuracy: 1.0000 - val_loss: 0.0828 - val_accuracy: 0.9804\n",
            "Epoch 16/20\n",
            "23/23 [==============================] - 386s 17s/step - loss: 0.0114 - accuracy: 1.0000 - val_loss: 0.1007 - val_accuracy: 0.9608\n",
            "Epoch 17/20\n",
            "23/23 [==============================] - 386s 17s/step - loss: 0.0109 - accuracy: 0.9986 - val_loss: 0.0592 - val_accuracy: 0.9804\n",
            "Epoch 18/20\n",
            "23/23 [==============================] - 389s 17s/step - loss: 0.0111 - accuracy: 1.0000 - val_loss: 0.0721 - val_accuracy: 0.9804\n",
            "Epoch 19/20\n",
            "23/23 [==============================] - 390s 17s/step - loss: 0.0090 - accuracy: 1.0000 - val_loss: 0.1104 - val_accuracy: 0.9608\n",
            "Epoch 20/20\n",
            "23/23 [==============================] - 389s 17s/step - loss: 0.0103 - accuracy: 1.0000 - val_loss: 0.0939 - val_accuracy: 0.9608\n"
          ],
          "name": "stdout"
        }
      ]
    },
    {
      "cell_type": "code",
      "metadata": {
        "colab": {
          "base_uri": "https://localhost:8080/",
          "height": 530
        },
        "id": "pjX8LhVqeA-w",
        "outputId": "cb6e347d-a3b6-4562-d274-a802ae6f00f4"
      },
      "source": [
        "# plot the loss\r\n",
        "import matplotlib.pyplot as plt\r\n",
        "plt.plot(r.history['loss'], label='train loss')\r\n",
        "plt.plot(r.history['val_loss'], label='val loss')\r\n",
        "plt.legend()\r\n",
        "plt.show()\r\n",
        "plt.savefig('LossVal_loss')\r\n",
        "\r\n",
        "# plot the accuracy\r\n",
        "plt.plot(r.history['accuracy'], label='train acc')\r\n",
        "plt.plot(r.history['val_accuracy'], label='val acc')\r\n",
        "plt.legend()\r\n",
        "plt.show()\r\n",
        "plt.savefig('AccVal_acc')"
      ],
      "execution_count": 16,
      "outputs": [
        {
          "output_type": "display_data",
          "data": {
            "image/png": "[encoded data removed]",
            "text/plain": [
              "<Figure size 432x288 with 1 Axes>"
            ]
          },
          "metadata": {
            "tags": [],
            "needs_background": "light"
          }
        },
        {
          "output_type": "display_data",
          "data": {
            "image/png": "[encoded data removed]",
            "text/plain": [
              "<Figure size 432x288 with 1 Axes>"
            ]
          },
          "metadata": {
            "tags": [],
            "needs_background": "light"
          }
        },
        {
          "output_type": "display_data",
          "data": {
            "text/plain": [
              "<Figure size 432x288 with 0 Axes>"
            ]
          },
          "metadata": {
            "tags": []
          }
        }
      ]
    },
    {
      "cell_type": "code",
      "metadata": {
        "id": "UW6EPa9Pemho"
      },
      "source": [
        "# save it as a h5 file\r\n",
        "\r\n",
        "\r\n",
        "from tensorflow.keras.models import load_model\r\n",
        "\r\n",
        "model.save('model_cotton_disease_vgg16.h5')"
      ],
      "execution_count": 17,
      "outputs": []
    },
    {
      "cell_type": "code",
      "metadata": {
        "colab": {
          "base_uri": "https://localhost:8080/"
        },
        "id": "C0OrGf42enGb",
        "outputId": "958248be-08d5-4332-867e-00c4daae2989"
      },
      "source": [
        "# Part 4 - Making a single prediction from test data\r\n",
        "# image taken from test deseased cotton leaf\r\n",
        "\r\n",
        "import numpy as np\r\n",
        "from tensorflow.keras.preprocessing import image\r\n",
        "test_image = image.load_img('/content/drive/MyDrive/datasets/Cotton Disease/test/diseased cotton leaf/dis_leaf (194)_iaip.jpg',\r\n",
        "                            target_size = (224,224))\r\n",
        "test_image = image.img_to_array(test_image)\r\n",
        "test_image=test_image/255\r\n",
        "test_image = np.expand_dims(test_image, axis = 0)\r\n",
        "result = model.predict(test_image)\r\n",
        "result"
      ],
      "execution_count": 18,
      "outputs": [
        {
          "output_type": "execute_result",
          "data": {
            "text/plain": [
              "array([[0.9878312 , 0.01216886]], dtype=float32)"
            ]
          },
          "metadata": {
            "tags": []
          },
          "execution_count": 18
        }
      ]
    },
    {
      "cell_type": "code",
      "metadata": {
        "colab": {
          "base_uri": "https://localhost:8080/"
        },
        "id": "m43Yvo5yenOm",
        "outputId": "31100ba9-8421-4844-edac-2f7427c98627"
      },
      "source": [
        "# image taken from validation set deseased cotton leaf\r\n",
        "\r\n",
        "import numpy as np\r\n",
        "from tensorflow.keras.preprocessing import image\r\n",
        "test_image = image.load_img('/content/drive/MyDrive/datasets/Cotton Disease/val/diseased cotton leaf/dis_leaf (265)_iaip.jpg',\r\n",
        "                            target_size = (224,224))\r\n",
        "test_image = image.img_to_array(test_image)\r\n",
        "test_image=test_image/255\r\n",
        "test_image = np.expand_dims(test_image, axis = 0)\r\n",
        "result = model.predict(test_image)\r\n",
        "result"
      ],
      "execution_count": 19,
      "outputs": [
        {
          "output_type": "execute_result",
          "data": {
            "text/plain": [
              "array([[0.99795   , 0.00204998]], dtype=float32)"
            ]
          },
          "metadata": {
            "tags": []
          },
          "execution_count": 19
        }
      ]
    },
    {
      "cell_type": "code",
      "metadata": {
        "colab": {
          "base_uri": "https://localhost:8080/"
        },
        "id": "UiYsTwbKEPL_",
        "outputId": "7191298b-c83b-4a32-ebe6-5ec93f136a3a"
      },
      "source": [
        "# image taken from val fresh cotton leaf\r\n",
        "\r\n",
        "import numpy as np\r\n",
        "from tensorflow.keras.preprocessing import image\r\n",
        "test_image = image.load_img('/content/drive/MyDrive/datasets/Cotton Disease/val/fresh cotton leaf/d (171)_iaip.jpg',\r\n",
        "                            target_size = (224,224))\r\n",
        "test_image = image.img_to_array(test_image)\r\n",
        "test_image=test_image/255\r\n",
        "test_image = np.expand_dims(test_image, axis = 0)\r\n",
        "result = model.predict(test_image)\r\n",
        "result"
      ],
      "execution_count": 22,
      "outputs": [
        {
          "output_type": "execute_result",
          "data": {
            "text/plain": [
              "array([[2.2412001e-04, 9.9977595e-01]], dtype=float32)"
            ]
          },
          "metadata": {
            "tags": []
          },
          "execution_count": 22
        }
      ]
    },
    {
      "cell_type": "code",
      "metadata": {
        "colab": {
          "base_uri": "https://localhost:8080/"
        },
        "id": "Lk63OiUqenXI",
        "outputId": "659681a2-8454-4f9f-b023-2b00d462369d"
      },
      "source": [
        "y=np.argmax(model.predict(test_image), axis=1)\r\n",
        "y"
      ],
      "execution_count": 27,
      "outputs": [
        {
          "output_type": "execute_result",
          "data": {
            "text/plain": [
              "array([1])"
            ]
          },
          "metadata": {
            "tags": []
          },
          "execution_count": 27
        }
      ]
    },
    {
      "cell_type": "code",
      "metadata": {
        "colab": {
          "base_uri": "https://localhost:8080/"
        },
        "id": "dgohgVhZenag",
        "outputId": "15b536be-4dbe-49b4-9daf-c9c7e1f41666"
      },
      "source": [
        "if y==1:\r\n",
        "  print(\"The image classified as fresh cotton leaf\")\r\n",
        "else:\r\n",
        "  print(\"The image classified as deseased cotton leaf\")"
      ],
      "execution_count": 28,
      "outputs": [
        {
          "output_type": "stream",
          "text": [
            "The image classified as fresh cotton leaf\n"
          ],
          "name": "stdout"
        }
      ]
    },
    {
      "cell_type": "code",
      "metadata": {
        "id": "Bdbp0IsrJpfs"
      },
      "source": [
        ""
      ],
      "execution_count": null,
      "outputs": []
    }
  ]
}