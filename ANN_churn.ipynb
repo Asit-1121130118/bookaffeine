{
  "nbformat": 4,
  "nbformat_minor": 0,
  "metadata": {
    "colab": {
      "name": "ANN churn.ipynb",
      "provenance": [],
      "collapsed_sections": [],
      "mount_file_id": "1-XhDyKRJpNTY8Z2G2gUM7uK01W5RFFkB",
      "authorship_tag": "ABX9TyO9TdybzizalrL1AZH10GV5",
      "include_colab_link": true
    },
    "kernelspec": {
      "name": "python3",
      "display_name": "Python 3"
    }
  },
  "cells": [
    {
      "cell_type": "markdown",
      "metadata": {
        "id": "view-in-github",
        "colab_type": "text"
      },
      "source": [
        "<a href=\"https://colab.research.google.com/github/Asit-1121130118/practice-projects/blob/master/ANN_churn.ipynb\" target=\"_parent\"><img src=\"https://colab.research.google.com/assets/colab-badge.svg\" alt=\"Open In Colab\"/></a>"
      ]
    },
    {
      "cell_type": "markdown",
      "metadata": {
        "id": "Ni2W-juKAAOE"
      },
      "source": [
        "**ANN Churn model**"
      ]
    },
    {
      "cell_type": "markdown",
      "metadata": {
        "id": "6LSy0mbBANeT"
      },
      "source": [
        "***Importing the library***"
      ]
    },
    {
      "cell_type": "code",
      "metadata": {
        "id": "eFd2WI2abRkh"
      },
      "source": [
        "import pandas as pd\r\n",
        "import numpy as np\r\n",
        "import matplotlib.pyplot as plt\r\n"
      ],
      "execution_count": 1,
      "outputs": []
    },
    {
      "cell_type": "code",
      "metadata": {
        "id": "VbX2yrzfcpL5"
      },
      "source": [
        "# import the datasets\r\n",
        "data = pd.read_csv('/content/drive/MyDrive/datasets/Churn_Modelling.csv')"
      ],
      "execution_count": 2,
      "outputs": []
    },
    {
      "cell_type": "code",
      "metadata": {
        "colab": {
          "base_uri": "https://localhost:8080/",
          "height": 224
        },
        "id": "3Rrve8AYc0pT",
        "outputId": "05686d18-27c5-488e-c953-397a760efd0e"
      },
      "source": [
        "data.head()"
      ],
      "execution_count": 3,
      "outputs": [
        {
          "output_type": "execute_result",
          "data": {
            "text/html": [
              "<div>\n",
              "<style scoped>\n",
              "    .dataframe tbody tr th:only-of-type {\n",
              "        vertical-align: middle;\n",
              "    }\n",
              "\n",
              "    .dataframe tbody tr th {\n",
              "        vertical-align: top;\n",
              "    }\n",
              "\n",
              "    .dataframe thead th {\n",
              "        text-align: right;\n",
              "    }\n",
              "</style>\n",
              "<table border=\"1\" class=\"dataframe\">\n",
              "  <thead>\n",
              "    <tr style=\"text-align: right;\">\n",
              "      <th></th>\n",
              "      <th>RowNumber</th>\n",
              "      <th>CustomerId</th>\n",
              "      <th>Surname</th>\n",
              "      <th>CreditScore</th>\n",
              "      <th>Geography</th>\n",
              "      <th>Gender</th>\n",
              "      <th>Age</th>\n",
              "      <th>Tenure</th>\n",
              "      <th>Balance</th>\n",
              "      <th>NumOfProducts</th>\n",
              "      <th>HasCrCard</th>\n",
              "      <th>IsActiveMember</th>\n",
              "      <th>EstimatedSalary</th>\n",
              "      <th>Exited</th>\n",
              "    </tr>\n",
              "  </thead>\n",
              "  <tbody>\n",
              "    <tr>\n",
              "      <th>0</th>\n",
              "      <td>1</td>\n",
              "      <td>15634602</td>\n",
              "      <td>Hargrave</td>\n",
              "      <td>619</td>\n",
              "      <td>France</td>\n",
              "      <td>Female</td>\n",
              "      <td>42</td>\n",
              "      <td>2</td>\n",
              "      <td>0.00</td>\n",
              "      <td>1</td>\n",
              "      <td>1</td>\n",
              "      <td>1</td>\n",
              "      <td>101348.88</td>\n",
              "      <td>1</td>\n",
              "    </tr>\n",
              "    <tr>\n",
              "      <th>1</th>\n",
              "      <td>2</td>\n",
              "      <td>15647311</td>\n",
              "      <td>Hill</td>\n",
              "      <td>608</td>\n",
              "      <td>Spain</td>\n",
              "      <td>Female</td>\n",
              "      <td>41</td>\n",
              "      <td>1</td>\n",
              "      <td>83807.86</td>\n",
              "      <td>1</td>\n",
              "      <td>0</td>\n",
              "      <td>1</td>\n",
              "      <td>112542.58</td>\n",
              "      <td>0</td>\n",
              "    </tr>\n",
              "    <tr>\n",
              "      <th>2</th>\n",
              "      <td>3</td>\n",
              "      <td>15619304</td>\n",
              "      <td>Onio</td>\n",
              "      <td>502</td>\n",
              "      <td>France</td>\n",
              "      <td>Female</td>\n",
              "      <td>42</td>\n",
              "      <td>8</td>\n",
              "      <td>159660.80</td>\n",
              "      <td>3</td>\n",
              "      <td>1</td>\n",
              "      <td>0</td>\n",
              "      <td>113931.57</td>\n",
              "      <td>1</td>\n",
              "    </tr>\n",
              "    <tr>\n",
              "      <th>3</th>\n",
              "      <td>4</td>\n",
              "      <td>15701354</td>\n",
              "      <td>Boni</td>\n",
              "      <td>699</td>\n",
              "      <td>France</td>\n",
              "      <td>Female</td>\n",
              "      <td>39</td>\n",
              "      <td>1</td>\n",
              "      <td>0.00</td>\n",
              "      <td>2</td>\n",
              "      <td>0</td>\n",
              "      <td>0</td>\n",
              "      <td>93826.63</td>\n",
              "      <td>0</td>\n",
              "    </tr>\n",
              "    <tr>\n",
              "      <th>4</th>\n",
              "      <td>5</td>\n",
              "      <td>15737888</td>\n",
              "      <td>Mitchell</td>\n",
              "      <td>850</td>\n",
              "      <td>Spain</td>\n",
              "      <td>Female</td>\n",
              "      <td>43</td>\n",
              "      <td>2</td>\n",
              "      <td>125510.82</td>\n",
              "      <td>1</td>\n",
              "      <td>1</td>\n",
              "      <td>1</td>\n",
              "      <td>79084.10</td>\n",
              "      <td>0</td>\n",
              "    </tr>\n",
              "  </tbody>\n",
              "</table>\n",
              "</div>"
            ],
            "text/plain": [
              "   RowNumber  CustomerId   Surname  ...  IsActiveMember EstimatedSalary Exited\n",
              "0          1    15634602  Hargrave  ...               1       101348.88      1\n",
              "1          2    15647311      Hill  ...               1       112542.58      0\n",
              "2          3    15619304      Onio  ...               0       113931.57      1\n",
              "3          4    15701354      Boni  ...               0        93826.63      0\n",
              "4          5    15737888  Mitchell  ...               1        79084.10      0\n",
              "\n",
              "[5 rows x 14 columns]"
            ]
          },
          "metadata": {
            "tags": []
          },
          "execution_count": 3
        }
      ]
    },
    {
      "cell_type": "code",
      "metadata": {
        "id": "v74zRB2Qc3kw"
      },
      "source": [
        "# separating the x and y data\r\n",
        "x = data.iloc[:, 3:13]\r\n",
        "y = data.iloc[:, 13]"
      ],
      "execution_count": 4,
      "outputs": []
    },
    {
      "cell_type": "code",
      "metadata": {
        "colab": {
          "base_uri": "https://localhost:8080/"
        },
        "id": "qQvlCkf-dPn6",
        "outputId": "4f679b84-f467-4c9f-c49b-6aac2bdaeb52"
      },
      "source": [
        "# checking for any missing values\r\n",
        "data.isnull().sum()"
      ],
      "execution_count": 6,
      "outputs": [
        {
          "output_type": "execute_result",
          "data": {
            "text/plain": [
              "RowNumber          0\n",
              "CustomerId         0\n",
              "Surname            0\n",
              "CreditScore        0\n",
              "Geography          0\n",
              "Gender             0\n",
              "Age                0\n",
              "Tenure             0\n",
              "Balance            0\n",
              "NumOfProducts      0\n",
              "HasCrCard          0\n",
              "IsActiveMember     0\n",
              "EstimatedSalary    0\n",
              "Exited             0\n",
              "dtype: int64"
            ]
          },
          "metadata": {
            "tags": []
          },
          "execution_count": 6
        }
      ]
    },
    {
      "cell_type": "code",
      "metadata": {
        "id": "-grt9w4AyQb3"
      },
      "source": [
        "# converting the geography and gender fetures to the int format\r\n",
        "# calling the get_dummies function\r\n",
        "geography = pd.get_dummies(x['Geography'], drop_first = True)\r\n",
        "gender = pd.get_dummies(x['Gender'], drop_first= True)"
      ],
      "execution_count": 7,
      "outputs": []
    },
    {
      "cell_type": "code",
      "metadata": {
        "id": "b-92CMR4yz_G"
      },
      "source": [
        "x = pd.concat([x, geography, gender], axis = 1)\r\n",
        "x = x.drop(['Geography', 'Gender'], axis = 1)"
      ],
      "execution_count": 8,
      "outputs": []
    },
    {
      "cell_type": "code",
      "metadata": {
        "colab": {
          "base_uri": "https://localhost:8080/",
          "height": 221
        },
        "id": "-vmq9cS0zaVW",
        "outputId": "1c0d3e82-353d-4234-c0ca-b5b6b52a3b5c"
      },
      "source": [
        "print(x.shape)\r\n",
        "x.head()"
      ],
      "execution_count": 9,
      "outputs": [
        {
          "output_type": "stream",
          "text": [
            "(10000, 11)\n"
          ],
          "name": "stdout"
        },
        {
          "output_type": "execute_result",
          "data": {
            "text/html": [
              "<div>\n",
              "<style scoped>\n",
              "    .dataframe tbody tr th:only-of-type {\n",
              "        vertical-align: middle;\n",
              "    }\n",
              "\n",
              "    .dataframe tbody tr th {\n",
              "        vertical-align: top;\n",
              "    }\n",
              "\n",
              "    .dataframe thead th {\n",
              "        text-align: right;\n",
              "    }\n",
              "</style>\n",
              "<table border=\"1\" class=\"dataframe\">\n",
              "  <thead>\n",
              "    <tr style=\"text-align: right;\">\n",
              "      <th></th>\n",
              "      <th>CreditScore</th>\n",
              "      <th>Age</th>\n",
              "      <th>Tenure</th>\n",
              "      <th>Balance</th>\n",
              "      <th>NumOfProducts</th>\n",
              "      <th>HasCrCard</th>\n",
              "      <th>IsActiveMember</th>\n",
              "      <th>EstimatedSalary</th>\n",
              "      <th>Germany</th>\n",
              "      <th>Spain</th>\n",
              "      <th>Male</th>\n",
              "    </tr>\n",
              "  </thead>\n",
              "  <tbody>\n",
              "    <tr>\n",
              "      <th>0</th>\n",
              "      <td>619</td>\n",
              "      <td>42</td>\n",
              "      <td>2</td>\n",
              "      <td>0.00</td>\n",
              "      <td>1</td>\n",
              "      <td>1</td>\n",
              "      <td>1</td>\n",
              "      <td>101348.88</td>\n",
              "      <td>0</td>\n",
              "      <td>0</td>\n",
              "      <td>0</td>\n",
              "    </tr>\n",
              "    <tr>\n",
              "      <th>1</th>\n",
              "      <td>608</td>\n",
              "      <td>41</td>\n",
              "      <td>1</td>\n",
              "      <td>83807.86</td>\n",
              "      <td>1</td>\n",
              "      <td>0</td>\n",
              "      <td>1</td>\n",
              "      <td>112542.58</td>\n",
              "      <td>0</td>\n",
              "      <td>1</td>\n",
              "      <td>0</td>\n",
              "    </tr>\n",
              "    <tr>\n",
              "      <th>2</th>\n",
              "      <td>502</td>\n",
              "      <td>42</td>\n",
              "      <td>8</td>\n",
              "      <td>159660.80</td>\n",
              "      <td>3</td>\n",
              "      <td>1</td>\n",
              "      <td>0</td>\n",
              "      <td>113931.57</td>\n",
              "      <td>0</td>\n",
              "      <td>0</td>\n",
              "      <td>0</td>\n",
              "    </tr>\n",
              "    <tr>\n",
              "      <th>3</th>\n",
              "      <td>699</td>\n",
              "      <td>39</td>\n",
              "      <td>1</td>\n",
              "      <td>0.00</td>\n",
              "      <td>2</td>\n",
              "      <td>0</td>\n",
              "      <td>0</td>\n",
              "      <td>93826.63</td>\n",
              "      <td>0</td>\n",
              "      <td>0</td>\n",
              "      <td>0</td>\n",
              "    </tr>\n",
              "    <tr>\n",
              "      <th>4</th>\n",
              "      <td>850</td>\n",
              "      <td>43</td>\n",
              "      <td>2</td>\n",
              "      <td>125510.82</td>\n",
              "      <td>1</td>\n",
              "      <td>1</td>\n",
              "      <td>1</td>\n",
              "      <td>79084.10</td>\n",
              "      <td>0</td>\n",
              "      <td>1</td>\n",
              "      <td>0</td>\n",
              "    </tr>\n",
              "  </tbody>\n",
              "</table>\n",
              "</div>"
            ],
            "text/plain": [
              "   CreditScore  Age  Tenure    Balance  ...  EstimatedSalary  Germany  Spain  Male\n",
              "0          619   42       2       0.00  ...        101348.88        0      0     0\n",
              "1          608   41       1   83807.86  ...        112542.58        0      1     0\n",
              "2          502   42       8  159660.80  ...        113931.57        0      0     0\n",
              "3          699   39       1       0.00  ...         93826.63        0      0     0\n",
              "4          850   43       2  125510.82  ...         79084.10        0      1     0\n",
              "\n",
              "[5 rows x 11 columns]"
            ]
          },
          "metadata": {
            "tags": []
          },
          "execution_count": 9
        }
      ]
    },
    {
      "cell_type": "markdown",
      "metadata": {
        "id": "gCcNkkp0BTF6"
      },
      "source": [
        "***Building the Model***"
      ]
    },
    {
      "cell_type": "code",
      "metadata": {
        "id": "tfoQ3EAO2wYW"
      },
      "source": [
        "# splitting the x and y values and scaling them\r\n",
        "from sklearn.model_selection import train_test_split\r\n",
        "\r\n",
        "xtrain, xtest, ytrain, ytest = train_test_split(x,y, test_size = 0.8, random_state = 0)"
      ],
      "execution_count": 10,
      "outputs": []
    },
    {
      "cell_type": "code",
      "metadata": {
        "id": "XkPu5DGs3SoF"
      },
      "source": [
        "from sklearn.preprocessing import StandardScaler\r\n",
        "\r\n",
        "sc = StandardScaler()\r\n",
        "xtrain = sc.fit_transform(xtrain)\r\n",
        "xtest = sc.transform(xtest)"
      ],
      "execution_count": 11,
      "outputs": []
    },
    {
      "cell_type": "markdown",
      "metadata": {
        "id": "13eL_ibkBap_"
      },
      "source": [
        "**Tensorflow**\r\n"
      ]
    },
    {
      "cell_type": "markdown",
      "metadata": {
        "id": "tOKBLgrLByJH"
      },
      "source": [
        "***Building the ANN model***"
      ]
    },
    {
      "cell_type": "code",
      "metadata": {
        "id": "r-GZebs53ksn"
      },
      "source": [
        "# import the library\r\n",
        "import tensorflow as tf\r\n",
        "import tensorflow.keras\r\n",
        "from tensorflow.keras.models import Sequential\r\n",
        "from tensorflow.keras.layers import Dense\r\n",
        "from tensorflow.keras.layers import Dropout "
      ],
      "execution_count": 12,
      "outputs": []
    },
    {
      "cell_type": "code",
      "metadata": {
        "id": "2r1v9O8K4lxB"
      },
      "source": [
        "# making input, hidden and output layer\r\n",
        "model = Sequential()\r\n",
        "model.add(Dense(10, kernel_initializer = 'he_uniform', activation = 'relu', input_dim=11))\r\n",
        "model.add(Dense(10, kernel_initializer= 'he_uniform', activation= 'relu'))\r\n",
        "model.add(Dense(10, kernel_initializer= 'he_uniform', activation= 'relu'))\r\n",
        "model.add(Dense(1, kernel_initializer= 'glorot_uniform', activation= 'sigmoid'))"
      ],
      "execution_count": 24,
      "outputs": []
    },
    {
      "cell_type": "code",
      "metadata": {
        "id": "cLwu19dO6x-2"
      },
      "source": [
        "model.compile(optimizer= 'adam', loss= 'binary_crossentropy', metrics= ['accuracy'])"
      ],
      "execution_count": 25,
      "outputs": []
    },
    {
      "cell_type": "code",
      "metadata": {
        "colab": {
          "base_uri": "https://localhost:8080/"
        },
        "id": "pYfCVLNT7iBM",
        "outputId": "c733f82b-f02e-478d-cd44-d4de160edf15"
      },
      "source": [
        "model.summary()"
      ],
      "execution_count": 26,
      "outputs": [
        {
          "output_type": "stream",
          "text": [
            "Model: \"sequential_3\"\n",
            "_________________________________________________________________\n",
            "Layer (type)                 Output Shape              Param #   \n",
            "=================================================================\n",
            "dense_13 (Dense)             (None, 10)                120       \n",
            "_________________________________________________________________\n",
            "dense_14 (Dense)             (None, 10)                110       \n",
            "_________________________________________________________________\n",
            "dense_15 (Dense)             (None, 10)                110       \n",
            "_________________________________________________________________\n",
            "dense_16 (Dense)             (None, 1)                 11        \n",
            "=================================================================\n",
            "Total params: 351\n",
            "Trainable params: 351\n",
            "Non-trainable params: 0\n",
            "_________________________________________________________________\n"
          ],
          "name": "stdout"
        }
      ]
    },
    {
      "cell_type": "code",
      "metadata": {
        "colab": {
          "base_uri": "https://localhost:8080/"
        },
        "id": "O3z4lago8JMc",
        "outputId": "c9e21f2a-75d7-4965-b7cf-4bf669131615"
      },
      "source": [
        "model_history=model.fit(xtrain, ytrain,validation_split=0.33, batch_size = 100,epochs = 100)"
      ],
      "execution_count": 27,
      "outputs": [
        {
          "output_type": "stream",
          "text": [
            "Epoch 1/100\n",
            "14/14 [==============================] - 0s 12ms/step - loss: 1.0494 - accuracy: 0.2584 - val_loss: 0.9634 - val_accuracy: 0.2678\n",
            "Epoch 2/100\n",
            "14/14 [==============================] - 0s 3ms/step - loss: 0.9172 - accuracy: 0.2860 - val_loss: 0.8553 - val_accuracy: 0.3177\n",
            "Epoch 3/100\n",
            "14/14 [==============================] - 0s 3ms/step - loss: 0.8237 - accuracy: 0.3406 - val_loss: 0.7779 - val_accuracy: 0.3812\n",
            "Epoch 4/100\n",
            "14/14 [==============================] - 0s 3ms/step - loss: 0.7561 - accuracy: 0.4235 - val_loss: 0.7234 - val_accuracy: 0.4887\n",
            "Epoch 5/100\n",
            "14/14 [==============================] - 0s 3ms/step - loss: 0.7067 - accuracy: 0.5482 - val_loss: 0.6815 - val_accuracy: 0.5976\n",
            "Epoch 6/100\n",
            "14/14 [==============================] - 0s 3ms/step - loss: 0.6683 - accuracy: 0.6191 - val_loss: 0.6468 - val_accuracy: 0.7005\n",
            "Epoch 7/100\n",
            "14/14 [==============================] - 0s 3ms/step - loss: 0.6372 - accuracy: 0.6856 - val_loss: 0.6177 - val_accuracy: 0.7534\n",
            "Epoch 8/100\n",
            "14/14 [==============================] - 0s 3ms/step - loss: 0.6101 - accuracy: 0.7356 - val_loss: 0.5941 - val_accuracy: 0.7806\n",
            "Epoch 9/100\n",
            "14/14 [==============================] - 0s 3ms/step - loss: 0.5879 - accuracy: 0.7647 - val_loss: 0.5728 - val_accuracy: 0.7837\n",
            "Epoch 10/100\n",
            "14/14 [==============================] - 0s 3ms/step - loss: 0.5697 - accuracy: 0.7849 - val_loss: 0.5542 - val_accuracy: 0.7943\n",
            "Epoch 11/100\n",
            "14/14 [==============================] - 0s 3ms/step - loss: 0.5537 - accuracy: 0.7939 - val_loss: 0.5401 - val_accuracy: 0.7988\n",
            "Epoch 12/100\n",
            "14/14 [==============================] - 0s 3ms/step - loss: 0.5417 - accuracy: 0.7954 - val_loss: 0.5288 - val_accuracy: 0.8064\n",
            "Epoch 13/100\n",
            "14/14 [==============================] - 0s 3ms/step - loss: 0.5335 - accuracy: 0.7961 - val_loss: 0.5195 - val_accuracy: 0.8064\n",
            "Epoch 14/100\n",
            "14/14 [==============================] - 0s 3ms/step - loss: 0.5259 - accuracy: 0.7961 - val_loss: 0.5131 - val_accuracy: 0.8064\n",
            "Epoch 15/100\n",
            "14/14 [==============================] - 0s 3ms/step - loss: 0.5202 - accuracy: 0.7961 - val_loss: 0.5080 - val_accuracy: 0.8064\n",
            "Epoch 16/100\n",
            "14/14 [==============================] - 0s 3ms/step - loss: 0.5154 - accuracy: 0.7961 - val_loss: 0.5030 - val_accuracy: 0.8064\n",
            "Epoch 17/100\n",
            "14/14 [==============================] - 0s 3ms/step - loss: 0.5108 - accuracy: 0.7961 - val_loss: 0.4990 - val_accuracy: 0.8064\n",
            "Epoch 18/100\n",
            "14/14 [==============================] - 0s 3ms/step - loss: 0.5071 - accuracy: 0.7961 - val_loss: 0.4951 - val_accuracy: 0.8064\n",
            "Epoch 19/100\n",
            "14/14 [==============================] - 0s 3ms/step - loss: 0.5033 - accuracy: 0.7961 - val_loss: 0.4917 - val_accuracy: 0.8064\n",
            "Epoch 20/100\n",
            "14/14 [==============================] - 0s 3ms/step - loss: 0.5003 - accuracy: 0.7961 - val_loss: 0.4887 - val_accuracy: 0.8064\n",
            "Epoch 21/100\n",
            "14/14 [==============================] - 0s 3ms/step - loss: 0.4972 - accuracy: 0.7961 - val_loss: 0.4861 - val_accuracy: 0.8064\n",
            "Epoch 22/100\n",
            "14/14 [==============================] - 0s 3ms/step - loss: 0.4941 - accuracy: 0.7961 - val_loss: 0.4835 - val_accuracy: 0.8064\n",
            "Epoch 23/100\n",
            "14/14 [==============================] - 0s 3ms/step - loss: 0.4916 - accuracy: 0.7961 - val_loss: 0.4808 - val_accuracy: 0.8064\n",
            "Epoch 24/100\n",
            "14/14 [==============================] - 0s 3ms/step - loss: 0.4890 - accuracy: 0.7961 - val_loss: 0.4784 - val_accuracy: 0.8064\n",
            "Epoch 25/100\n",
            "14/14 [==============================] - 0s 3ms/step - loss: 0.4864 - accuracy: 0.7961 - val_loss: 0.4763 - val_accuracy: 0.8064\n",
            "Epoch 26/100\n",
            "14/14 [==============================] - 0s 3ms/step - loss: 0.4842 - accuracy: 0.7961 - val_loss: 0.4743 - val_accuracy: 0.8064\n",
            "Epoch 27/100\n",
            "14/14 [==============================] - 0s 3ms/step - loss: 0.4820 - accuracy: 0.7961 - val_loss: 0.4722 - val_accuracy: 0.8064\n",
            "Epoch 28/100\n",
            "14/14 [==============================] - 0s 3ms/step - loss: 0.4798 - accuracy: 0.7961 - val_loss: 0.4702 - val_accuracy: 0.8064\n",
            "Epoch 29/100\n",
            "14/14 [==============================] - 0s 3ms/step - loss: 0.4775 - accuracy: 0.7961 - val_loss: 0.4682 - val_accuracy: 0.8064\n",
            "Epoch 30/100\n",
            "14/14 [==============================] - 0s 3ms/step - loss: 0.4754 - accuracy: 0.7961 - val_loss: 0.4660 - val_accuracy: 0.8064\n",
            "Epoch 31/100\n",
            "14/14 [==============================] - 0s 3ms/step - loss: 0.4732 - accuracy: 0.7961 - val_loss: 0.4641 - val_accuracy: 0.8064\n",
            "Epoch 32/100\n",
            "14/14 [==============================] - 0s 3ms/step - loss: 0.4712 - accuracy: 0.7961 - val_loss: 0.4624 - val_accuracy: 0.8064\n",
            "Epoch 33/100\n",
            "14/14 [==============================] - 0s 3ms/step - loss: 0.4691 - accuracy: 0.7961 - val_loss: 0.4606 - val_accuracy: 0.8064\n",
            "Epoch 34/100\n",
            "14/14 [==============================] - 0s 3ms/step - loss: 0.4671 - accuracy: 0.7961 - val_loss: 0.4587 - val_accuracy: 0.8064\n",
            "Epoch 35/100\n",
            "14/14 [==============================] - 0s 3ms/step - loss: 0.4650 - accuracy: 0.7961 - val_loss: 0.4569 - val_accuracy: 0.8064\n",
            "Epoch 36/100\n",
            "14/14 [==============================] - 0s 3ms/step - loss: 0.4631 - accuracy: 0.7961 - val_loss: 0.4549 - val_accuracy: 0.8064\n",
            "Epoch 37/100\n",
            "14/14 [==============================] - 0s 3ms/step - loss: 0.4610 - accuracy: 0.7961 - val_loss: 0.4531 - val_accuracy: 0.8064\n",
            "Epoch 38/100\n",
            "14/14 [==============================] - 0s 3ms/step - loss: 0.4590 - accuracy: 0.7961 - val_loss: 0.4513 - val_accuracy: 0.8064\n",
            "Epoch 39/100\n",
            "14/14 [==============================] - 0s 3ms/step - loss: 0.4571 - accuracy: 0.7961 - val_loss: 0.4494 - val_accuracy: 0.8064\n",
            "Epoch 40/100\n",
            "14/14 [==============================] - 0s 3ms/step - loss: 0.4551 - accuracy: 0.7961 - val_loss: 0.4472 - val_accuracy: 0.8064\n",
            "Epoch 41/100\n",
            "14/14 [==============================] - 0s 3ms/step - loss: 0.4530 - accuracy: 0.7961 - val_loss: 0.4452 - val_accuracy: 0.8064\n",
            "Epoch 42/100\n",
            "14/14 [==============================] - 0s 3ms/step - loss: 0.4511 - accuracy: 0.7961 - val_loss: 0.4431 - val_accuracy: 0.8064\n",
            "Epoch 43/100\n",
            "14/14 [==============================] - 0s 3ms/step - loss: 0.4492 - accuracy: 0.7961 - val_loss: 0.4410 - val_accuracy: 0.8064\n",
            "Epoch 44/100\n",
            "14/14 [==============================] - 0s 3ms/step - loss: 0.4475 - accuracy: 0.7961 - val_loss: 0.4393 - val_accuracy: 0.8064\n",
            "Epoch 45/100\n",
            "14/14 [==============================] - 0s 3ms/step - loss: 0.4454 - accuracy: 0.7961 - val_loss: 0.4374 - val_accuracy: 0.8064\n",
            "Epoch 46/100\n",
            "14/14 [==============================] - 0s 3ms/step - loss: 0.4436 - accuracy: 0.7961 - val_loss: 0.4355 - val_accuracy: 0.8064\n",
            "Epoch 47/100\n",
            "14/14 [==============================] - 0s 3ms/step - loss: 0.4414 - accuracy: 0.7961 - val_loss: 0.4328 - val_accuracy: 0.8064\n",
            "Epoch 48/100\n",
            "14/14 [==============================] - 0s 3ms/step - loss: 0.4392 - accuracy: 0.7961 - val_loss: 0.4304 - val_accuracy: 0.8079\n",
            "Epoch 49/100\n",
            "14/14 [==============================] - 0s 3ms/step - loss: 0.4369 - accuracy: 0.7984 - val_loss: 0.4274 - val_accuracy: 0.8064\n",
            "Epoch 50/100\n",
            "14/14 [==============================] - 0s 3ms/step - loss: 0.4345 - accuracy: 0.7999 - val_loss: 0.4249 - val_accuracy: 0.8079\n",
            "Epoch 51/100\n",
            "14/14 [==============================] - 0s 3ms/step - loss: 0.4324 - accuracy: 0.8013 - val_loss: 0.4220 - val_accuracy: 0.8094\n",
            "Epoch 52/100\n",
            "14/14 [==============================] - 0s 3ms/step - loss: 0.4303 - accuracy: 0.8021 - val_loss: 0.4193 - val_accuracy: 0.8124\n",
            "Epoch 53/100\n",
            "14/14 [==============================] - 0s 3ms/step - loss: 0.4279 - accuracy: 0.8043 - val_loss: 0.4172 - val_accuracy: 0.8185\n",
            "Epoch 54/100\n",
            "14/14 [==============================] - 0s 3ms/step - loss: 0.4257 - accuracy: 0.8043 - val_loss: 0.4153 - val_accuracy: 0.8230\n",
            "Epoch 55/100\n",
            "14/14 [==============================] - 0s 3ms/step - loss: 0.4233 - accuracy: 0.8058 - val_loss: 0.4131 - val_accuracy: 0.8215\n",
            "Epoch 56/100\n",
            "14/14 [==============================] - 0s 3ms/step - loss: 0.4212 - accuracy: 0.8088 - val_loss: 0.4118 - val_accuracy: 0.8245\n",
            "Epoch 57/100\n",
            "14/14 [==============================] - 0s 3ms/step - loss: 0.4185 - accuracy: 0.8140 - val_loss: 0.4094 - val_accuracy: 0.8245\n",
            "Epoch 58/100\n",
            "14/14 [==============================] - 0s 3ms/step - loss: 0.4158 - accuracy: 0.8170 - val_loss: 0.4073 - val_accuracy: 0.8336\n",
            "Epoch 59/100\n",
            "14/14 [==============================] - 0s 3ms/step - loss: 0.4130 - accuracy: 0.8163 - val_loss: 0.4058 - val_accuracy: 0.8321\n",
            "Epoch 60/100\n",
            "14/14 [==============================] - 0s 3ms/step - loss: 0.4108 - accuracy: 0.8193 - val_loss: 0.4046 - val_accuracy: 0.8321\n",
            "Epoch 61/100\n",
            "14/14 [==============================] - 0s 3ms/step - loss: 0.4088 - accuracy: 0.8208 - val_loss: 0.4033 - val_accuracy: 0.8336\n",
            "Epoch 62/100\n",
            "14/14 [==============================] - 0s 3ms/step - loss: 0.4066 - accuracy: 0.8252 - val_loss: 0.4027 - val_accuracy: 0.8321\n",
            "Epoch 63/100\n",
            "14/14 [==============================] - 0s 3ms/step - loss: 0.4044 - accuracy: 0.8290 - val_loss: 0.4023 - val_accuracy: 0.8336\n",
            "Epoch 64/100\n",
            "14/14 [==============================] - 0s 3ms/step - loss: 0.4025 - accuracy: 0.8327 - val_loss: 0.4020 - val_accuracy: 0.8306\n",
            "Epoch 65/100\n",
            "14/14 [==============================] - 0s 3ms/step - loss: 0.4004 - accuracy: 0.8312 - val_loss: 0.4017 - val_accuracy: 0.8321\n",
            "Epoch 66/100\n",
            "14/14 [==============================] - 0s 3ms/step - loss: 0.3983 - accuracy: 0.8312 - val_loss: 0.4012 - val_accuracy: 0.8275\n",
            "Epoch 67/100\n",
            "14/14 [==============================] - 0s 3ms/step - loss: 0.3965 - accuracy: 0.8335 - val_loss: 0.4006 - val_accuracy: 0.8275\n",
            "Epoch 68/100\n",
            "14/14 [==============================] - 0s 4ms/step - loss: 0.3952 - accuracy: 0.8335 - val_loss: 0.4001 - val_accuracy: 0.8290\n",
            "Epoch 69/100\n",
            "14/14 [==============================] - 0s 4ms/step - loss: 0.3933 - accuracy: 0.8342 - val_loss: 0.3992 - val_accuracy: 0.8306\n",
            "Epoch 70/100\n",
            "14/14 [==============================] - 0s 3ms/step - loss: 0.3918 - accuracy: 0.8357 - val_loss: 0.3986 - val_accuracy: 0.8321\n",
            "Epoch 71/100\n",
            "14/14 [==============================] - 0s 3ms/step - loss: 0.3902 - accuracy: 0.8387 - val_loss: 0.3980 - val_accuracy: 0.8336\n",
            "Epoch 72/100\n",
            "14/14 [==============================] - 0s 3ms/step - loss: 0.3889 - accuracy: 0.8409 - val_loss: 0.3974 - val_accuracy: 0.8366\n",
            "Epoch 73/100\n",
            "14/14 [==============================] - 0s 4ms/step - loss: 0.3874 - accuracy: 0.8417 - val_loss: 0.3968 - val_accuracy: 0.8381\n",
            "Epoch 74/100\n",
            "14/14 [==============================] - 0s 3ms/step - loss: 0.3860 - accuracy: 0.8439 - val_loss: 0.3964 - val_accuracy: 0.8381\n",
            "Epoch 75/100\n",
            "14/14 [==============================] - 0s 3ms/step - loss: 0.3846 - accuracy: 0.8462 - val_loss: 0.3955 - val_accuracy: 0.8396\n",
            "Epoch 76/100\n",
            "14/14 [==============================] - 0s 3ms/step - loss: 0.3835 - accuracy: 0.8476 - val_loss: 0.3949 - val_accuracy: 0.8411\n",
            "Epoch 77/100\n",
            "14/14 [==============================] - 0s 3ms/step - loss: 0.3821 - accuracy: 0.8491 - val_loss: 0.3943 - val_accuracy: 0.8411\n",
            "Epoch 78/100\n",
            "14/14 [==============================] - 0s 3ms/step - loss: 0.3804 - accuracy: 0.8514 - val_loss: 0.3940 - val_accuracy: 0.8442\n",
            "Epoch 79/100\n",
            "14/14 [==============================] - 0s 3ms/step - loss: 0.3794 - accuracy: 0.8521 - val_loss: 0.3932 - val_accuracy: 0.8427\n",
            "Epoch 80/100\n",
            "14/14 [==============================] - 0s 3ms/step - loss: 0.3779 - accuracy: 0.8521 - val_loss: 0.3926 - val_accuracy: 0.8411\n",
            "Epoch 81/100\n",
            "14/14 [==============================] - 0s 3ms/step - loss: 0.3761 - accuracy: 0.8529 - val_loss: 0.3923 - val_accuracy: 0.8427\n",
            "Epoch 82/100\n",
            "14/14 [==============================] - 0s 3ms/step - loss: 0.3751 - accuracy: 0.8521 - val_loss: 0.3913 - val_accuracy: 0.8411\n",
            "Epoch 83/100\n",
            "14/14 [==============================] - 0s 3ms/step - loss: 0.3736 - accuracy: 0.8521 - val_loss: 0.3915 - val_accuracy: 0.8427\n",
            "Epoch 84/100\n",
            "14/14 [==============================] - 0s 3ms/step - loss: 0.3716 - accuracy: 0.8544 - val_loss: 0.3906 - val_accuracy: 0.8442\n",
            "Epoch 85/100\n",
            "14/14 [==============================] - 0s 3ms/step - loss: 0.3702 - accuracy: 0.8566 - val_loss: 0.3894 - val_accuracy: 0.8427\n",
            "Epoch 86/100\n",
            "14/14 [==============================] - 0s 3ms/step - loss: 0.3687 - accuracy: 0.8551 - val_loss: 0.3884 - val_accuracy: 0.8442\n",
            "Epoch 87/100\n",
            "14/14 [==============================] - 0s 3ms/step - loss: 0.3675 - accuracy: 0.8551 - val_loss: 0.3880 - val_accuracy: 0.8427\n",
            "Epoch 88/100\n",
            "14/14 [==============================] - 0s 3ms/step - loss: 0.3657 - accuracy: 0.8566 - val_loss: 0.3879 - val_accuracy: 0.8427\n",
            "Epoch 89/100\n",
            "14/14 [==============================] - 0s 4ms/step - loss: 0.3645 - accuracy: 0.8544 - val_loss: 0.3876 - val_accuracy: 0.8427\n",
            "Epoch 90/100\n",
            "14/14 [==============================] - 0s 3ms/step - loss: 0.3633 - accuracy: 0.8559 - val_loss: 0.3868 - val_accuracy: 0.8427\n",
            "Epoch 91/100\n",
            "14/14 [==============================] - 0s 3ms/step - loss: 0.3619 - accuracy: 0.8581 - val_loss: 0.3863 - val_accuracy: 0.8442\n",
            "Epoch 92/100\n",
            "14/14 [==============================] - 0s 3ms/step - loss: 0.3604 - accuracy: 0.8588 - val_loss: 0.3860 - val_accuracy: 0.8427\n",
            "Epoch 93/100\n",
            "14/14 [==============================] - 0s 3ms/step - loss: 0.3595 - accuracy: 0.8611 - val_loss: 0.3857 - val_accuracy: 0.8427\n",
            "Epoch 94/100\n",
            "14/14 [==============================] - 0s 3ms/step - loss: 0.3583 - accuracy: 0.8611 - val_loss: 0.3853 - val_accuracy: 0.8457\n",
            "Epoch 95/100\n",
            "14/14 [==============================] - 0s 3ms/step - loss: 0.3571 - accuracy: 0.8618 - val_loss: 0.3851 - val_accuracy: 0.8472\n",
            "Epoch 96/100\n",
            "14/14 [==============================] - 0s 3ms/step - loss: 0.3561 - accuracy: 0.8618 - val_loss: 0.3843 - val_accuracy: 0.8411\n",
            "Epoch 97/100\n",
            "14/14 [==============================] - 0s 3ms/step - loss: 0.3559 - accuracy: 0.8611 - val_loss: 0.3843 - val_accuracy: 0.8396\n",
            "Epoch 98/100\n",
            "14/14 [==============================] - 0s 4ms/step - loss: 0.3537 - accuracy: 0.8633 - val_loss: 0.3844 - val_accuracy: 0.8427\n",
            "Epoch 99/100\n",
            "14/14 [==============================] - 0s 3ms/step - loss: 0.3529 - accuracy: 0.8611 - val_loss: 0.3841 - val_accuracy: 0.8411\n",
            "Epoch 100/100\n",
            "14/14 [==============================] - 0s 3ms/step - loss: 0.3516 - accuracy: 0.8626 - val_loss: 0.3833 - val_accuracy: 0.8427\n"
          ],
          "name": "stdout"
        }
      ]
    },
    {
      "cell_type": "code",
      "metadata": {
        "colab": {
          "base_uri": "https://localhost:8080/"
        },
        "id": "Lg2OSW6s9KlX",
        "outputId": "ad26fc30-fe21-47ae-ddf6-2e66a702fac6"
      },
      "source": [
        "model_history.history.keys()"
      ],
      "execution_count": 28,
      "outputs": [
        {
          "output_type": "execute_result",
          "data": {
            "text/plain": [
              "dict_keys(['loss', 'accuracy', 'val_loss', 'val_accuracy'])"
            ]
          },
          "metadata": {
            "tags": []
          },
          "execution_count": 28
        }
      ]
    },
    {
      "cell_type": "code",
      "metadata": {
        "colab": {
          "base_uri": "https://localhost:8080/",
          "height": 312
        },
        "id": "rqBKj1GG-i6i",
        "outputId": "dffc57c0-da0a-45e8-8ee1-7b726155beeb"
      },
      "source": [
        "# visualising the accuracy vs. validation accuracy plot\r\n",
        "# summarize history for accuracy\r\n",
        "plt.plot(model_history.history['accuracy'])\r\n",
        "plt.plot(model_history.history['val_accuracy'])\r\n",
        "plt.title('model accuracy')\r\n",
        "plt.ylabel('accuracy')\r\n",
        "plt.xlabel('epoch')\r\n",
        "plt.legend(['train', 'test'], loc='upper left')\r\n",
        "plt.show()"
      ],
      "execution_count": 29,
      "outputs": [
        {
          "output_type": "stream",
          "text": [
            "dict_keys(['loss', 'accuracy', 'val_loss', 'val_accuracy'])\n"
          ],
          "name": "stdout"
        },
        {
          "output_type": "display_data",
          "data": {
            "image/png": "[encoded data removed]",
            "text/plain": [
              "<Figure size 432x288 with 1 Axes>"
            ]
          },
          "metadata": {
            "tags": [],
            "needs_background": "light"
          }
        }
      ]
    },
    {
      "cell_type": "code",
      "metadata": {
        "colab": {
          "base_uri": "https://localhost:8080/",
          "height": 295
        },
        "id": "3_HzIEVw_AC4",
        "outputId": "f7ec036a-4d3e-4ad7-f38a-d3f4d5692fd8"
      },
      "source": [
        "# visualising the train and test loss\r\n",
        "# summarize history for loss\r\n",
        "plt.plot(model_history.history['loss'])\r\n",
        "plt.plot(model_history.history['val_loss'])\r\n",
        "plt.title('model loss')\r\n",
        "plt.ylabel('loss')\r\n",
        "plt.xlabel('epoch')\r\n",
        "plt.legend(['train', 'test'], loc='upper left')\r\n",
        "plt.show()"
      ],
      "execution_count": 30,
      "outputs": [
        {
          "output_type": "display_data",
          "data": {
            "image/png": "[encoded data removed]",
            "text/plain": [
              "<Figure size 432x288 with 1 Axes>"
            ]
          },
          "metadata": {
            "tags": [],
            "needs_background": "light"
          }
        }
      ]
    },
    {
      "cell_type": "code",
      "metadata": {
        "id": "8_Nd1EEk-_-n"
      },
      "source": [
        "# Part 3 - Making the predictions and evaluating the model\r\n",
        "\r\n",
        "# Predicting the Test set results\r\n",
        "y_pred = model.predict(xtest)\r\n",
        "y_pred = (y_pred > 0.5)"
      ],
      "execution_count": 31,
      "outputs": []
    },
    {
      "cell_type": "code",
      "metadata": {
        "colab": {
          "base_uri": "https://localhost:8080/"
        },
        "id": "KvjwAqYn_RCG",
        "outputId": "ea6f1198-6d99-4fa8-ff08-51b3167dfa30"
      },
      "source": [
        "y_pred"
      ],
      "execution_count": 32,
      "outputs": [
        {
          "output_type": "execute_result",
          "data": {
            "text/plain": [
              "array([[False],\n",
              "       [False],\n",
              "       [False],\n",
              "       ...,\n",
              "       [False],\n",
              "       [False],\n",
              "       [False]])"
            ]
          },
          "metadata": {
            "tags": []
          },
          "execution_count": 32
        }
      ]
    },
    {
      "cell_type": "code",
      "metadata": {
        "colab": {
          "base_uri": "https://localhost:8080/"
        },
        "id": "wYArEg4H_TYA",
        "outputId": "d4bfafec-7d04-4c11-de34-ef28cb0188a2"
      },
      "source": [
        "# Making the Confusion Matrix\r\n",
        "from sklearn.metrics import confusion_matrix\r\n",
        "cm = confusion_matrix(ytest, y_pred)\r\n",
        "cm"
      ],
      "execution_count": 34,
      "outputs": [
        {
          "output_type": "execute_result",
          "data": {
            "text/plain": [
              "array([[6028,  336],\n",
              "       [ 926,  710]])"
            ]
          },
          "metadata": {
            "tags": []
          },
          "execution_count": 34
        }
      ]
    },
    {
      "cell_type": "code",
      "metadata": {
        "colab": {
          "base_uri": "https://localhost:8080/"
        },
        "id": "Vlzr3O6A_bvu",
        "outputId": "37b0c072-6d17-4216-f063-12b4e5e926e1"
      },
      "source": [
        "# calculate the accuracy\r\n",
        "from sklearn.metrics import accuracy_score\r\n",
        "\r\n",
        "print(accuracy_score(ytest, y_pred))"
      ],
      "execution_count": 35,
      "outputs": [
        {
          "output_type": "stream",
          "text": [
            "0.84225\n"
          ],
          "name": "stdout"
        }
      ]
    },
    {
      "cell_type": "code",
      "metadata": {
        "id": "Jed6dX5V_4nY"
      },
      "source": [
        ""
      ],
      "execution_count": null,
      "outputs": []
    }
  ]
}