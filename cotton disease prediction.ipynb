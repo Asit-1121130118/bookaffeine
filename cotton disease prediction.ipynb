{
  "nbformat": 4,
  "nbformat_minor": 0,
  "metadata": {
    "colab": {
      "name": "Untitled2.ipynb",
      "provenance": [],
      "toc_visible": true,
      "mount_file_id": "1RSrNcH20oiUkIsWwZDbNUviF5sEyNcYP",
      "authorship_tag": "ABX9TyM7zgzLuu48aECTn81CT7Qh",
      "include_colab_link": true
    },
    "kernelspec": {
      "name": "python3",
      "display_name": "Python 3"
    }
  },
  "cells": [
    {
      "cell_type": "markdown",
      "metadata": {
        "id": "view-in-github",
        "colab_type": "text"
      },
      "source": [
        "<a href=\"https://colab.research.google.com/github/Asit-1121130118/practice-projects/blob/master/cotton%20disease%20prediction.ipynb\" target=\"_parent\"><img src=\"https://colab.research.google.com/assets/colab-badge.svg\" alt=\"Open In Colab\"/></a>"
      ]
    },
    {
      "cell_type": "markdown",
      "metadata": {
        "id": "duA-KNFbs5ry"
      },
      "source": [
        "**Cotton disease prediction**"
      ]
    },
    {
      "cell_type": "markdown",
      "metadata": {
        "id": "j3m6g-F-tDpf"
      },
      "source": [
        "*Making the prediction for diseased cotton leaf using CNN model*"
      ]
    },
    {
      "cell_type": "markdown",
      "metadata": {
        "id": "Q517CjCytXQW"
      },
      "source": [
        "***Importing the required library***"
      ]
    },
    {
      "cell_type": "code",
      "metadata": {
        "colab": {
          "base_uri": "https://localhost:8080/"
        },
        "id": "KaSvrEtmswvM",
        "outputId": "1181a4b6-746a-4e4c-ed73-e0e0a98828eb"
      },
      "source": [
        "# importing the libraries\r\n",
        "\r\n",
        "import tensorflow as tf\r\n",
        "import numpy as np\r\n",
        "import pandas as pd\r\n",
        "import matplotlib.pyplot as plt\r\n",
        "# checking the version for tensorflow\r\n",
        "print(tf.__version__)"
      ],
      "execution_count": 1,
      "outputs": [
        {
          "output_type": "stream",
          "text": [
            "2.3.0\n"
          ],
          "name": "stdout"
        }
      ]
    },
    {
      "cell_type": "markdown",
      "metadata": {
        "id": "pCKj21GztmQe"
      },
      "source": [
        "*using ImageDataGenerator for preprocessing the image and scaling it.*"
      ]
    },
    {
      "cell_type": "code",
      "metadata": {
        "id": "8618jZSNgeUh"
      },
      "source": [
        "from tensorflow.keras.preprocessing.image import ImageDataGenerator\r\n",
        "\r\n",
        "# Part 1 - Data Preprocessing\r\n",
        "\r\n",
        "# Preprocessing the Training set\r\n",
        "train_datagen = ImageDataGenerator(rescale = 1./255,\r\n",
        "                                   shear_range = 0.2,\r\n",
        "                                   zoom_range = 0.2,\r\n",
        "                                   horizontal_flip = True)\r\n"
      ],
      "execution_count": 2,
      "outputs": []
    },
    {
      "cell_type": "code",
      "metadata": {
        "colab": {
          "base_uri": "https://localhost:8080/"
        },
        "id": "HxZwQ9KmgeYN",
        "outputId": "946c8feb-b4c3-496c-b97f-ad5dcb4fcafd"
      },
      "source": [
        "training_set = train_datagen.flow_from_directory('/content/drive/MyDrive/datasets/Cotton Disease/train',\r\n",
        "                                                 target_size = (64, 64),\r\n",
        "                                                 batch_size = 32,\r\n",
        "                                                 class_mode = 'binary')\r\n"
      ],
      "execution_count": 3,
      "outputs": [
        {
          "output_type": "stream",
          "text": [
            "Found 715 images belonging to 2 classes.\n"
          ],
          "name": "stdout"
        }
      ]
    },
    {
      "cell_type": "code",
      "metadata": {
        "colab": {
          "base_uri": "https://localhost:8080/"
        },
        "id": "-fDC6YMKgeb7",
        "outputId": "0df30e2e-e546-4e2a-f9b9-340a835a2a7e"
      },
      "source": [
        "# Preprocessing the Test set\r\n",
        "test_datagen = ImageDataGenerator(rescale = 1./255)\r\n",
        "test_set = test_datagen.flow_from_directory('/content/drive/MyDrive/datasets/Cotton Disease/test',\r\n",
        "                                            target_size = (64, 64),\r\n",
        "                                            batch_size = 32,\r\n",
        "                                            class_mode = 'binary')"
      ],
      "execution_count": 4,
      "outputs": [
        {
          "output_type": "stream",
          "text": [
            "Found 51 images belonging to 2 classes.\n"
          ],
          "name": "stdout"
        }
      ]
    },
    {
      "cell_type": "markdown",
      "metadata": {
        "id": "Y8vaSiNPt8DY"
      },
      "source": [
        "***Building the Model***"
      ]
    },
    {
      "cell_type": "code",
      "metadata": {
        "id": "KJHxzVgJgefQ"
      },
      "source": [
        "from tensorflow.keras.layers import Conv2D\r\n",
        "\r\n",
        "# Part 2 - Building the CNN\r\n",
        "\r\n",
        "# Initialising the CNN\r\n",
        "cnn = tf.keras.models.Sequential()\r\n",
        "\r\n",
        "# Step 1 - Convolution\r\n",
        "cnn.add(tf.keras.layers.Conv2D(filters=32,padding=\"same\",kernel_size=3, activation='relu', input_shape=[64, 64, 3]))\r\n",
        "\r\n",
        "# Step 2 - Pooling\r\n",
        "cnn.add(tf.keras.layers.MaxPool2D(pool_size=2, strides=2))\r\n",
        "\r\n",
        "# Adding a second convolutional layer\r\n",
        "cnn.add(tf.keras.layers.Conv2D(filters=32,padding='same',kernel_size=3, activation='relu'))\r\n",
        "cnn.add(tf.keras.layers.MaxPool2D(pool_size=2, strides=2))\r\n",
        "\r\n",
        "# Step 3 - Flattening\r\n",
        "cnn.add(tf.keras.layers.Flatten())\r\n",
        "\r\n",
        "# Step 4 - Full Connection\r\n",
        "cnn.add(tf.keras.layers.Dense(units=128, activation='relu'))\r\n",
        "\r\n",
        "# Step 5 - Output Layer\r\n",
        "cnn.add(tf.keras.layers.Dense(units=1, activation='sigmoid'))"
      ],
      "execution_count": 5,
      "outputs": []
    },
    {
      "cell_type": "code",
      "metadata": {
        "colab": {
          "base_uri": "https://localhost:8080/"
        },
        "id": "y9HGeZ_QgejT",
        "outputId": "e76a4e20-dd06-429c-f14d-18792cb87d0c"
      },
      "source": [
        "cnn.summary()"
      ],
      "execution_count": 6,
      "outputs": [
        {
          "output_type": "stream",
          "text": [
            "Model: \"sequential\"\n",
            "_________________________________________________________________\n",
            "Layer (type)                 Output Shape              Param #   \n",
            "=================================================================\n",
            "conv2d (Conv2D)              (None, 64, 64, 32)        896       \n",
            "_________________________________________________________________\n",
            "max_pooling2d (MaxPooling2D) (None, 32, 32, 32)        0         \n",
            "_________________________________________________________________\n",
            "conv2d_1 (Conv2D)            (None, 32, 32, 32)        9248      \n",
            "_________________________________________________________________\n",
            "max_pooling2d_1 (MaxPooling2 (None, 16, 16, 32)        0         \n",
            "_________________________________________________________________\n",
            "flatten (Flatten)            (None, 8192)              0         \n",
            "_________________________________________________________________\n",
            "dense (Dense)                (None, 128)               1048704   \n",
            "_________________________________________________________________\n",
            "dense_1 (Dense)              (None, 1)                 129       \n",
            "=================================================================\n",
            "Total params: 1,058,977\n",
            "Trainable params: 1,058,977\n",
            "Non-trainable params: 0\n",
            "_________________________________________________________________\n"
          ],
          "name": "stdout"
        }
      ]
    },
    {
      "cell_type": "code",
      "metadata": {
        "colab": {
          "base_uri": "https://localhost:8080/"
        },
        "id": "seflTA6PhlAe",
        "outputId": "217b68c5-b65f-4541-b135-f6dbc14f2210"
      },
      "source": [
        "# Part 3 - Training the CNN\r\n",
        "\r\n",
        "# Compiling the CNN\r\n",
        "cnn.compile(optimizer = 'adam', loss = 'binary_crossentropy', metrics = ['accuracy'])\r\n",
        "\r\n",
        "# Training the CNN on the Training set and evaluating it on the Test set\r\n",
        "cnn.fit(x = training_set, validation_data = test_set, epochs = 20)"
      ],
      "execution_count": 7,
      "outputs": [
        {
          "output_type": "stream",
          "text": [
            "Epoch 1/20\n",
            "23/23 [==============================] - 14s 596ms/step - loss: 0.6827 - accuracy: 0.5846 - val_loss: 0.5539 - val_accuracy: 0.7255\n",
            "Epoch 2/20\n",
            "23/23 [==============================] - 12s 531ms/step - loss: 0.4290 - accuracy: 0.8308 - val_loss: 0.2997 - val_accuracy: 0.8824\n",
            "Epoch 3/20\n",
            "23/23 [==============================] - 12s 527ms/step - loss: 0.3351 - accuracy: 0.8531 - val_loss: 0.2993 - val_accuracy: 0.8431\n",
            "Epoch 4/20\n",
            "23/23 [==============================] - 12s 524ms/step - loss: 0.2703 - accuracy: 0.8951 - val_loss: 0.3350 - val_accuracy: 0.8235\n",
            "Epoch 5/20\n",
            "23/23 [==============================] - 12s 527ms/step - loss: 0.2876 - accuracy: 0.8755 - val_loss: 0.2920 - val_accuracy: 0.8235\n",
            "Epoch 6/20\n",
            "23/23 [==============================] - 12s 529ms/step - loss: 0.2513 - accuracy: 0.8895 - val_loss: 0.2302 - val_accuracy: 0.9020\n",
            "Epoch 7/20\n",
            "23/23 [==============================] - 12s 525ms/step - loss: 0.2418 - accuracy: 0.8923 - val_loss: 0.2161 - val_accuracy: 0.8824\n",
            "Epoch 8/20\n",
            "23/23 [==============================] - 12s 527ms/step - loss: 0.2255 - accuracy: 0.9147 - val_loss: 0.2399 - val_accuracy: 0.8824\n",
            "Epoch 9/20\n",
            "23/23 [==============================] - 12s 522ms/step - loss: 0.2126 - accuracy: 0.9133 - val_loss: 0.2241 - val_accuracy: 0.8627\n",
            "Epoch 10/20\n",
            "23/23 [==============================] - 12s 524ms/step - loss: 0.1885 - accuracy: 0.9273 - val_loss: 0.1833 - val_accuracy: 0.9020\n",
            "Epoch 11/20\n",
            "23/23 [==============================] - 12s 526ms/step - loss: 0.1747 - accuracy: 0.9371 - val_loss: 0.2104 - val_accuracy: 0.9216\n",
            "Epoch 12/20\n",
            "23/23 [==============================] - 12s 528ms/step - loss: 0.1557 - accuracy: 0.9357 - val_loss: 0.1613 - val_accuracy: 0.9412\n",
            "Epoch 13/20\n",
            "23/23 [==============================] - 12s 537ms/step - loss: 0.1318 - accuracy: 0.9552 - val_loss: 0.1854 - val_accuracy: 0.9020\n",
            "Epoch 14/20\n",
            "23/23 [==============================] - 12s 534ms/step - loss: 0.1559 - accuracy: 0.9343 - val_loss: 0.1334 - val_accuracy: 0.9608\n",
            "Epoch 15/20\n",
            "23/23 [==============================] - 12s 527ms/step - loss: 0.1209 - accuracy: 0.9510 - val_loss: 0.1404 - val_accuracy: 0.9608\n",
            "Epoch 16/20\n",
            "23/23 [==============================] - 12s 528ms/step - loss: 0.1374 - accuracy: 0.9497 - val_loss: 0.1830 - val_accuracy: 0.9216\n",
            "Epoch 17/20\n",
            "23/23 [==============================] - 12s 538ms/step - loss: 0.1000 - accuracy: 0.9664 - val_loss: 0.1859 - val_accuracy: 0.9020\n",
            "Epoch 18/20\n",
            "23/23 [==============================] - 13s 545ms/step - loss: 0.1044 - accuracy: 0.9636 - val_loss: 0.1289 - val_accuracy: 0.9412\n",
            "Epoch 19/20\n",
            "23/23 [==============================] - 12s 524ms/step - loss: 0.0809 - accuracy: 0.9734 - val_loss: 0.0985 - val_accuracy: 0.9608\n",
            "Epoch 20/20\n",
            "23/23 [==============================] - 12s 527ms/step - loss: 0.0923 - accuracy: 0.9706 - val_loss: 0.2102 - val_accuracy: 0.9216\n"
          ],
          "name": "stdout"
        },
        {
          "output_type": "execute_result",
          "data": {
            "text/plain": [
              "<tensorflow.python.keras.callbacks.History at 0x7f9eecfb8470>"
            ]
          },
          "metadata": {
            "tags": []
          },
          "execution_count": 7
        }
      ]
    },
    {
      "cell_type": "code",
      "metadata": {
        "id": "9oAK9UUfhsiM"
      },
      "source": [
        "# save it as a h5 file\r\n",
        "\r\n",
        "\r\n",
        "from tensorflow.keras.models import load_model\r\n",
        "\r\n",
        "cnn.save('model_cotton_disease.h5')"
      ],
      "execution_count": 8,
      "outputs": []
    },
    {
      "cell_type": "code",
      "metadata": {
        "id": "j105OMStlbye"
      },
      "source": [
        "from tensorflow.keras.models import load_model\r\n",
        " \r\n",
        "# load model\r\n",
        "model = load_model('model_cotton_disease.h5')"
      ],
      "execution_count": 9,
      "outputs": []
    },
    {
      "cell_type": "code",
      "metadata": {
        "colab": {
          "base_uri": "https://localhost:8080/"
        },
        "id": "HO-UstrUluPW",
        "outputId": "c840d942-052d-45a5-c90e-b9e12de1b8d3"
      },
      "source": [
        "model.summary()"
      ],
      "execution_count": 10,
      "outputs": [
        {
          "output_type": "stream",
          "text": [
            "Model: \"sequential\"\n",
            "_________________________________________________________________\n",
            "Layer (type)                 Output Shape              Param #   \n",
            "=================================================================\n",
            "conv2d (Conv2D)              (None, 64, 64, 32)        896       \n",
            "_________________________________________________________________\n",
            "max_pooling2d (MaxPooling2D) (None, 32, 32, 32)        0         \n",
            "_________________________________________________________________\n",
            "conv2d_1 (Conv2D)            (None, 32, 32, 32)        9248      \n",
            "_________________________________________________________________\n",
            "max_pooling2d_1 (MaxPooling2 (None, 16, 16, 32)        0         \n",
            "_________________________________________________________________\n",
            "flatten (Flatten)            (None, 8192)              0         \n",
            "_________________________________________________________________\n",
            "dense (Dense)                (None, 128)               1048704   \n",
            "_________________________________________________________________\n",
            "dense_1 (Dense)              (None, 1)                 129       \n",
            "=================================================================\n",
            "Total params: 1,058,977\n",
            "Trainable params: 1,058,977\n",
            "Non-trainable params: 0\n",
            "_________________________________________________________________\n"
          ],
          "name": "stdout"
        }
      ]
    },
    {
      "cell_type": "code",
      "metadata": {
        "id": "YeJyANgLlwoz"
      },
      "source": [
        "# Part 4 - Making a single prediction from test data\r\n",
        "# image taken from test deseased cotton leaf\r\n",
        "\r\n",
        "import numpy as np\r\n",
        "from tensorflow.keras.preprocessing import image\r\n",
        "test_image = image.load_img('/content/drive/MyDrive/datasets/Cotton Disease/test/diseased cotton leaf/dis_leaf (277)_iaip.jpg', target_size = (64,64))\r\n",
        "test_image = image.img_to_array(test_image)\r\n",
        "test_image=test_image/255\r\n",
        "test_image = np.expand_dims(test_image, axis = 0)\r\n",
        "result = cnn.predict(test_image)"
      ],
      "execution_count": 11,
      "outputs": []
    },
    {
      "cell_type": "code",
      "metadata": {
        "colab": {
          "base_uri": "https://localhost:8080/"
        },
        "id": "JvUZ242EqWmW",
        "outputId": "7bc72a00-b47f-4b92-cb24-bdc657e0ab19"
      },
      "source": [
        "result"
      ],
      "execution_count": 12,
      "outputs": [
        {
          "output_type": "execute_result",
          "data": {
            "text/plain": [
              "array([[0.16747648]], dtype=float32)"
            ]
          },
          "metadata": {
            "tags": []
          },
          "execution_count": 12
        }
      ]
    },
    {
      "cell_type": "code",
      "metadata": {
        "colab": {
          "base_uri": "https://localhost:8080/"
        },
        "id": "Xui2SaOtqht3",
        "outputId": "26181f33-233d-4f4d-c2eb-e9c846b5d2dc"
      },
      "source": [
        "# making prediction for image taken from test fresh cooton leaf\r\n",
        "\r\n",
        "import numpy as np\r\n",
        "from tensorflow.keras.preprocessing import image\r\n",
        "test_image = image.load_img('/content/drive/MyDrive/datasets/Cotton Disease/test/fresh cotton leaf/d (63)_iaip.jpg', target_size = (64,64))\r\n",
        "test_image = image.img_to_array(test_image)\r\n",
        "test_image=test_image/255\r\n",
        "test_image = np.expand_dims(test_image, axis = 0)\r\n",
        "result = cnn.predict(test_image)\r\n",
        "result"
      ],
      "execution_count": 13,
      "outputs": [
        {
          "output_type": "execute_result",
          "data": {
            "text/plain": [
              "array([[0.95931304]], dtype=float32)"
            ]
          },
          "metadata": {
            "tags": []
          },
          "execution_count": 13
        }
      ]
    },
    {
      "cell_type": "code",
      "metadata": {
        "id": "_ja0lX9fq4cy"
      },
      "source": [
        "# image taken from validation set\r\n",
        "\r\n",
        "import numpy as np\r\n",
        "from tensorflow.keras.preprocessing import image\r\n",
        "test_image = image.load_img('/content/drive/MyDrive/datasets/Cotton Disease/val/fresh cotton leaf/d (143)_iaip.jpg', target_size = (64,64))\r\n",
        "test_image = image.img_to_array(test_image)\r\n",
        "test_image=test_image/255\r\n",
        "test_image = np.expand_dims(test_image, axis = 0)\r\n",
        "result = cnn.predict(test_image)"
      ],
      "execution_count": 14,
      "outputs": []
    },
    {
      "cell_type": "code",
      "metadata": {
        "colab": {
          "base_uri": "https://localhost:8080/"
        },
        "id": "gUOhOHmPscHn",
        "outputId": "ad27ffbd-f508-42ab-f7d0-1eb5ac9ead97"
      },
      "source": [
        "result"
      ],
      "execution_count": 15,
      "outputs": [
        {
          "output_type": "execute_result",
          "data": {
            "text/plain": [
              "array([[0.9991223]], dtype=float32)"
            ]
          },
          "metadata": {
            "tags": []
          },
          "execution_count": 15
        }
      ]
    },
    {
      "cell_type": "code",
      "metadata": {
        "colab": {
          "base_uri": "https://localhost:8080/"
        },
        "id": "SLZTcnsFsd91",
        "outputId": "13d1bb9e-aab6-47a8-8a53-b645951f6fb4"
      },
      "source": [
        "if result[0]<=0.5:\r\n",
        "    print(\"The image classified is diseased cotton\")\r\n",
        "else:\r\n",
        "    print(\"The image classified is fresh cotton\")"
      ],
      "execution_count": 16,
      "outputs": [
        {
          "output_type": "stream",
          "text": [
            "The image classified is fresh cotton\n"
          ],
          "name": "stdout"
        }
      ]
    },
    {
      "cell_type": "code",
      "metadata": {
        "id": "SM3fgcArsy2l"
      },
      "source": [
        ""
      ],
      "execution_count": 16,
      "outputs": []
    }
  ]
}