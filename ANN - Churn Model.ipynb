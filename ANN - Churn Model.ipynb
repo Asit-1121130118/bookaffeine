{
 "cells": [
  {
   "cell_type": "markdown",
   "metadata": {},
   "source": [
    "## ANN- Churn Model"
   ]
  },
  {
   "cell_type": "markdown",
   "metadata": {},
   "source": [
    "\n",
    "\n",
    "Following Churn Model is the model used for bank to predict which customer will be leaving the bank or not based on the various input variables of the customers data using ANN."
   ]
  },
  {
   "cell_type": "markdown",
   "metadata": {},
   "source": [
    "###### Importing the libraries"
   ]
  },
  {
   "cell_type": "code",
   "execution_count": 1,
   "metadata": {},
   "outputs": [
    {
     "name": "stderr",
     "output_type": "stream",
     "text": [
      "Using TensorFlow backend.\n"
     ]
    }
   ],
   "source": [
    "import pandas as pd\n",
    "import numpy as np\n",
    "import matplotlib.pyplot as plt\n",
    "%matplotlib inline\n",
    "\n",
    "# importing the library for feature scaling and Categorical encoding\n",
    "from sklearn.preprocessing import StandardScaler\n",
    "from sklearn.preprocessing import LabelEncoder, OneHotEncoder\n",
    "from sklearn.model_selection import train_test_split\n",
    "\n",
    "# Importing the keras libraries and packages\n",
    "import keras\n",
    "from keras.models import Sequential\n",
    "from keras.layers import Dense\n",
    "\n",
    "# import libraries for metrics and reporting\n",
    "from sklearn.metrics import confusion_matrix\n",
    "from sklearn.metrics import classification_report\n",
    "from sklearn.metrics import accuracy_score\n",
    "from sklearn.metrics import precision_score\n",
    "from sklearn.metrics import recall_score\n",
    "from sklearn.metrics import f1_score\n",
    "from sklearn import metrics\n",
    "from sklearn.metrics import classification_report"
   ]
  },
  {
   "cell_type": "code",
   "execution_count": 2,
   "metadata": {},
   "outputs": [],
   "source": [
    "churn_data = pd.read_csv('Churn_Modelling.csv')"
   ]
  },
  {
   "cell_type": "code",
   "execution_count": 3,
   "metadata": {},
   "outputs": [
    {
     "data": {
      "text/html": [
       "<div>\n",
       "<style scoped>\n",
       "    .dataframe tbody tr th:only-of-type {\n",
       "        vertical-align: middle;\n",
       "    }\n",
       "\n",
       "    .dataframe tbody tr th {\n",
       "        vertical-align: top;\n",
       "    }\n",
       "\n",
       "    .dataframe thead th {\n",
       "        text-align: right;\n",
       "    }\n",
       "</style>\n",
       "<table border=\"1\" class=\"dataframe\">\n",
       "  <thead>\n",
       "    <tr style=\"text-align: right;\">\n",
       "      <th></th>\n",
       "      <th>RowNumber</th>\n",
       "      <th>CustomerId</th>\n",
       "      <th>Surname</th>\n",
       "      <th>CreditScore</th>\n",
       "      <th>Geography</th>\n",
       "      <th>Gender</th>\n",
       "      <th>Age</th>\n",
       "      <th>Tenure</th>\n",
       "      <th>Balance</th>\n",
       "      <th>NumOfProducts</th>\n",
       "      <th>HasCrCard</th>\n",
       "      <th>IsActiveMember</th>\n",
       "      <th>EstimatedSalary</th>\n",
       "      <th>Exited</th>\n",
       "    </tr>\n",
       "  </thead>\n",
       "  <tbody>\n",
       "    <tr>\n",
       "      <td>0</td>\n",
       "      <td>1</td>\n",
       "      <td>15634602</td>\n",
       "      <td>Hargrave</td>\n",
       "      <td>619</td>\n",
       "      <td>France</td>\n",
       "      <td>Female</td>\n",
       "      <td>42</td>\n",
       "      <td>2</td>\n",
       "      <td>0.00</td>\n",
       "      <td>1</td>\n",
       "      <td>1</td>\n",
       "      <td>1</td>\n",
       "      <td>101348.88</td>\n",
       "      <td>1</td>\n",
       "    </tr>\n",
       "    <tr>\n",
       "      <td>1</td>\n",
       "      <td>2</td>\n",
       "      <td>15647311</td>\n",
       "      <td>Hill</td>\n",
       "      <td>608</td>\n",
       "      <td>Spain</td>\n",
       "      <td>Female</td>\n",
       "      <td>41</td>\n",
       "      <td>1</td>\n",
       "      <td>83807.86</td>\n",
       "      <td>1</td>\n",
       "      <td>0</td>\n",
       "      <td>1</td>\n",
       "      <td>112542.58</td>\n",
       "      <td>0</td>\n",
       "    </tr>\n",
       "    <tr>\n",
       "      <td>2</td>\n",
       "      <td>3</td>\n",
       "      <td>15619304</td>\n",
       "      <td>Onio</td>\n",
       "      <td>502</td>\n",
       "      <td>France</td>\n",
       "      <td>Female</td>\n",
       "      <td>42</td>\n",
       "      <td>8</td>\n",
       "      <td>159660.80</td>\n",
       "      <td>3</td>\n",
       "      <td>1</td>\n",
       "      <td>0</td>\n",
       "      <td>113931.57</td>\n",
       "      <td>1</td>\n",
       "    </tr>\n",
       "    <tr>\n",
       "      <td>3</td>\n",
       "      <td>4</td>\n",
       "      <td>15701354</td>\n",
       "      <td>Boni</td>\n",
       "      <td>699</td>\n",
       "      <td>France</td>\n",
       "      <td>Female</td>\n",
       "      <td>39</td>\n",
       "      <td>1</td>\n",
       "      <td>0.00</td>\n",
       "      <td>2</td>\n",
       "      <td>0</td>\n",
       "      <td>0</td>\n",
       "      <td>93826.63</td>\n",
       "      <td>0</td>\n",
       "    </tr>\n",
       "    <tr>\n",
       "      <td>4</td>\n",
       "      <td>5</td>\n",
       "      <td>15737888</td>\n",
       "      <td>Mitchell</td>\n",
       "      <td>850</td>\n",
       "      <td>Spain</td>\n",
       "      <td>Female</td>\n",
       "      <td>43</td>\n",
       "      <td>2</td>\n",
       "      <td>125510.82</td>\n",
       "      <td>1</td>\n",
       "      <td>1</td>\n",
       "      <td>1</td>\n",
       "      <td>79084.10</td>\n",
       "      <td>0</td>\n",
       "    </tr>\n",
       "  </tbody>\n",
       "</table>\n",
       "</div>"
      ],
      "text/plain": [
       "   RowNumber  CustomerId   Surname  CreditScore Geography  Gender  Age  \\\n",
       "0          1    15634602  Hargrave          619    France  Female   42   \n",
       "1          2    15647311      Hill          608     Spain  Female   41   \n",
       "2          3    15619304      Onio          502    France  Female   42   \n",
       "3          4    15701354      Boni          699    France  Female   39   \n",
       "4          5    15737888  Mitchell          850     Spain  Female   43   \n",
       "\n",
       "   Tenure    Balance  NumOfProducts  HasCrCard  IsActiveMember  \\\n",
       "0       2       0.00              1          1               1   \n",
       "1       1   83807.86              1          0               1   \n",
       "2       8  159660.80              3          1               0   \n",
       "3       1       0.00              2          0               0   \n",
       "4       2  125510.82              1          1               1   \n",
       "\n",
       "   EstimatedSalary  Exited  \n",
       "0        101348.88       1  \n",
       "1        112542.58       0  \n",
       "2        113931.57       1  \n",
       "3         93826.63       0  \n",
       "4         79084.10       0  "
      ]
     },
     "execution_count": 3,
     "metadata": {},
     "output_type": "execute_result"
    }
   ],
   "source": [
    "churn_data.head()"
   ]
  },
  {
   "cell_type": "markdown",
   "metadata": {},
   "source": [
    "###### splitting the dataset into input and output variable"
   ]
  },
  {
   "cell_type": "code",
   "execution_count": 4,
   "metadata": {},
   "outputs": [],
   "source": [
    "X = churn_data.iloc[:, 3:13].values\n",
    "y = churn_data.iloc[:, 13].values"
   ]
  },
  {
   "cell_type": "markdown",
   "metadata": {},
   "source": [
    "###### Feature Engineering"
   ]
  },
  {
   "cell_type": "code",
   "execution_count": 5,
   "metadata": {},
   "outputs": [
    {
     "name": "stderr",
     "output_type": "stream",
     "text": [
      "C:\\Users\\asit\\Anaconda3\\lib\\site-packages\\sklearn\\preprocessing\\_encoders.py:415: FutureWarning: The handling of integer data will change in version 0.22. Currently, the categories are determined based on the range [0, max(values)], while in the future they will be determined based on the unique values.\n",
      "If you want the future behaviour and silence this warning, you can specify \"categories='auto'\".\n",
      "In case you used a LabelEncoder before this OneHotEncoder to convert the categories to integers, then you can now use the OneHotEncoder directly.\n",
      "  warnings.warn(msg, FutureWarning)\n",
      "C:\\Users\\asit\\Anaconda3\\lib\\site-packages\\sklearn\\preprocessing\\_encoders.py:451: DeprecationWarning: The 'categorical_features' keyword is deprecated in version 0.20 and will be removed in 0.22. You can use the ColumnTransformer instead.\n",
      "  \"use the ColumnTransformer instead.\", DeprecationWarning)\n"
     ]
    }
   ],
   "source": [
    "le_X1 = LabelEncoder()\n",
    "X[:, 1] = le_X1.fit_transform(X[:, 1])\n",
    "le_X2 = LabelEncoder()\n",
    "X[:, 2] = le_X2.fit_transform(X[:, 2])\n",
    "O_Hot = OneHotEncoder(categorical_features = [1])\n",
    "X = O_Hot.fit_transform(X).toarray()\n",
    "X = X[:, 1:]"
   ]
  },
  {
   "cell_type": "markdown",
   "metadata": {},
   "source": [
    "###### splitting the data"
   ]
  },
  {
   "cell_type": "code",
   "execution_count": 6,
   "metadata": {},
   "outputs": [],
   "source": [
    "Xtrain,Xtest,ytrain,ytest = train_test_split(X,y, test_size = 0.2, random_state = 0)"
   ]
  },
  {
   "cell_type": "code",
   "execution_count": 7,
   "metadata": {},
   "outputs": [],
   "source": [
    "sc = StandardScaler()\n",
    "Xtrain = sc.fit_transform(Xtrain)\n",
    "Xtest = sc.transform(Xtest)"
   ]
  },
  {
   "cell_type": "markdown",
   "metadata": {},
   "source": [
    "###### Initialising the ANN"
   ]
  },
  {
   "cell_type": "code",
   "execution_count": 8,
   "metadata": {},
   "outputs": [],
   "source": [
    "classifier_ANN = Sequential()"
   ]
  },
  {
   "cell_type": "code",
   "execution_count": 9,
   "metadata": {},
   "outputs": [],
   "source": [
    "# Adding the input layer and the first hidden layer\n",
    "classifier_ANN.add(Dense(units = 6, kernel_initializer = 'uniform', activation = 'relu', input_dim = 11))"
   ]
  },
  {
   "cell_type": "code",
   "execution_count": 10,
   "metadata": {},
   "outputs": [],
   "source": [
    "# second hidden layer\n",
    "classifier_ANN.add(Dense(units = 6, kernel_initializer = 'uniform', activation = 'relu'))"
   ]
  },
  {
   "cell_type": "code",
   "execution_count": 11,
   "metadata": {},
   "outputs": [],
   "source": [
    "# output layer\n",
    "classifier_ANN.add(Dense(units = 1, kernel_initializer = 'uniform', activation = 'sigmoid'))"
   ]
  },
  {
   "cell_type": "code",
   "execution_count": 13,
   "metadata": {},
   "outputs": [],
   "source": [
    "# compiling the ANN\n",
    "classifier_ANN.compile(optimizer = 'adam', loss = 'binary_crossentropy', metrics = ['accuracy'])"
   ]
  },
  {
   "cell_type": "code",
   "execution_count": 14,
   "metadata": {},
   "outputs": [
    {
     "name": "stdout",
     "output_type": "stream",
     "text": [
      "Epoch 1/100\n",
      "8000/8000 [==============================] - 5s 649us/step - loss: 0.4789 - accuracy: 0.7960\n",
      "Epoch 2/100\n",
      "8000/8000 [==============================] - 2s 293us/step - loss: 0.4283 - accuracy: 0.7960\n",
      "Epoch 3/100\n",
      "8000/8000 [==============================] - 2s 309us/step - loss: 0.4216 - accuracy: 0.8030\n",
      "Epoch 4/100\n",
      "8000/8000 [==============================] - 2s 309us/step - loss: 0.4189 - accuracy: 0.8238\n",
      "Epoch 5/100\n",
      "8000/8000 [==============================] - 2s 306us/step - loss: 0.4164 - accuracy: 0.8269\n",
      "Epoch 6/100\n",
      "8000/8000 [==============================] - 3s 317us/step - loss: 0.4145 - accuracy: 0.8295\n",
      "Epoch 7/100\n",
      "8000/8000 [==============================] - 3s 316us/step - loss: 0.4123 - accuracy: 0.8310\n",
      "Epoch 8/100\n",
      "8000/8000 [==============================] - 3s 316us/step - loss: 0.4108 - accuracy: 0.8322\n",
      "Epoch 9/100\n",
      "8000/8000 [==============================] - 3s 316us/step - loss: 0.4095 - accuracy: 0.8334\n",
      "Epoch 10/100\n",
      "8000/8000 [==============================] - 3s 324us/step - loss: 0.4089 - accuracy: 0.8329\n",
      "Epoch 11/100\n",
      "8000/8000 [==============================] - 3s 318us/step - loss: 0.4076 - accuracy: 0.8351\n",
      "Epoch 12/100\n",
      "8000/8000 [==============================] - 3s 326us/step - loss: 0.4071 - accuracy: 0.8347\n",
      "Epoch 13/100\n",
      "8000/8000 [==============================] - 3s 325us/step - loss: 0.4068 - accuracy: 0.8346\n",
      "Epoch 14/100\n",
      "8000/8000 [==============================] - 3s 327us/step - loss: 0.4055 - accuracy: 0.8344\n",
      "Epoch 15/100\n",
      "8000/8000 [==============================] - 3s 343us/step - loss: 0.4055 - accuracy: 0.8340\n",
      "Epoch 16/100\n",
      "8000/8000 [==============================] - 2s 310us/step - loss: 0.4050 - accuracy: 0.8350\n",
      "Epoch 17/100\n",
      "8000/8000 [==============================] - 3s 323us/step - loss: 0.4044 - accuracy: 0.8347\n",
      "Epoch 18/100\n",
      "8000/8000 [==============================] - 3s 327us/step - loss: 0.4039 - accuracy: 0.8342\n",
      "Epoch 19/100\n",
      "8000/8000 [==============================] - 3s 328us/step - loss: 0.4043 - accuracy: 0.8342\n",
      "Epoch 20/100\n",
      "8000/8000 [==============================] - 3s 387us/step - loss: 0.4036 - accuracy: 0.8353\n",
      "Epoch 21/100\n",
      "8000/8000 [==============================] - 3s 316us/step - loss: 0.4036 - accuracy: 0.8342\n",
      "Epoch 22/100\n",
      "8000/8000 [==============================] - 2s 290us/step - loss: 0.4030 - accuracy: 0.8335\n",
      "Epoch 23/100\n",
      "8000/8000 [==============================] - 2s 258us/step - loss: 0.4040 - accuracy: 0.8331\n",
      "Epoch 24/100\n",
      "8000/8000 [==============================] - 2s 260us/step - loss: 0.4028 - accuracy: 0.8344\n",
      "Epoch 25/100\n",
      "8000/8000 [==============================] - 2s 262us/step - loss: 0.4032 - accuracy: 0.8364\n",
      "Epoch 26/100\n",
      "8000/8000 [==============================] - 2s 312us/step - loss: 0.4029 - accuracy: 0.8342\n",
      "Epoch 27/100\n",
      "8000/8000 [==============================] - 2s 301us/step - loss: 0.4026 - accuracy: 0.8347\n",
      "Epoch 28/100\n",
      "8000/8000 [==============================] - 3s 354us/step - loss: 0.4027 - accuracy: 0.8346\n",
      "Epoch 29/100\n",
      "8000/8000 [==============================] - 2s 310us/step - loss: 0.4019 - accuracy: 0.8353\n",
      "Epoch 30/100\n",
      "8000/8000 [==============================] - 2s 270us/step - loss: 0.4024 - accuracy: 0.8342\n",
      "Epoch 31/100\n",
      "8000/8000 [==============================] - 2s 269us/step - loss: 0.4026 - accuracy: 0.8335\n",
      "Epoch 32/100\n",
      "8000/8000 [==============================] - 2s 260us/step - loss: 0.4022 - accuracy: 0.8354\n",
      "Epoch 33/100\n",
      "8000/8000 [==============================] - 2s 259us/step - loss: 0.4020 - accuracy: 0.8345\n",
      "Epoch 34/100\n",
      "8000/8000 [==============================] - 2s 258us/step - loss: 0.4023 - accuracy: 0.8342\n",
      "Epoch 35/100\n",
      "8000/8000 [==============================] - 2s 263us/step - loss: 0.4019 - accuracy: 0.8338\n",
      "Epoch 36/100\n",
      "8000/8000 [==============================] - 3s 322us/step - loss: 0.4019 - accuracy: 0.8345\n",
      "Epoch 37/100\n",
      "8000/8000 [==============================] - 3s 405us/step - loss: 0.4017 - accuracy: 0.8356\n",
      "Epoch 38/100\n",
      "8000/8000 [==============================] - 3s 350us/step - loss: 0.4016 - accuracy: 0.8356\n",
      "Epoch 39/100\n",
      "8000/8000 [==============================] - 3s 368us/step - loss: 0.4014 - accuracy: 0.8351\n",
      "Epoch 40/100\n",
      "8000/8000 [==============================] - 3s 317us/step - loss: 0.4016 - accuracy: 0.8324\n",
      "Epoch 41/100\n",
      "8000/8000 [==============================] - 3s 316us/step - loss: 0.4019 - accuracy: 0.8340\n",
      "Epoch 42/100\n",
      "8000/8000 [==============================] - 3s 334us/step - loss: 0.4012 - accuracy: 0.8341\n",
      "Epoch 43/100\n",
      "8000/8000 [==============================] - 2s 305us/step - loss: 0.4012 - accuracy: 0.8345\n",
      "Epoch 44/100\n",
      "8000/8000 [==============================] - 2s 303us/step - loss: 0.4014 - accuracy: 0.8347\n",
      "Epoch 45/100\n",
      "8000/8000 [==============================] - 2s 286us/step - loss: 0.4016 - accuracy: 0.8355\n",
      "Epoch 46/100\n",
      "8000/8000 [==============================] - 2s 288us/step - loss: 0.4013 - accuracy: 0.8338\n",
      "Epoch 47/100\n",
      "8000/8000 [==============================] - 2s 291us/step - loss: 0.4012 - accuracy: 0.8365\n",
      "Epoch 48/100\n",
      "8000/8000 [==============================] - 2s 288us/step - loss: 0.4014 - accuracy: 0.8357\n",
      "Epoch 49/100\n",
      "8000/8000 [==============================] - 3s 317us/step - loss: 0.4015 - accuracy: 0.8345\n",
      "Epoch 50/100\n",
      "8000/8000 [==============================] - 2s 306us/step - loss: 0.4011 - accuracy: 0.8355\n",
      "Epoch 51/100\n",
      "8000/8000 [==============================] - 3s 317us/step - loss: 0.4008 - accuracy: 0.8350\n",
      "Epoch 52/100\n",
      "8000/8000 [==============================] - 3s 317us/step - loss: 0.4004 - accuracy: 0.8357\n",
      "Epoch 53/100\n",
      "8000/8000 [==============================] - 2s 291us/step - loss: 0.4011 - accuracy: 0.8328\n",
      "Epoch 54/100\n",
      "8000/8000 [==============================] - 3s 314us/step - loss: 0.4009 - accuracy: 0.8336\n",
      "Epoch 55/100\n",
      "8000/8000 [==============================] - 3s 323us/step - loss: 0.4010 - accuracy: 0.8349\n",
      "Epoch 56/100\n",
      "8000/8000 [==============================] - 3s 315us/step - loss: 0.4012 - accuracy: 0.8344\n",
      "Epoch 57/100\n",
      "8000/8000 [==============================] - 3s 397us/step - loss: 0.4010 - accuracy: 0.8346\n",
      "Epoch 58/100\n",
      "8000/8000 [==============================] - 3s 343us/step - loss: 0.4010 - accuracy: 0.8335\n",
      "Epoch 59/100\n",
      "8000/8000 [==============================] - 2s 301us/step - loss: 0.4010 - accuracy: 0.8345\n",
      "Epoch 60/100\n",
      "8000/8000 [==============================] - 3s 371us/step - loss: 0.4006 - accuracy: 0.8347\n",
      "Epoch 61/100\n",
      "8000/8000 [==============================] - 3s 332us/step - loss: 0.4009 - accuracy: 0.8328\n",
      "Epoch 62/100\n",
      "8000/8000 [==============================] - 2s 264us/step - loss: 0.4005 - accuracy: 0.8339\n",
      "Epoch 63/100\n",
      "8000/8000 [==============================] - 3s 375us/step - loss: 0.4004 - accuracy: 0.8342\n",
      "Epoch 64/100\n",
      "8000/8000 [==============================] - 2s 298us/step - loss: 0.4011 - accuracy: 0.8346\n",
      "Epoch 65/100\n",
      "8000/8000 [==============================] - 2s 291us/step - loss: 0.4005 - accuracy: 0.8354\n",
      "Epoch 66/100\n",
      "8000/8000 [==============================] - 3s 338us/step - loss: 0.4006 - accuracy: 0.8363\n",
      "Epoch 67/100\n",
      "8000/8000 [==============================] - 2s 294us/step - loss: 0.4009 - accuracy: 0.8360\n",
      "Epoch 68/100\n",
      "8000/8000 [==============================] - 2s 257us/step - loss: 0.4005 - accuracy: 0.8342\n",
      "Epoch 69/100\n",
      "8000/8000 [==============================] - 2s 286us/step - loss: 0.4002 - accuracy: 0.8339\n",
      "Epoch 70/100\n",
      "8000/8000 [==============================] - 2s 258us/step - loss: 0.4007 - accuracy: 0.8329\n",
      "Epoch 71/100\n",
      "8000/8000 [==============================] - 2s 260us/step - loss: 0.4008 - accuracy: 0.8350\n",
      "Epoch 72/100\n",
      "8000/8000 [==============================] - 3s 337us/step - loss: 0.4011 - accuracy: 0.8351\n",
      "Epoch 73/100\n",
      "8000/8000 [==============================] - 2s 257us/step - loss: 0.4007 - accuracy: 0.8355\n",
      "Epoch 74/100\n",
      "8000/8000 [==============================] - 2s 311us/step - loss: 0.4005 - accuracy: 0.8345\n",
      "Epoch 75/100\n",
      "8000/8000 [==============================] - 2s 304us/step - loss: 0.4004 - accuracy: 0.8339\n",
      "Epoch 76/100\n",
      "8000/8000 [==============================] - 4s 475us/step - loss: 0.4008 - accuracy: 0.8342\n",
      "Epoch 77/100\n",
      "8000/8000 [==============================] - 3s 412us/step - loss: 0.4004 - accuracy: 0.8342\n",
      "Epoch 78/100\n",
      "8000/8000 [==============================] - 2s 275us/step - loss: 0.4007 - accuracy: 0.8356\n",
      "Epoch 79/100\n",
      "8000/8000 [==============================] - 2s 269us/step - loss: 0.4007 - accuracy: 0.8349\n",
      "Epoch 80/100\n",
      "8000/8000 [==============================] - 2s 263us/step - loss: 0.4005 - accuracy: 0.8350\n",
      "Epoch 81/100\n",
      "8000/8000 [==============================] - 2s 268us/step - loss: 0.4001 - accuracy: 0.8351\n",
      "Epoch 82/100\n",
      "8000/8000 [==============================] - 2s 271us/step - loss: 0.4007 - accuracy: 0.8338\n",
      "Epoch 83/100\n",
      "8000/8000 [==============================] - 2s 260us/step - loss: 0.4006 - accuracy: 0.8346\n",
      "Epoch 84/100\n",
      "8000/8000 [==============================] - 2s 256us/step - loss: 0.4003 - accuracy: 0.8340\n",
      "Epoch 85/100\n",
      "8000/8000 [==============================] - 2s 267us/step - loss: 0.4004 - accuracy: 0.8341\n",
      "Epoch 86/100\n",
      "8000/8000 [==============================] - 2s 257us/step - loss: 0.4002 - accuracy: 0.8339\n",
      "Epoch 87/100\n",
      "8000/8000 [==============================] - 2s 301us/step - loss: 0.4008 - accuracy: 0.8360\n",
      "Epoch 88/100\n",
      "8000/8000 [==============================] - 2s 268us/step - loss: 0.4002 - accuracy: 0.8341\n",
      "Epoch 89/100\n",
      "8000/8000 [==============================] - 2s 273us/step - loss: 0.4003 - accuracy: 0.8360\n",
      "Epoch 90/100\n",
      "8000/8000 [==============================] - 2s 282us/step - loss: 0.4002 - accuracy: 0.8361\n",
      "Epoch 91/100\n",
      "8000/8000 [==============================] - 2s 266us/step - loss: 0.4003 - accuracy: 0.8354\n",
      "Epoch 92/100\n",
      "8000/8000 [==============================] - 2s 273us/step - loss: 0.4005 - accuracy: 0.8338\n",
      "Epoch 93/100\n",
      "8000/8000 [==============================] - 2s 267us/step - loss: 0.4002 - accuracy: 0.8349\n",
      "Epoch 94/100\n",
      "8000/8000 [==============================] - 2s 257us/step - loss: 0.4003 - accuracy: 0.8350\n",
      "Epoch 95/100\n",
      "8000/8000 [==============================] - 2s 262us/step - loss: 0.3996 - accuracy: 0.8338\n",
      "Epoch 96/100\n",
      "8000/8000 [==============================] - 2s 259us/step - loss: 0.4000 - accuracy: 0.8339\n",
      "Epoch 97/100\n",
      "8000/8000 [==============================] - 2s 264us/step - loss: 0.4003 - accuracy: 0.8334\n",
      "Epoch 98/100\n",
      "8000/8000 [==============================] - 2s 262us/step - loss: 0.4002 - accuracy: 0.8339\n",
      "Epoch 99/100\n",
      "8000/8000 [==============================] - 2s 261us/step - loss: 0.4005 - accuracy: 0.8342\n",
      "Epoch 100/100\n",
      "8000/8000 [==============================] - 2s 257us/step - loss: 0.4003 - accuracy: 0.8344\n"
     ]
    },
    {
     "data": {
      "text/plain": [
       "<keras.callbacks.callbacks.History at 0x468289d808>"
      ]
     },
     "execution_count": 14,
     "metadata": {},
     "output_type": "execute_result"
    }
   ],
   "source": [
    "# fitting the ANN to the training set\n",
    "classifier_ANN.fit(Xtrain, ytrain, batch_size = 10, epochs = 100)"
   ]
  },
  {
   "cell_type": "code",
   "execution_count": 15,
   "metadata": {},
   "outputs": [],
   "source": [
    "# Predicting the Test set results\n",
    "y_pred = classifier_ANN.predict(Xtest)\n",
    "y_pred = (y_pred > 0.5)"
   ]
  },
  {
   "cell_type": "code",
   "execution_count": 16,
   "metadata": {},
   "outputs": [
    {
     "data": {
      "text/plain": [
       "array([[False],\n",
       "       [False],\n",
       "       [False],\n",
       "       ...,\n",
       "       [False],\n",
       "       [False],\n",
       "       [False]])"
      ]
     },
     "execution_count": 16,
     "metadata": {},
     "output_type": "execute_result"
    }
   ],
   "source": [
    "y_pred"
   ]
  },
  {
   "cell_type": "code",
   "execution_count": 17,
   "metadata": {},
   "outputs": [
    {
     "data": {
      "text/plain": [
       "array([[1547,   48],\n",
       "       [ 272,  133]], dtype=int64)"
      ]
     },
     "execution_count": 17,
     "metadata": {},
     "output_type": "execute_result"
    }
   ],
   "source": [
    "# printing the accuracy\n",
    "metrics.confusion_matrix(ytest, y_pred)"
   ]
  },
  {
   "cell_type": "code",
   "execution_count": 18,
   "metadata": {},
   "outputs": [
    {
     "data": {
      "text/plain": [
       "0.84"
      ]
     },
     "execution_count": 18,
     "metadata": {},
     "output_type": "execute_result"
    }
   ],
   "source": [
    "metrics.accuracy_score(ytest, y_pred)"
   ]
  },
  {
   "cell_type": "code",
   "execution_count": 19,
   "metadata": {},
   "outputs": [
    {
     "name": "stdout",
     "output_type": "stream",
     "text": [
      "              precision    recall  f1-score   support\n",
      "\n",
      "           0       0.85      0.97      0.91      1595\n",
      "           1       0.73      0.33      0.45       405\n",
      "\n",
      "    accuracy                           0.84      2000\n",
      "   macro avg       0.79      0.65      0.68      2000\n",
      "weighted avg       0.83      0.84      0.81      2000\n",
      "\n"
     ]
    }
   ],
   "source": [
    "print(classification_report(ytest, y_pred))"
   ]
  }
 ],
 "metadata": {
  "kernelspec": {
   "display_name": "Python 3",
   "language": "python",
   "name": "python3"
  },
  "language_info": {
   "codemirror_mode": {
    "name": "ipython",
    "version": 3
   },
   "file_extension": ".py",
   "mimetype": "text/x-python",
   "name": "python",
   "nbconvert_exporter": "python",
   "pygments_lexer": "ipython3",
   "version": "3.7.4"
  }
 },
 "nbformat": 4,
 "nbformat_minor": 2
}
