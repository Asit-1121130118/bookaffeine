{
  "nbformat": 4,
  "nbformat_minor": 0,
  "metadata": {
    "colab": {
      "name": "Churn.ipynb",
      "provenance": [],
      "collapsed_sections": [],
      "mount_file_id": "1xxVzSjIstFxw6WWprgsWXmhH4Ar1DeZv",
      "authorship_tag": "ABX9TyPm2MHo53D33cx6MkyQxvlo",
      "include_colab_link": true
    },
    "kernelspec": {
      "name": "python3",
      "display_name": "Python 3"
    }
  },
  "cells": [
    {
      "cell_type": "markdown",
      "metadata": {
        "id": "view-in-github",
        "colab_type": "text"
      },
      "source": [
        "<a href=\"https://colab.research.google.com/github/Asit-1121130118/practice-projects/blob/master/Churn.ipynb\" target=\"_parent\"><img src=\"https://colab.research.google.com/assets/colab-badge.svg\" alt=\"Open In Colab\"/></a>"
      ]
    },
    {
      "cell_type": "markdown",
      "metadata": {
        "id": "xAVMnAIYGsq9"
      },
      "source": [
        "*Importing all the required libraries*"
      ]
    },
    {
      "cell_type": "code",
      "metadata": {
        "id": "v2BUUDNNRO2_"
      },
      "source": [
        "import numpy as np\r\n",
        "import pandas as pd\r\n",
        "import matplotlib.pyplot as plt\r\n",
        "import seaborn as sns"
      ],
      "execution_count": 1,
      "outputs": []
    },
    {
      "cell_type": "code",
      "metadata": {
        "id": "F2DWiyosRiZf"
      },
      "source": [
        "from sklearn.model_selection import train_test_split\r\n",
        "from sklearn.model_selection import cross_val_score\r\n",
        "\r\n",
        "from sklearn import metrics\r\n",
        "from sklearn.metrics import accuracy_score\r\n",
        "from sklearn.metrics import confusion_matrix\r\n",
        "from sklearn.metrics import classification_report\r\n",
        "\r\n",
        "import warnings\r\n",
        "warnings.filterwarnings('ignore')"
      ],
      "execution_count": 2,
      "outputs": []
    },
    {
      "cell_type": "code",
      "metadata": {
        "id": "ZJzWYaxSRie4"
      },
      "source": [
        "from sklearn.linear_model import LogisticRegression\r\n",
        "from sklearn.linear_model import SGDClassifier\r\n",
        "from sklearn.svm import SVC, LinearSVC\r\n",
        "from sklearn.neighbors import KNeighborsClassifier\r\n",
        "from sklearn.ensemble import RandomForestClassifier\r\n",
        "from sklearn.ensemble import AdaBoostClassifier\r\n",
        "from sklearn.naive_bayes import GaussianNB"
      ],
      "execution_count": 3,
      "outputs": []
    },
    {
      "cell_type": "code",
      "metadata": {
        "colab": {
          "base_uri": "https://localhost:8080/"
        },
        "id": "1pR2A3IxRiiX",
        "outputId": "c476ff57-9b0b-4c6f-ab06-ead9ef676a47"
      },
      "source": [
        "# importingthe file\r\n",
        "\r\n",
        "data = pd.read_csv('/content/drive/MyDrive/datasets/Churn.csv', na_values = np.nan)\r\n",
        "print(data.shape)"
      ],
      "execution_count": 4,
      "outputs": [
        {
          "output_type": "stream",
          "text": [
            "(7043, 21)\n"
          ],
          "name": "stdout"
        }
      ]
    },
    {
      "cell_type": "code",
      "metadata": {
        "colab": {
          "base_uri": "https://localhost:8080/",
          "height": 309
        },
        "id": "09j4n59JRils",
        "outputId": "8d191a70-99d5-4a93-cbb4-b42ac1bc9e36"
      },
      "source": [
        "pd.set_option('display.max_columns', None)\r\n",
        "data.head()"
      ],
      "execution_count": 5,
      "outputs": [
        {
          "output_type": "execute_result",
          "data": {
            "text/html": [
              "<div>\n",
              "<style scoped>\n",
              "    .dataframe tbody tr th:only-of-type {\n",
              "        vertical-align: middle;\n",
              "    }\n",
              "\n",
              "    .dataframe tbody tr th {\n",
              "        vertical-align: top;\n",
              "    }\n",
              "\n",
              "    .dataframe thead th {\n",
              "        text-align: right;\n",
              "    }\n",
              "</style>\n",
              "<table border=\"1\" class=\"dataframe\">\n",
              "  <thead>\n",
              "    <tr style=\"text-align: right;\">\n",
              "      <th></th>\n",
              "      <th>customerID</th>\n",
              "      <th>gender</th>\n",
              "      <th>SeniorCitizen</th>\n",
              "      <th>Partner</th>\n",
              "      <th>Dependents</th>\n",
              "      <th>tenure</th>\n",
              "      <th>PhoneService</th>\n",
              "      <th>MultipleLines</th>\n",
              "      <th>InternetService</th>\n",
              "      <th>OnlineSecurity</th>\n",
              "      <th>OnlineBackup</th>\n",
              "      <th>DeviceProtection</th>\n",
              "      <th>TechSupport</th>\n",
              "      <th>StreamingTV</th>\n",
              "      <th>StreamingMovies</th>\n",
              "      <th>Contract</th>\n",
              "      <th>PaperlessBilling</th>\n",
              "      <th>PaymentMethod</th>\n",
              "      <th>MonthlyCharges</th>\n",
              "      <th>TotalCharges</th>\n",
              "      <th>Churn</th>\n",
              "    </tr>\n",
              "  </thead>\n",
              "  <tbody>\n",
              "    <tr>\n",
              "      <th>0</th>\n",
              "      <td>7590-VHVEG</td>\n",
              "      <td>Female</td>\n",
              "      <td>0</td>\n",
              "      <td>Yes</td>\n",
              "      <td>No</td>\n",
              "      <td>1</td>\n",
              "      <td>No</td>\n",
              "      <td>No phone service</td>\n",
              "      <td>DSL</td>\n",
              "      <td>No</td>\n",
              "      <td>Yes</td>\n",
              "      <td>No</td>\n",
              "      <td>No</td>\n",
              "      <td>No</td>\n",
              "      <td>No</td>\n",
              "      <td>Month-to-month</td>\n",
              "      <td>Yes</td>\n",
              "      <td>Electronic check</td>\n",
              "      <td>29.85</td>\n",
              "      <td>29.85</td>\n",
              "      <td>No</td>\n",
              "    </tr>\n",
              "    <tr>\n",
              "      <th>1</th>\n",
              "      <td>5575-GNVDE</td>\n",
              "      <td>Male</td>\n",
              "      <td>0</td>\n",
              "      <td>No</td>\n",
              "      <td>No</td>\n",
              "      <td>34</td>\n",
              "      <td>Yes</td>\n",
              "      <td>No</td>\n",
              "      <td>DSL</td>\n",
              "      <td>Yes</td>\n",
              "      <td>No</td>\n",
              "      <td>Yes</td>\n",
              "      <td>No</td>\n",
              "      <td>No</td>\n",
              "      <td>No</td>\n",
              "      <td>One year</td>\n",
              "      <td>No</td>\n",
              "      <td>Mailed check</td>\n",
              "      <td>56.95</td>\n",
              "      <td>1889.5</td>\n",
              "      <td>No</td>\n",
              "    </tr>\n",
              "    <tr>\n",
              "      <th>2</th>\n",
              "      <td>3668-QPYBK</td>\n",
              "      <td>Male</td>\n",
              "      <td>0</td>\n",
              "      <td>No</td>\n",
              "      <td>No</td>\n",
              "      <td>2</td>\n",
              "      <td>Yes</td>\n",
              "      <td>No</td>\n",
              "      <td>DSL</td>\n",
              "      <td>Yes</td>\n",
              "      <td>Yes</td>\n",
              "      <td>No</td>\n",
              "      <td>No</td>\n",
              "      <td>No</td>\n",
              "      <td>No</td>\n",
              "      <td>Month-to-month</td>\n",
              "      <td>Yes</td>\n",
              "      <td>Mailed check</td>\n",
              "      <td>53.85</td>\n",
              "      <td>108.15</td>\n",
              "      <td>Yes</td>\n",
              "    </tr>\n",
              "    <tr>\n",
              "      <th>3</th>\n",
              "      <td>7795-CFOCW</td>\n",
              "      <td>Male</td>\n",
              "      <td>0</td>\n",
              "      <td>No</td>\n",
              "      <td>No</td>\n",
              "      <td>45</td>\n",
              "      <td>No</td>\n",
              "      <td>No phone service</td>\n",
              "      <td>DSL</td>\n",
              "      <td>Yes</td>\n",
              "      <td>No</td>\n",
              "      <td>Yes</td>\n",
              "      <td>Yes</td>\n",
              "      <td>No</td>\n",
              "      <td>No</td>\n",
              "      <td>One year</td>\n",
              "      <td>No</td>\n",
              "      <td>Bank transfer (automatic)</td>\n",
              "      <td>42.30</td>\n",
              "      <td>1840.75</td>\n",
              "      <td>No</td>\n",
              "    </tr>\n",
              "    <tr>\n",
              "      <th>4</th>\n",
              "      <td>9237-HQITU</td>\n",
              "      <td>Female</td>\n",
              "      <td>0</td>\n",
              "      <td>No</td>\n",
              "      <td>No</td>\n",
              "      <td>2</td>\n",
              "      <td>Yes</td>\n",
              "      <td>No</td>\n",
              "      <td>Fiber optic</td>\n",
              "      <td>No</td>\n",
              "      <td>No</td>\n",
              "      <td>No</td>\n",
              "      <td>No</td>\n",
              "      <td>No</td>\n",
              "      <td>No</td>\n",
              "      <td>Month-to-month</td>\n",
              "      <td>Yes</td>\n",
              "      <td>Electronic check</td>\n",
              "      <td>70.70</td>\n",
              "      <td>151.65</td>\n",
              "      <td>Yes</td>\n",
              "    </tr>\n",
              "  </tbody>\n",
              "</table>\n",
              "</div>"
            ],
            "text/plain": [
              "   customerID  gender  SeniorCitizen Partner Dependents  tenure PhoneService  \\\n",
              "0  7590-VHVEG  Female              0     Yes         No       1           No   \n",
              "1  5575-GNVDE    Male              0      No         No      34          Yes   \n",
              "2  3668-QPYBK    Male              0      No         No       2          Yes   \n",
              "3  7795-CFOCW    Male              0      No         No      45           No   \n",
              "4  9237-HQITU  Female              0      No         No       2          Yes   \n",
              "\n",
              "      MultipleLines InternetService OnlineSecurity OnlineBackup  \\\n",
              "0  No phone service             DSL             No          Yes   \n",
              "1                No             DSL            Yes           No   \n",
              "2                No             DSL            Yes          Yes   \n",
              "3  No phone service             DSL            Yes           No   \n",
              "4                No     Fiber optic             No           No   \n",
              "\n",
              "  DeviceProtection TechSupport StreamingTV StreamingMovies        Contract  \\\n",
              "0               No          No          No              No  Month-to-month   \n",
              "1              Yes          No          No              No        One year   \n",
              "2               No          No          No              No  Month-to-month   \n",
              "3              Yes         Yes          No              No        One year   \n",
              "4               No          No          No              No  Month-to-month   \n",
              "\n",
              "  PaperlessBilling              PaymentMethod  MonthlyCharges TotalCharges  \\\n",
              "0              Yes           Electronic check           29.85        29.85   \n",
              "1               No               Mailed check           56.95       1889.5   \n",
              "2              Yes               Mailed check           53.85       108.15   \n",
              "3               No  Bank transfer (automatic)           42.30      1840.75   \n",
              "4              Yes           Electronic check           70.70       151.65   \n",
              "\n",
              "  Churn  \n",
              "0    No  \n",
              "1    No  \n",
              "2   Yes  \n",
              "3    No  \n",
              "4   Yes  "
            ]
          },
          "metadata": {
            "tags": []
          },
          "execution_count": 5
        }
      ]
    },
    {
      "cell_type": "code",
      "metadata": {
        "colab": {
          "base_uri": "https://localhost:8080/"
        },
        "id": "2f2Wn4xSRipN",
        "outputId": "15fe03b3-f9b9-420e-cb38-e69331404724"
      },
      "source": [
        "data.info()"
      ],
      "execution_count": 6,
      "outputs": [
        {
          "output_type": "stream",
          "text": [
            "<class 'pandas.core.frame.DataFrame'>\n",
            "RangeIndex: 7043 entries, 0 to 7042\n",
            "Data columns (total 21 columns):\n",
            " #   Column            Non-Null Count  Dtype  \n",
            "---  ------            --------------  -----  \n",
            " 0   customerID        7043 non-null   object \n",
            " 1   gender            7043 non-null   object \n",
            " 2   SeniorCitizen     7043 non-null   int64  \n",
            " 3   Partner           7043 non-null   object \n",
            " 4   Dependents        7043 non-null   object \n",
            " 5   tenure            7043 non-null   int64  \n",
            " 6   PhoneService      7043 non-null   object \n",
            " 7   MultipleLines     7043 non-null   object \n",
            " 8   InternetService   7043 non-null   object \n",
            " 9   OnlineSecurity    7043 non-null   object \n",
            " 10  OnlineBackup      7043 non-null   object \n",
            " 11  DeviceProtection  7043 non-null   object \n",
            " 12  TechSupport       7043 non-null   object \n",
            " 13  StreamingTV       7043 non-null   object \n",
            " 14  StreamingMovies   7043 non-null   object \n",
            " 15  Contract          7043 non-null   object \n",
            " 16  PaperlessBilling  7043 non-null   object \n",
            " 17  PaymentMethod     7043 non-null   object \n",
            " 18  MonthlyCharges    7043 non-null   float64\n",
            " 19  TotalCharges      7043 non-null   object \n",
            " 20  Churn             7043 non-null   object \n",
            "dtypes: float64(1), int64(2), object(18)\n",
            "memory usage: 1.1+ MB\n"
          ],
          "name": "stdout"
        }
      ]
    },
    {
      "cell_type": "markdown",
      "metadata": {
        "id": "f0AISGXQHg3V"
      },
      "source": [
        "In the dataset almost all the fetures type are in object format. Except for SeniorCitizen, MonthlyCharges,tenure. Since, most of the data are in categorical form, by applying one hot encoding we can change the types of features and also after encoding of categorical features; outliers will not be that important to eliminate."
      ]
    },
    {
      "cell_type": "markdown",
      "metadata": {
        "id": "QXnfHJ5PH5-7"
      },
      "source": [
        "------------------------------"
      ]
    },
    {
      "cell_type": "markdown",
      "metadata": {
        "id": "smHXuCvGHSEe"
      },
      "source": [
        "***checking for null values***"
      ]
    },
    {
      "cell_type": "code",
      "metadata": {
        "colab": {
          "base_uri": "https://localhost:8080/"
        },
        "id": "HzFE0dlmRir-",
        "outputId": "e6063da6-0100-46a8-b79c-bbfd3fa450fc"
      },
      "source": [
        "data.isnull().sum()  # there is no missing values"
      ],
      "execution_count": 7,
      "outputs": [
        {
          "output_type": "execute_result",
          "data": {
            "text/plain": [
              "customerID          0\n",
              "gender              0\n",
              "SeniorCitizen       0\n",
              "Partner             0\n",
              "Dependents          0\n",
              "tenure              0\n",
              "PhoneService        0\n",
              "MultipleLines       0\n",
              "InternetService     0\n",
              "OnlineSecurity      0\n",
              "OnlineBackup        0\n",
              "DeviceProtection    0\n",
              "TechSupport         0\n",
              "StreamingTV         0\n",
              "StreamingMovies     0\n",
              "Contract            0\n",
              "PaperlessBilling    0\n",
              "PaymentMethod       0\n",
              "MonthlyCharges      0\n",
              "TotalCharges        0\n",
              "Churn               0\n",
              "dtype: int64"
            ]
          },
          "metadata": {
            "tags": []
          },
          "execution_count": 7
        }
      ]
    },
    {
      "cell_type": "markdown",
      "metadata": {
        "id": "ym68XC5bHOGS"
      },
      "source": [
        "there is no missing values in the data"
      ]
    },
    {
      "cell_type": "code",
      "metadata": {
        "colab": {
          "base_uri": "https://localhost:8080/",
          "height": 297
        },
        "id": "h1eQOtX8Riv4",
        "outputId": "2c898452-0448-4e82-ce99-7b823090aa22"
      },
      "source": [
        "data.describe()"
      ],
      "execution_count": 8,
      "outputs": [
        {
          "output_type": "execute_result",
          "data": {
            "text/html": [
              "<div>\n",
              "<style scoped>\n",
              "    .dataframe tbody tr th:only-of-type {\n",
              "        vertical-align: middle;\n",
              "    }\n",
              "\n",
              "    .dataframe tbody tr th {\n",
              "        vertical-align: top;\n",
              "    }\n",
              "\n",
              "    .dataframe thead th {\n",
              "        text-align: right;\n",
              "    }\n",
              "</style>\n",
              "<table border=\"1\" class=\"dataframe\">\n",
              "  <thead>\n",
              "    <tr style=\"text-align: right;\">\n",
              "      <th></th>\n",
              "      <th>SeniorCitizen</th>\n",
              "      <th>tenure</th>\n",
              "      <th>MonthlyCharges</th>\n",
              "    </tr>\n",
              "  </thead>\n",
              "  <tbody>\n",
              "    <tr>\n",
              "      <th>count</th>\n",
              "      <td>7043.000000</td>\n",
              "      <td>7043.000000</td>\n",
              "      <td>7043.000000</td>\n",
              "    </tr>\n",
              "    <tr>\n",
              "      <th>mean</th>\n",
              "      <td>0.162147</td>\n",
              "      <td>32.371149</td>\n",
              "      <td>64.761692</td>\n",
              "    </tr>\n",
              "    <tr>\n",
              "      <th>std</th>\n",
              "      <td>0.368612</td>\n",
              "      <td>24.559481</td>\n",
              "      <td>30.090047</td>\n",
              "    </tr>\n",
              "    <tr>\n",
              "      <th>min</th>\n",
              "      <td>0.000000</td>\n",
              "      <td>0.000000</td>\n",
              "      <td>18.250000</td>\n",
              "    </tr>\n",
              "    <tr>\n",
              "      <th>25%</th>\n",
              "      <td>0.000000</td>\n",
              "      <td>9.000000</td>\n",
              "      <td>35.500000</td>\n",
              "    </tr>\n",
              "    <tr>\n",
              "      <th>50%</th>\n",
              "      <td>0.000000</td>\n",
              "      <td>29.000000</td>\n",
              "      <td>70.350000</td>\n",
              "    </tr>\n",
              "    <tr>\n",
              "      <th>75%</th>\n",
              "      <td>0.000000</td>\n",
              "      <td>55.000000</td>\n",
              "      <td>89.850000</td>\n",
              "    </tr>\n",
              "    <tr>\n",
              "      <th>max</th>\n",
              "      <td>1.000000</td>\n",
              "      <td>72.000000</td>\n",
              "      <td>118.750000</td>\n",
              "    </tr>\n",
              "  </tbody>\n",
              "</table>\n",
              "</div>"
            ],
            "text/plain": [
              "       SeniorCitizen       tenure  MonthlyCharges\n",
              "count    7043.000000  7043.000000     7043.000000\n",
              "mean        0.162147    32.371149       64.761692\n",
              "std         0.368612    24.559481       30.090047\n",
              "min         0.000000     0.000000       18.250000\n",
              "25%         0.000000     9.000000       35.500000\n",
              "50%         0.000000    29.000000       70.350000\n",
              "75%         0.000000    55.000000       89.850000\n",
              "max         1.000000    72.000000      118.750000"
            ]
          },
          "metadata": {
            "tags": []
          },
          "execution_count": 8
        }
      ]
    },
    {
      "cell_type": "code",
      "metadata": {
        "colab": {
          "base_uri": "https://localhost:8080/"
        },
        "id": "L6_-VCZxRizk",
        "outputId": "e3e5187e-3f59-4405-9898-702fe32b7f82"
      },
      "source": [
        "# applying the lambda function and pandas apply function to check for unique value\r\n",
        "\r\n",
        "data.apply(lambda col: ','.join(map(str, col.unique())))"
      ],
      "execution_count": 9,
      "outputs": [
        {
          "output_type": "execute_result",
          "data": {
            "text/plain": [
              "customerID          7590-VHVEG,5575-GNVDE,3668-QPYBK,7795-CFOCW,92...\n",
              "gender                                                    Female,Male\n",
              "SeniorCitizen                                                     0,1\n",
              "Partner                                                        Yes,No\n",
              "Dependents                                                     No,Yes\n",
              "tenure              1,34,2,45,8,22,10,28,62,13,16,58,49,25,69,52,7...\n",
              "PhoneService                                                   No,Yes\n",
              "MultipleLines                                 No phone service,No,Yes\n",
              "InternetService                                    DSL,Fiber optic,No\n",
              "OnlineSecurity                             No,Yes,No internet service\n",
              "OnlineBackup                               Yes,No,No internet service\n",
              "DeviceProtection                           No,Yes,No internet service\n",
              "TechSupport                                No,Yes,No internet service\n",
              "StreamingTV                                No,Yes,No internet service\n",
              "StreamingMovies                            No,Yes,No internet service\n",
              "Contract                             Month-to-month,One year,Two year\n",
              "PaperlessBilling                                               Yes,No\n",
              "PaymentMethod       Electronic check,Mailed check,Bank transfer (a...\n",
              "MonthlyCharges      29.85,56.95,53.85,42.3,70.7,99.65,89.1,29.75,1...\n",
              "TotalCharges        29.85,1889.5,108.15,1840.75,151.65,820.5,1949....\n",
              "Churn                                                          No,Yes\n",
              "dtype: object"
            ]
          },
          "metadata": {
            "tags": []
          },
          "execution_count": 9
        }
      ]
    },
    {
      "cell_type": "code",
      "metadata": {
        "colab": {
          "base_uri": "https://localhost:8080/"
        },
        "id": "xpUF2q3OSCvR",
        "outputId": "ead7a8ef-c965-407e-9953-4e924fb6bd48"
      },
      "source": [
        "df = data.copy()\r\n",
        "df.shape"
      ],
      "execution_count": 10,
      "outputs": [
        {
          "output_type": "execute_result",
          "data": {
            "text/plain": [
              "(7043, 21)"
            ]
          },
          "metadata": {
            "tags": []
          },
          "execution_count": 10
        }
      ]
    },
    {
      "cell_type": "code",
      "metadata": {
        "id": "Yk7v3q4hSC12"
      },
      "source": [
        "df = df.drop('customerID', axis=1)"
      ],
      "execution_count": 11,
      "outputs": []
    },
    {
      "cell_type": "markdown",
      "metadata": {
        "id": "D--imY7uIWl3"
      },
      "source": [
        "***Encoding the categorical features***"
      ]
    },
    {
      "cell_type": "code",
      "metadata": {
        "id": "wHvo_gRaSC-t"
      },
      "source": [
        "temp1 = df[['SeniorCitizen','tenure','MonthlyCharges','TotalCharges']]"
      ],
      "execution_count": 12,
      "outputs": []
    },
    {
      "cell_type": "code",
      "metadata": {
        "colab": {
          "base_uri": "https://localhost:8080/",
          "height": 204
        },
        "id": "7-Gi6ca9SDGj",
        "outputId": "91023028-eb16-4298-ba71-fc29ac537662"
      },
      "source": [
        "temp1.head()"
      ],
      "execution_count": 13,
      "outputs": [
        {
          "output_type": "execute_result",
          "data": {
            "text/html": [
              "<div>\n",
              "<style scoped>\n",
              "    .dataframe tbody tr th:only-of-type {\n",
              "        vertical-align: middle;\n",
              "    }\n",
              "\n",
              "    .dataframe tbody tr th {\n",
              "        vertical-align: top;\n",
              "    }\n",
              "\n",
              "    .dataframe thead th {\n",
              "        text-align: right;\n",
              "    }\n",
              "</style>\n",
              "<table border=\"1\" class=\"dataframe\">\n",
              "  <thead>\n",
              "    <tr style=\"text-align: right;\">\n",
              "      <th></th>\n",
              "      <th>SeniorCitizen</th>\n",
              "      <th>tenure</th>\n",
              "      <th>MonthlyCharges</th>\n",
              "      <th>TotalCharges</th>\n",
              "    </tr>\n",
              "  </thead>\n",
              "  <tbody>\n",
              "    <tr>\n",
              "      <th>0</th>\n",
              "      <td>0</td>\n",
              "      <td>1</td>\n",
              "      <td>29.85</td>\n",
              "      <td>29.85</td>\n",
              "    </tr>\n",
              "    <tr>\n",
              "      <th>1</th>\n",
              "      <td>0</td>\n",
              "      <td>34</td>\n",
              "      <td>56.95</td>\n",
              "      <td>1889.5</td>\n",
              "    </tr>\n",
              "    <tr>\n",
              "      <th>2</th>\n",
              "      <td>0</td>\n",
              "      <td>2</td>\n",
              "      <td>53.85</td>\n",
              "      <td>108.15</td>\n",
              "    </tr>\n",
              "    <tr>\n",
              "      <th>3</th>\n",
              "      <td>0</td>\n",
              "      <td>45</td>\n",
              "      <td>42.30</td>\n",
              "      <td>1840.75</td>\n",
              "    </tr>\n",
              "    <tr>\n",
              "      <th>4</th>\n",
              "      <td>0</td>\n",
              "      <td>2</td>\n",
              "      <td>70.70</td>\n",
              "      <td>151.65</td>\n",
              "    </tr>\n",
              "  </tbody>\n",
              "</table>\n",
              "</div>"
            ],
            "text/plain": [
              "   SeniorCitizen  tenure  MonthlyCharges TotalCharges\n",
              "0              0       1           29.85        29.85\n",
              "1              0      34           56.95       1889.5\n",
              "2              0       2           53.85       108.15\n",
              "3              0      45           42.30      1840.75\n",
              "4              0       2           70.70       151.65"
            ]
          },
          "metadata": {
            "tags": []
          },
          "execution_count": 13
        }
      ]
    },
    {
      "cell_type": "code",
      "metadata": {
        "id": "kkSW9Yl4SDQM"
      },
      "source": [
        "df = df.drop(['SeniorCitizen','tenure','MonthlyCharges','TotalCharges'], axis=1)"
      ],
      "execution_count": 14,
      "outputs": []
    },
    {
      "cell_type": "code",
      "metadata": {
        "colab": {
          "base_uri": "https://localhost:8080/",
          "height": 258
        },
        "id": "StDuhwVHSDWv",
        "outputId": "b110023a-975a-4803-a6ba-c9f2929ca162"
      },
      "source": [
        "df = pd.get_dummies(df, drop_first=True)\r\n",
        "df.head()"
      ],
      "execution_count": 15,
      "outputs": [
        {
          "output_type": "execute_result",
          "data": {
            "text/html": [
              "<div>\n",
              "<style scoped>\n",
              "    .dataframe tbody tr th:only-of-type {\n",
              "        vertical-align: middle;\n",
              "    }\n",
              "\n",
              "    .dataframe tbody tr th {\n",
              "        vertical-align: top;\n",
              "    }\n",
              "\n",
              "    .dataframe thead th {\n",
              "        text-align: right;\n",
              "    }\n",
              "</style>\n",
              "<table border=\"1\" class=\"dataframe\">\n",
              "  <thead>\n",
              "    <tr style=\"text-align: right;\">\n",
              "      <th></th>\n",
              "      <th>gender_Male</th>\n",
              "      <th>Partner_Yes</th>\n",
              "      <th>Dependents_Yes</th>\n",
              "      <th>PhoneService_Yes</th>\n",
              "      <th>MultipleLines_No phone service</th>\n",
              "      <th>MultipleLines_Yes</th>\n",
              "      <th>InternetService_Fiber optic</th>\n",
              "      <th>InternetService_No</th>\n",
              "      <th>OnlineSecurity_No internet service</th>\n",
              "      <th>OnlineSecurity_Yes</th>\n",
              "      <th>OnlineBackup_No internet service</th>\n",
              "      <th>OnlineBackup_Yes</th>\n",
              "      <th>DeviceProtection_No internet service</th>\n",
              "      <th>DeviceProtection_Yes</th>\n",
              "      <th>TechSupport_No internet service</th>\n",
              "      <th>TechSupport_Yes</th>\n",
              "      <th>StreamingTV_No internet service</th>\n",
              "      <th>StreamingTV_Yes</th>\n",
              "      <th>StreamingMovies_No internet service</th>\n",
              "      <th>StreamingMovies_Yes</th>\n",
              "      <th>Contract_One year</th>\n",
              "      <th>Contract_Two year</th>\n",
              "      <th>PaperlessBilling_Yes</th>\n",
              "      <th>PaymentMethod_Credit card (automatic)</th>\n",
              "      <th>PaymentMethod_Electronic check</th>\n",
              "      <th>PaymentMethod_Mailed check</th>\n",
              "      <th>Churn_Yes</th>\n",
              "    </tr>\n",
              "  </thead>\n",
              "  <tbody>\n",
              "    <tr>\n",
              "      <th>0</th>\n",
              "      <td>0</td>\n",
              "      <td>1</td>\n",
              "      <td>0</td>\n",
              "      <td>0</td>\n",
              "      <td>1</td>\n",
              "      <td>0</td>\n",
              "      <td>0</td>\n",
              "      <td>0</td>\n",
              "      <td>0</td>\n",
              "      <td>0</td>\n",
              "      <td>0</td>\n",
              "      <td>1</td>\n",
              "      <td>0</td>\n",
              "      <td>0</td>\n",
              "      <td>0</td>\n",
              "      <td>0</td>\n",
              "      <td>0</td>\n",
              "      <td>0</td>\n",
              "      <td>0</td>\n",
              "      <td>0</td>\n",
              "      <td>0</td>\n",
              "      <td>0</td>\n",
              "      <td>1</td>\n",
              "      <td>0</td>\n",
              "      <td>1</td>\n",
              "      <td>0</td>\n",
              "      <td>0</td>\n",
              "    </tr>\n",
              "    <tr>\n",
              "      <th>1</th>\n",
              "      <td>1</td>\n",
              "      <td>0</td>\n",
              "      <td>0</td>\n",
              "      <td>1</td>\n",
              "      <td>0</td>\n",
              "      <td>0</td>\n",
              "      <td>0</td>\n",
              "      <td>0</td>\n",
              "      <td>0</td>\n",
              "      <td>1</td>\n",
              "      <td>0</td>\n",
              "      <td>0</td>\n",
              "      <td>0</td>\n",
              "      <td>1</td>\n",
              "      <td>0</td>\n",
              "      <td>0</td>\n",
              "      <td>0</td>\n",
              "      <td>0</td>\n",
              "      <td>0</td>\n",
              "      <td>0</td>\n",
              "      <td>1</td>\n",
              "      <td>0</td>\n",
              "      <td>0</td>\n",
              "      <td>0</td>\n",
              "      <td>0</td>\n",
              "      <td>1</td>\n",
              "      <td>0</td>\n",
              "    </tr>\n",
              "    <tr>\n",
              "      <th>2</th>\n",
              "      <td>1</td>\n",
              "      <td>0</td>\n",
              "      <td>0</td>\n",
              "      <td>1</td>\n",
              "      <td>0</td>\n",
              "      <td>0</td>\n",
              "      <td>0</td>\n",
              "      <td>0</td>\n",
              "      <td>0</td>\n",
              "      <td>1</td>\n",
              "      <td>0</td>\n",
              "      <td>1</td>\n",
              "      <td>0</td>\n",
              "      <td>0</td>\n",
              "      <td>0</td>\n",
              "      <td>0</td>\n",
              "      <td>0</td>\n",
              "      <td>0</td>\n",
              "      <td>0</td>\n",
              "      <td>0</td>\n",
              "      <td>0</td>\n",
              "      <td>0</td>\n",
              "      <td>1</td>\n",
              "      <td>0</td>\n",
              "      <td>0</td>\n",
              "      <td>1</td>\n",
              "      <td>1</td>\n",
              "    </tr>\n",
              "    <tr>\n",
              "      <th>3</th>\n",
              "      <td>1</td>\n",
              "      <td>0</td>\n",
              "      <td>0</td>\n",
              "      <td>0</td>\n",
              "      <td>1</td>\n",
              "      <td>0</td>\n",
              "      <td>0</td>\n",
              "      <td>0</td>\n",
              "      <td>0</td>\n",
              "      <td>1</td>\n",
              "      <td>0</td>\n",
              "      <td>0</td>\n",
              "      <td>0</td>\n",
              "      <td>1</td>\n",
              "      <td>0</td>\n",
              "      <td>1</td>\n",
              "      <td>0</td>\n",
              "      <td>0</td>\n",
              "      <td>0</td>\n",
              "      <td>0</td>\n",
              "      <td>1</td>\n",
              "      <td>0</td>\n",
              "      <td>0</td>\n",
              "      <td>0</td>\n",
              "      <td>0</td>\n",
              "      <td>0</td>\n",
              "      <td>0</td>\n",
              "    </tr>\n",
              "    <tr>\n",
              "      <th>4</th>\n",
              "      <td>0</td>\n",
              "      <td>0</td>\n",
              "      <td>0</td>\n",
              "      <td>1</td>\n",
              "      <td>0</td>\n",
              "      <td>0</td>\n",
              "      <td>1</td>\n",
              "      <td>0</td>\n",
              "      <td>0</td>\n",
              "      <td>0</td>\n",
              "      <td>0</td>\n",
              "      <td>0</td>\n",
              "      <td>0</td>\n",
              "      <td>0</td>\n",
              "      <td>0</td>\n",
              "      <td>0</td>\n",
              "      <td>0</td>\n",
              "      <td>0</td>\n",
              "      <td>0</td>\n",
              "      <td>0</td>\n",
              "      <td>0</td>\n",
              "      <td>0</td>\n",
              "      <td>1</td>\n",
              "      <td>0</td>\n",
              "      <td>1</td>\n",
              "      <td>0</td>\n",
              "      <td>1</td>\n",
              "    </tr>\n",
              "  </tbody>\n",
              "</table>\n",
              "</div>"
            ],
            "text/plain": [
              "   gender_Male  Partner_Yes  Dependents_Yes  PhoneService_Yes  \\\n",
              "0            0            1               0                 0   \n",
              "1            1            0               0                 1   \n",
              "2            1            0               0                 1   \n",
              "3            1            0               0                 0   \n",
              "4            0            0               0                 1   \n",
              "\n",
              "   MultipleLines_No phone service  MultipleLines_Yes  \\\n",
              "0                               1                  0   \n",
              "1                               0                  0   \n",
              "2                               0                  0   \n",
              "3                               1                  0   \n",
              "4                               0                  0   \n",
              "\n",
              "   InternetService_Fiber optic  InternetService_No  \\\n",
              "0                            0                   0   \n",
              "1                            0                   0   \n",
              "2                            0                   0   \n",
              "3                            0                   0   \n",
              "4                            1                   0   \n",
              "\n",
              "   OnlineSecurity_No internet service  OnlineSecurity_Yes  \\\n",
              "0                                   0                   0   \n",
              "1                                   0                   1   \n",
              "2                                   0                   1   \n",
              "3                                   0                   1   \n",
              "4                                   0                   0   \n",
              "\n",
              "   OnlineBackup_No internet service  OnlineBackup_Yes  \\\n",
              "0                                 0                 1   \n",
              "1                                 0                 0   \n",
              "2                                 0                 1   \n",
              "3                                 0                 0   \n",
              "4                                 0                 0   \n",
              "\n",
              "   DeviceProtection_No internet service  DeviceProtection_Yes  \\\n",
              "0                                     0                     0   \n",
              "1                                     0                     1   \n",
              "2                                     0                     0   \n",
              "3                                     0                     1   \n",
              "4                                     0                     0   \n",
              "\n",
              "   TechSupport_No internet service  TechSupport_Yes  \\\n",
              "0                                0                0   \n",
              "1                                0                0   \n",
              "2                                0                0   \n",
              "3                                0                1   \n",
              "4                                0                0   \n",
              "\n",
              "   StreamingTV_No internet service  StreamingTV_Yes  \\\n",
              "0                                0                0   \n",
              "1                                0                0   \n",
              "2                                0                0   \n",
              "3                                0                0   \n",
              "4                                0                0   \n",
              "\n",
              "   StreamingMovies_No internet service  StreamingMovies_Yes  \\\n",
              "0                                    0                    0   \n",
              "1                                    0                    0   \n",
              "2                                    0                    0   \n",
              "3                                    0                    0   \n",
              "4                                    0                    0   \n",
              "\n",
              "   Contract_One year  Contract_Two year  PaperlessBilling_Yes  \\\n",
              "0                  0                  0                     1   \n",
              "1                  1                  0                     0   \n",
              "2                  0                  0                     1   \n",
              "3                  1                  0                     0   \n",
              "4                  0                  0                     1   \n",
              "\n",
              "   PaymentMethod_Credit card (automatic)  PaymentMethod_Electronic check  \\\n",
              "0                                      0                               1   \n",
              "1                                      0                               0   \n",
              "2                                      0                               0   \n",
              "3                                      0                               0   \n",
              "4                                      0                               1   \n",
              "\n",
              "   PaymentMethod_Mailed check  Churn_Yes  \n",
              "0                           0          0  \n",
              "1                           1          0  \n",
              "2                           1          1  \n",
              "3                           0          0  \n",
              "4                           0          1  "
            ]
          },
          "metadata": {
            "tags": []
          },
          "execution_count": 15
        }
      ]
    },
    {
      "cell_type": "code",
      "metadata": {
        "colab": {
          "base_uri": "https://localhost:8080/",
          "height": 258
        },
        "id": "ol7Q9i8wSDuq",
        "outputId": "acd38758-fc7f-4f3d-b9e6-eb764087d1f3"
      },
      "source": [
        "df = pd.concat([df,temp1], axis=1)\r\n",
        "df.head()"
      ],
      "execution_count": 16,
      "outputs": [
        {
          "output_type": "execute_result",
          "data": {
            "text/html": [
              "<div>\n",
              "<style scoped>\n",
              "    .dataframe tbody tr th:only-of-type {\n",
              "        vertical-align: middle;\n",
              "    }\n",
              "\n",
              "    .dataframe tbody tr th {\n",
              "        vertical-align: top;\n",
              "    }\n",
              "\n",
              "    .dataframe thead th {\n",
              "        text-align: right;\n",
              "    }\n",
              "</style>\n",
              "<table border=\"1\" class=\"dataframe\">\n",
              "  <thead>\n",
              "    <tr style=\"text-align: right;\">\n",
              "      <th></th>\n",
              "      <th>gender_Male</th>\n",
              "      <th>Partner_Yes</th>\n",
              "      <th>Dependents_Yes</th>\n",
              "      <th>PhoneService_Yes</th>\n",
              "      <th>MultipleLines_No phone service</th>\n",
              "      <th>MultipleLines_Yes</th>\n",
              "      <th>InternetService_Fiber optic</th>\n",
              "      <th>InternetService_No</th>\n",
              "      <th>OnlineSecurity_No internet service</th>\n",
              "      <th>OnlineSecurity_Yes</th>\n",
              "      <th>OnlineBackup_No internet service</th>\n",
              "      <th>OnlineBackup_Yes</th>\n",
              "      <th>DeviceProtection_No internet service</th>\n",
              "      <th>DeviceProtection_Yes</th>\n",
              "      <th>TechSupport_No internet service</th>\n",
              "      <th>TechSupport_Yes</th>\n",
              "      <th>StreamingTV_No internet service</th>\n",
              "      <th>StreamingTV_Yes</th>\n",
              "      <th>StreamingMovies_No internet service</th>\n",
              "      <th>StreamingMovies_Yes</th>\n",
              "      <th>Contract_One year</th>\n",
              "      <th>Contract_Two year</th>\n",
              "      <th>PaperlessBilling_Yes</th>\n",
              "      <th>PaymentMethod_Credit card (automatic)</th>\n",
              "      <th>PaymentMethod_Electronic check</th>\n",
              "      <th>PaymentMethod_Mailed check</th>\n",
              "      <th>Churn_Yes</th>\n",
              "      <th>SeniorCitizen</th>\n",
              "      <th>tenure</th>\n",
              "      <th>MonthlyCharges</th>\n",
              "      <th>TotalCharges</th>\n",
              "    </tr>\n",
              "  </thead>\n",
              "  <tbody>\n",
              "    <tr>\n",
              "      <th>0</th>\n",
              "      <td>0</td>\n",
              "      <td>1</td>\n",
              "      <td>0</td>\n",
              "      <td>0</td>\n",
              "      <td>1</td>\n",
              "      <td>0</td>\n",
              "      <td>0</td>\n",
              "      <td>0</td>\n",
              "      <td>0</td>\n",
              "      <td>0</td>\n",
              "      <td>0</td>\n",
              "      <td>1</td>\n",
              "      <td>0</td>\n",
              "      <td>0</td>\n",
              "      <td>0</td>\n",
              "      <td>0</td>\n",
              "      <td>0</td>\n",
              "      <td>0</td>\n",
              "      <td>0</td>\n",
              "      <td>0</td>\n",
              "      <td>0</td>\n",
              "      <td>0</td>\n",
              "      <td>1</td>\n",
              "      <td>0</td>\n",
              "      <td>1</td>\n",
              "      <td>0</td>\n",
              "      <td>0</td>\n",
              "      <td>0</td>\n",
              "      <td>1</td>\n",
              "      <td>29.85</td>\n",
              "      <td>29.85</td>\n",
              "    </tr>\n",
              "    <tr>\n",
              "      <th>1</th>\n",
              "      <td>1</td>\n",
              "      <td>0</td>\n",
              "      <td>0</td>\n",
              "      <td>1</td>\n",
              "      <td>0</td>\n",
              "      <td>0</td>\n",
              "      <td>0</td>\n",
              "      <td>0</td>\n",
              "      <td>0</td>\n",
              "      <td>1</td>\n",
              "      <td>0</td>\n",
              "      <td>0</td>\n",
              "      <td>0</td>\n",
              "      <td>1</td>\n",
              "      <td>0</td>\n",
              "      <td>0</td>\n",
              "      <td>0</td>\n",
              "      <td>0</td>\n",
              "      <td>0</td>\n",
              "      <td>0</td>\n",
              "      <td>1</td>\n",
              "      <td>0</td>\n",
              "      <td>0</td>\n",
              "      <td>0</td>\n",
              "      <td>0</td>\n",
              "      <td>1</td>\n",
              "      <td>0</td>\n",
              "      <td>0</td>\n",
              "      <td>34</td>\n",
              "      <td>56.95</td>\n",
              "      <td>1889.5</td>\n",
              "    </tr>\n",
              "    <tr>\n",
              "      <th>2</th>\n",
              "      <td>1</td>\n",
              "      <td>0</td>\n",
              "      <td>0</td>\n",
              "      <td>1</td>\n",
              "      <td>0</td>\n",
              "      <td>0</td>\n",
              "      <td>0</td>\n",
              "      <td>0</td>\n",
              "      <td>0</td>\n",
              "      <td>1</td>\n",
              "      <td>0</td>\n",
              "      <td>1</td>\n",
              "      <td>0</td>\n",
              "      <td>0</td>\n",
              "      <td>0</td>\n",
              "      <td>0</td>\n",
              "      <td>0</td>\n",
              "      <td>0</td>\n",
              "      <td>0</td>\n",
              "      <td>0</td>\n",
              "      <td>0</td>\n",
              "      <td>0</td>\n",
              "      <td>1</td>\n",
              "      <td>0</td>\n",
              "      <td>0</td>\n",
              "      <td>1</td>\n",
              "      <td>1</td>\n",
              "      <td>0</td>\n",
              "      <td>2</td>\n",
              "      <td>53.85</td>\n",
              "      <td>108.15</td>\n",
              "    </tr>\n",
              "    <tr>\n",
              "      <th>3</th>\n",
              "      <td>1</td>\n",
              "      <td>0</td>\n",
              "      <td>0</td>\n",
              "      <td>0</td>\n",
              "      <td>1</td>\n",
              "      <td>0</td>\n",
              "      <td>0</td>\n",
              "      <td>0</td>\n",
              "      <td>0</td>\n",
              "      <td>1</td>\n",
              "      <td>0</td>\n",
              "      <td>0</td>\n",
              "      <td>0</td>\n",
              "      <td>1</td>\n",
              "      <td>0</td>\n",
              "      <td>1</td>\n",
              "      <td>0</td>\n",
              "      <td>0</td>\n",
              "      <td>0</td>\n",
              "      <td>0</td>\n",
              "      <td>1</td>\n",
              "      <td>0</td>\n",
              "      <td>0</td>\n",
              "      <td>0</td>\n",
              "      <td>0</td>\n",
              "      <td>0</td>\n",
              "      <td>0</td>\n",
              "      <td>0</td>\n",
              "      <td>45</td>\n",
              "      <td>42.30</td>\n",
              "      <td>1840.75</td>\n",
              "    </tr>\n",
              "    <tr>\n",
              "      <th>4</th>\n",
              "      <td>0</td>\n",
              "      <td>0</td>\n",
              "      <td>0</td>\n",
              "      <td>1</td>\n",
              "      <td>0</td>\n",
              "      <td>0</td>\n",
              "      <td>1</td>\n",
              "      <td>0</td>\n",
              "      <td>0</td>\n",
              "      <td>0</td>\n",
              "      <td>0</td>\n",
              "      <td>0</td>\n",
              "      <td>0</td>\n",
              "      <td>0</td>\n",
              "      <td>0</td>\n",
              "      <td>0</td>\n",
              "      <td>0</td>\n",
              "      <td>0</td>\n",
              "      <td>0</td>\n",
              "      <td>0</td>\n",
              "      <td>0</td>\n",
              "      <td>0</td>\n",
              "      <td>1</td>\n",
              "      <td>0</td>\n",
              "      <td>1</td>\n",
              "      <td>0</td>\n",
              "      <td>1</td>\n",
              "      <td>0</td>\n",
              "      <td>2</td>\n",
              "      <td>70.70</td>\n",
              "      <td>151.65</td>\n",
              "    </tr>\n",
              "  </tbody>\n",
              "</table>\n",
              "</div>"
            ],
            "text/plain": [
              "   gender_Male  Partner_Yes  Dependents_Yes  PhoneService_Yes  \\\n",
              "0            0            1               0                 0   \n",
              "1            1            0               0                 1   \n",
              "2            1            0               0                 1   \n",
              "3            1            0               0                 0   \n",
              "4            0            0               0                 1   \n",
              "\n",
              "   MultipleLines_No phone service  MultipleLines_Yes  \\\n",
              "0                               1                  0   \n",
              "1                               0                  0   \n",
              "2                               0                  0   \n",
              "3                               1                  0   \n",
              "4                               0                  0   \n",
              "\n",
              "   InternetService_Fiber optic  InternetService_No  \\\n",
              "0                            0                   0   \n",
              "1                            0                   0   \n",
              "2                            0                   0   \n",
              "3                            0                   0   \n",
              "4                            1                   0   \n",
              "\n",
              "   OnlineSecurity_No internet service  OnlineSecurity_Yes  \\\n",
              "0                                   0                   0   \n",
              "1                                   0                   1   \n",
              "2                                   0                   1   \n",
              "3                                   0                   1   \n",
              "4                                   0                   0   \n",
              "\n",
              "   OnlineBackup_No internet service  OnlineBackup_Yes  \\\n",
              "0                                 0                 1   \n",
              "1                                 0                 0   \n",
              "2                                 0                 1   \n",
              "3                                 0                 0   \n",
              "4                                 0                 0   \n",
              "\n",
              "   DeviceProtection_No internet service  DeviceProtection_Yes  \\\n",
              "0                                     0                     0   \n",
              "1                                     0                     1   \n",
              "2                                     0                     0   \n",
              "3                                     0                     1   \n",
              "4                                     0                     0   \n",
              "\n",
              "   TechSupport_No internet service  TechSupport_Yes  \\\n",
              "0                                0                0   \n",
              "1                                0                0   \n",
              "2                                0                0   \n",
              "3                                0                1   \n",
              "4                                0                0   \n",
              "\n",
              "   StreamingTV_No internet service  StreamingTV_Yes  \\\n",
              "0                                0                0   \n",
              "1                                0                0   \n",
              "2                                0                0   \n",
              "3                                0                0   \n",
              "4                                0                0   \n",
              "\n",
              "   StreamingMovies_No internet service  StreamingMovies_Yes  \\\n",
              "0                                    0                    0   \n",
              "1                                    0                    0   \n",
              "2                                    0                    0   \n",
              "3                                    0                    0   \n",
              "4                                    0                    0   \n",
              "\n",
              "   Contract_One year  Contract_Two year  PaperlessBilling_Yes  \\\n",
              "0                  0                  0                     1   \n",
              "1                  1                  0                     0   \n",
              "2                  0                  0                     1   \n",
              "3                  1                  0                     0   \n",
              "4                  0                  0                     1   \n",
              "\n",
              "   PaymentMethod_Credit card (automatic)  PaymentMethod_Electronic check  \\\n",
              "0                                      0                               1   \n",
              "1                                      0                               0   \n",
              "2                                      0                               0   \n",
              "3                                      0                               0   \n",
              "4                                      0                               1   \n",
              "\n",
              "   PaymentMethod_Mailed check  Churn_Yes  SeniorCitizen  tenure  \\\n",
              "0                           0          0              0       1   \n",
              "1                           1          0              0      34   \n",
              "2                           1          1              0       2   \n",
              "3                           0          0              0      45   \n",
              "4                           0          1              0       2   \n",
              "\n",
              "   MonthlyCharges TotalCharges  \n",
              "0           29.85        29.85  \n",
              "1           56.95       1889.5  \n",
              "2           53.85       108.15  \n",
              "3           42.30      1840.75  \n",
              "4           70.70       151.65  "
            ]
          },
          "metadata": {
            "tags": []
          },
          "execution_count": 16
        }
      ]
    },
    {
      "cell_type": "code",
      "metadata": {
        "colab": {
          "base_uri": "https://localhost:8080/"
        },
        "id": "ZtC7ryi6SDyk",
        "outputId": "3ccf0818-9112-49cd-fd54-2cdb1d25abc1"
      },
      "source": [
        "df.shape"
      ],
      "execution_count": 17,
      "outputs": [
        {
          "output_type": "execute_result",
          "data": {
            "text/plain": [
              "(7043, 31)"
            ]
          },
          "metadata": {
            "tags": []
          },
          "execution_count": 17
        }
      ]
    },
    {
      "cell_type": "code",
      "metadata": {
        "id": "bXthSM-YSD31"
      },
      "source": [
        "df['TotalCharges'] = pd.to_numeric(df['TotalCharges'], errors='coerce')"
      ],
      "execution_count": 18,
      "outputs": []
    },
    {
      "cell_type": "markdown",
      "metadata": {
        "id": "O_0vw3aoIkWF"
      },
      "source": [
        "the above changes could have been also done by using astype(float) function but it was showing some error in converting the string to float. so used different method for change\r\n"
      ]
    },
    {
      "cell_type": "code",
      "metadata": {
        "colab": {
          "base_uri": "https://localhost:8080/"
        },
        "id": "QmAlIX0PSD8h",
        "outputId": "adc33715-fc98-40ef-88dc-afffbf89d68f"
      },
      "source": [
        "df.isnull().sum()"
      ],
      "execution_count": 19,
      "outputs": [
        {
          "output_type": "execute_result",
          "data": {
            "text/plain": [
              "gender_Male                               0\n",
              "Partner_Yes                               0\n",
              "Dependents_Yes                            0\n",
              "PhoneService_Yes                          0\n",
              "MultipleLines_No phone service            0\n",
              "MultipleLines_Yes                         0\n",
              "InternetService_Fiber optic               0\n",
              "InternetService_No                        0\n",
              "OnlineSecurity_No internet service        0\n",
              "OnlineSecurity_Yes                        0\n",
              "OnlineBackup_No internet service          0\n",
              "OnlineBackup_Yes                          0\n",
              "DeviceProtection_No internet service      0\n",
              "DeviceProtection_Yes                      0\n",
              "TechSupport_No internet service           0\n",
              "TechSupport_Yes                           0\n",
              "StreamingTV_No internet service           0\n",
              "StreamingTV_Yes                           0\n",
              "StreamingMovies_No internet service       0\n",
              "StreamingMovies_Yes                       0\n",
              "Contract_One year                         0\n",
              "Contract_Two year                         0\n",
              "PaperlessBilling_Yes                      0\n",
              "PaymentMethod_Credit card (automatic)     0\n",
              "PaymentMethod_Electronic check            0\n",
              "PaymentMethod_Mailed check                0\n",
              "Churn_Yes                                 0\n",
              "SeniorCitizen                             0\n",
              "tenure                                    0\n",
              "MonthlyCharges                            0\n",
              "TotalCharges                             11\n",
              "dtype: int64"
            ]
          },
          "metadata": {
            "tags": []
          },
          "execution_count": 19
        }
      ]
    },
    {
      "cell_type": "code",
      "metadata": {
        "id": "ToUoaXoFSEAE"
      },
      "source": [
        "df['TotalCharges'] = df['TotalCharges'].replace(np.nan, df['TotalCharges'].mean())"
      ],
      "execution_count": 20,
      "outputs": []
    },
    {
      "cell_type": "code",
      "metadata": {
        "colab": {
          "base_uri": "https://localhost:8080/"
        },
        "id": "3Lfew0rZSEG1",
        "outputId": "036037ad-96ae-4194-9e63-028067152891"
      },
      "source": [
        "df.isnull().sum()"
      ],
      "execution_count": 21,
      "outputs": [
        {
          "output_type": "execute_result",
          "data": {
            "text/plain": [
              "gender_Male                              0\n",
              "Partner_Yes                              0\n",
              "Dependents_Yes                           0\n",
              "PhoneService_Yes                         0\n",
              "MultipleLines_No phone service           0\n",
              "MultipleLines_Yes                        0\n",
              "InternetService_Fiber optic              0\n",
              "InternetService_No                       0\n",
              "OnlineSecurity_No internet service       0\n",
              "OnlineSecurity_Yes                       0\n",
              "OnlineBackup_No internet service         0\n",
              "OnlineBackup_Yes                         0\n",
              "DeviceProtection_No internet service     0\n",
              "DeviceProtection_Yes                     0\n",
              "TechSupport_No internet service          0\n",
              "TechSupport_Yes                          0\n",
              "StreamingTV_No internet service          0\n",
              "StreamingTV_Yes                          0\n",
              "StreamingMovies_No internet service      0\n",
              "StreamingMovies_Yes                      0\n",
              "Contract_One year                        0\n",
              "Contract_Two year                        0\n",
              "PaperlessBilling_Yes                     0\n",
              "PaymentMethod_Credit card (automatic)    0\n",
              "PaymentMethod_Electronic check           0\n",
              "PaymentMethod_Mailed check               0\n",
              "Churn_Yes                                0\n",
              "SeniorCitizen                            0\n",
              "tenure                                   0\n",
              "MonthlyCharges                           0\n",
              "TotalCharges                             0\n",
              "dtype: int64"
            ]
          },
          "metadata": {
            "tags": []
          },
          "execution_count": 21
        }
      ]
    },
    {
      "cell_type": "code",
      "metadata": {
        "colab": {
          "base_uri": "https://localhost:8080/"
        },
        "id": "VwJeZfTvSEbr",
        "outputId": "7873baf4-a650-4a22-8f67-fcf9e5257884"
      },
      "source": [
        "df.dtypes"
      ],
      "execution_count": 22,
      "outputs": [
        {
          "output_type": "execute_result",
          "data": {
            "text/plain": [
              "gender_Male                                uint8\n",
              "Partner_Yes                                uint8\n",
              "Dependents_Yes                             uint8\n",
              "PhoneService_Yes                           uint8\n",
              "MultipleLines_No phone service             uint8\n",
              "MultipleLines_Yes                          uint8\n",
              "InternetService_Fiber optic                uint8\n",
              "InternetService_No                         uint8\n",
              "OnlineSecurity_No internet service         uint8\n",
              "OnlineSecurity_Yes                         uint8\n",
              "OnlineBackup_No internet service           uint8\n",
              "OnlineBackup_Yes                           uint8\n",
              "DeviceProtection_No internet service       uint8\n",
              "DeviceProtection_Yes                       uint8\n",
              "TechSupport_No internet service            uint8\n",
              "TechSupport_Yes                            uint8\n",
              "StreamingTV_No internet service            uint8\n",
              "StreamingTV_Yes                            uint8\n",
              "StreamingMovies_No internet service        uint8\n",
              "StreamingMovies_Yes                        uint8\n",
              "Contract_One year                          uint8\n",
              "Contract_Two year                          uint8\n",
              "PaperlessBilling_Yes                       uint8\n",
              "PaymentMethod_Credit card (automatic)      uint8\n",
              "PaymentMethod_Electronic check             uint8\n",
              "PaymentMethod_Mailed check                 uint8\n",
              "Churn_Yes                                  uint8\n",
              "SeniorCitizen                              int64\n",
              "tenure                                     int64\n",
              "MonthlyCharges                           float64\n",
              "TotalCharges                             float64\n",
              "dtype: object"
            ]
          },
          "metadata": {
            "tags": []
          },
          "execution_count": 22
        }
      ]
    },
    {
      "cell_type": "markdown",
      "metadata": {
        "id": "LBqjWyVLJAHU"
      },
      "source": [
        "**splitting the data into train and valid**"
      ]
    },
    {
      "cell_type": "code",
      "metadata": {
        "colab": {
          "base_uri": "https://localhost:8080/"
        },
        "id": "qn3bv-NISEhq",
        "outputId": "ed5f69ee-345b-447f-c996-161b2bd6060f"
      },
      "source": [
        "train = df[:4000]\r\n",
        "valid = df[4000:]\r\n",
        "valid = valid.drop('Churn_Yes', axis=1)\r\n",
        "print(train.shape)\r\n",
        "print(valid.shape)"
      ],
      "execution_count": 23,
      "outputs": [
        {
          "output_type": "stream",
          "text": [
            "(4000, 31)\n",
            "(3043, 30)\n"
          ],
          "name": "stdout"
        }
      ]
    },
    {
      "cell_type": "markdown",
      "metadata": {
        "id": "kWVC2Da2JLrY"
      },
      "source": [
        "**scaling the MonthlyCharges and TotalCharges**"
      ]
    },
    {
      "cell_type": "code",
      "metadata": {
        "colab": {
          "base_uri": "https://localhost:8080/",
          "height": 419
        },
        "id": "cxoWB8VXSrEe",
        "outputId": "c8cbddba-da54-4507-efd0-bbe5ceedc691"
      },
      "source": [
        "from sklearn.preprocessing import StandardScaler\r\n",
        "\r\n",
        "temp = train[['MonthlyCharges','TotalCharges']]\r\n",
        "scaler = StandardScaler()\r\n",
        "scaler.fit(temp)\r\n",
        "temp = pd.DataFrame(scaler.transform(temp), columns= ['MonthlyCharges','TotalCharges'])\r\n",
        "temp"
      ],
      "execution_count": 24,
      "outputs": [
        {
          "output_type": "execute_result",
          "data": {
            "text/html": [
              "<div>\n",
              "<style scoped>\n",
              "    .dataframe tbody tr th:only-of-type {\n",
              "        vertical-align: middle;\n",
              "    }\n",
              "\n",
              "    .dataframe tbody tr th {\n",
              "        vertical-align: top;\n",
              "    }\n",
              "\n",
              "    .dataframe thead th {\n",
              "        text-align: right;\n",
              "    }\n",
              "</style>\n",
              "<table border=\"1\" class=\"dataframe\">\n",
              "  <thead>\n",
              "    <tr style=\"text-align: right;\">\n",
              "      <th></th>\n",
              "      <th>MonthlyCharges</th>\n",
              "      <th>TotalCharges</th>\n",
              "    </tr>\n",
              "  </thead>\n",
              "  <tbody>\n",
              "    <tr>\n",
              "      <th>0</th>\n",
              "      <td>-1.166892</td>\n",
              "      <td>-0.987321</td>\n",
              "    </tr>\n",
              "    <tr>\n",
              "      <th>1</th>\n",
              "      <td>-0.265985</td>\n",
              "      <td>-0.166066</td>\n",
              "    </tr>\n",
              "    <tr>\n",
              "      <th>2</th>\n",
              "      <td>-0.369041</td>\n",
              "      <td>-0.952742</td>\n",
              "    </tr>\n",
              "    <tr>\n",
              "      <th>3</th>\n",
              "      <td>-0.753007</td>\n",
              "      <td>-0.187595</td>\n",
              "    </tr>\n",
              "    <tr>\n",
              "      <th>4</th>\n",
              "      <td>0.191117</td>\n",
              "      <td>-0.933532</td>\n",
              "    </tr>\n",
              "    <tr>\n",
              "      <th>...</th>\n",
              "      <td>...</td>\n",
              "      <td>...</td>\n",
              "    </tr>\n",
              "    <tr>\n",
              "      <th>3995</th>\n",
              "      <td>0.330741</td>\n",
              "      <td>-0.086994</td>\n",
              "    </tr>\n",
              "    <tr>\n",
              "      <th>3996</th>\n",
              "      <td>-1.469411</td>\n",
              "      <td>-0.785413</td>\n",
              "    </tr>\n",
              "    <tr>\n",
              "      <th>3997</th>\n",
              "      <td>-0.116388</td>\n",
              "      <td>0.823909</td>\n",
              "    </tr>\n",
              "    <tr>\n",
              "      <th>3998</th>\n",
              "      <td>-0.347432</td>\n",
              "      <td>0.015726</td>\n",
              "    </tr>\n",
              "    <tr>\n",
              "      <th>3999</th>\n",
              "      <td>0.154549</td>\n",
              "      <td>-0.942364</td>\n",
              "    </tr>\n",
              "  </tbody>\n",
              "</table>\n",
              "<p>4000 rows × 2 columns</p>\n",
              "</div>"
            ],
            "text/plain": [
              "      MonthlyCharges  TotalCharges\n",
              "0          -1.166892     -0.987321\n",
              "1          -0.265985     -0.166066\n",
              "2          -0.369041     -0.952742\n",
              "3          -0.753007     -0.187595\n",
              "4           0.191117     -0.933532\n",
              "...              ...           ...\n",
              "3995        0.330741     -0.086994\n",
              "3996       -1.469411     -0.785413\n",
              "3997       -0.116388      0.823909\n",
              "3998       -0.347432      0.015726\n",
              "3999        0.154549     -0.942364\n",
              "\n",
              "[4000 rows x 2 columns]"
            ]
          },
          "metadata": {
            "tags": []
          },
          "execution_count": 24
        }
      ]
    },
    {
      "cell_type": "code",
      "metadata": {
        "id": "ehk5qe4MSrI0"
      },
      "source": [
        "train = train.drop(['MonthlyCharges','TotalCharges'], axis=1)\r\n",
        "train = pd.concat([train,temp], axis=1)"
      ],
      "execution_count": 25,
      "outputs": []
    },
    {
      "cell_type": "markdown",
      "metadata": {
        "id": "g4JYD05UJeUa"
      },
      "source": [
        "***Importing the libraries for model building and prediction***"
      ]
    },
    {
      "cell_type": "code",
      "metadata": {
        "id": "_DeYvOkJSrMB"
      },
      "source": [
        "from sklearn.linear_model import (RidgeClassifier,\r\n",
        "                                  Ridge,\r\n",
        "                                  SGDClassifier,\r\n",
        "                                 LogisticRegression)\r\n",
        "from sklearn.neighbors import KNeighborsClassifier\r\n",
        "from sklearn.ensemble import (AdaBoostClassifier,\r\n",
        "                              ExtraTreesClassifier,\r\n",
        "                              RandomForestClassifier,\r\n",
        "                              GradientBoostingClassifier,\r\n",
        "                              BaggingClassifier,\r\n",
        "                              IsolationForest)\r\n",
        "from sklearn.tree import DecisionTreeClassifier\r\n",
        "from sklearn.svm import SVC\r\n",
        "from sklearn.model_selection import train_test_split, RandomizedSearchCV\r\n",
        "from sklearn.metrics import (accuracy_score,\r\n",
        "                             confusion_matrix,\r\n",
        "                             f1_score,\r\n",
        "                             classification_report,\r\n",
        "                             roc_auc_score,\r\n",
        "                             roc_curve,\r\n",
        "                             plot_roc_curve,\r\n",
        "                             precision_recall_curve)"
      ],
      "execution_count": 26,
      "outputs": []
    },
    {
      "cell_type": "markdown",
      "metadata": {
        "id": "NgNxWdXDJqiZ"
      },
      "source": [
        "**Applying the ExtraTreeClassifier for selecting the important features for prediction**"
      ]
    },
    {
      "cell_type": "code",
      "metadata": {
        "colab": {
          "base_uri": "https://localhost:8080/",
          "height": 1000
        },
        "id": "lvFm6ne-SrPZ",
        "outputId": "bffc3349-6c9f-434b-9873-5127546e1877"
      },
      "source": [
        "modelfe = ExtraTreesClassifier()\r\n",
        "modelfe.fit(train.drop('Churn_Yes', axis=1), train['Churn_Yes'])\r\n",
        "dictio = {'Features':train.drop('Churn_Yes', axis=1).columns, 'Importance':modelfe.feature_importances_}\r\n",
        "feature_select = pd.DataFrame(dictio)\r\n",
        "plt.figure(figsize=(10,10))\r\n",
        "feature_select = feature_select.sort_values(by='Importance')\r\n",
        "sns.barplot(x='Importance', y='Features',data=feature_select)\r\n",
        "plt.xticks(rotation=90)\r\n",
        "plt.show()\r\n",
        "print(feature_select)"
      ],
      "execution_count": 27,
      "outputs": [
        {
          "output_type": "display_data",
          "data": {
            "image/png": "[encoded data removed]",
            "text/plain": [
              "<Figure size 720x720 with 1 Axes>"
            ]
          },
          "metadata": {
            "tags": [],
            "needs_background": "light"
          }
        },
        {
          "output_type": "stream",
          "text": [
            "                                 Features  Importance\n",
            "14        TechSupport_No internet service    0.002842\n",
            "18    StreamingMovies_No internet service    0.002888\n",
            "8      OnlineSecurity_No internet service    0.004071\n",
            "3                        PhoneService_Yes    0.005049\n",
            "4          MultipleLines_No phone service    0.005117\n",
            "16        StreamingTV_No internet service    0.005264\n",
            "10       OnlineBackup_No internet service    0.007946\n",
            "12   DeviceProtection_No internet service    0.008336\n",
            "7                      InternetService_No    0.011894\n",
            "25             PaymentMethod_Mailed check    0.015191\n",
            "23  PaymentMethod_Credit card (automatic)    0.018143\n",
            "19                    StreamingMovies_Yes    0.024156\n",
            "17                        StreamingTV_Yes    0.024646\n",
            "13                   DeviceProtection_Yes    0.024855\n",
            "2                          Dependents_Yes    0.025011\n",
            "5                       MultipleLines_Yes    0.026380\n",
            "26                          SeniorCitizen    0.027085\n",
            "11                       OnlineBackup_Yes    0.028117\n",
            "1                             Partner_Yes    0.030664\n",
            "22                   PaperlessBilling_Yes    0.031248\n",
            "20                      Contract_One year    0.032412\n",
            "9                      OnlineSecurity_Yes    0.032424\n",
            "15                        TechSupport_Yes    0.034394\n",
            "24         PaymentMethod_Electronic check    0.035797\n",
            "0                             gender_Male    0.037440\n",
            "21                      Contract_Two year    0.039940\n",
            "6             InternetService_Fiber optic    0.049553\n",
            "28                         MonthlyCharges    0.123697\n",
            "27                                 tenure    0.139391\n",
            "29                           TotalCharges    0.146048\n"
          ],
          "name": "stdout"
        }
      ]
    },
    {
      "cell_type": "markdown",
      "metadata": {
        "id": "6YkO2Y13NmBn"
      },
      "source": [
        "By viewing the above result,  we can say that few of the features are much important in prediction, and can also give important insight for churn. TotalCharges, tenure, MonthlyCharges, contract period, TechSupport, Partner, PaperlessBilling are playing the important roles and by consedering these features we can easily determine and convert the churners to stay in connect with company."
      ]
    },
    {
      "cell_type": "code",
      "metadata": {
        "colab": {
          "base_uri": "https://localhost:8080/"
        },
        "id": "h_UTInVqSrS0",
        "outputId": "e75711a2-a2e8-464c-84ec-d2fcfb074617"
      },
      "source": [
        "list(feature_select['Features'][feature_select['Importance']>=0.03])"
      ],
      "execution_count": 28,
      "outputs": [
        {
          "output_type": "execute_result",
          "data": {
            "text/plain": [
              "['Partner_Yes',\n",
              " 'PaperlessBilling_Yes',\n",
              " 'Contract_One year',\n",
              " 'OnlineSecurity_Yes',\n",
              " 'TechSupport_Yes',\n",
              " 'PaymentMethod_Electronic check',\n",
              " 'gender_Male',\n",
              " 'Contract_Two year',\n",
              " 'InternetService_Fiber optic',\n",
              " 'MonthlyCharges',\n",
              " 'tenure',\n",
              " 'TotalCharges']"
            ]
          },
          "metadata": {
            "tags": []
          },
          "execution_count": 28
        }
      ]
    },
    {
      "cell_type": "code",
      "metadata": {
        "id": "eQHa7rKXSrWa"
      },
      "source": [
        "X = train[['TechSupport_Yes',\r\n",
        " 'Partner_Yes',\r\n",
        " 'PaperlessBilling_Yes',\r\n",
        " 'Contract_One year',\r\n",
        " 'OnlineSecurity_Yes',\r\n",
        " 'gender_Male',\r\n",
        " 'Contract_Two year',\r\n",
        " 'PaymentMethod_Electronic check',\r\n",
        "          'InternetService_Fiber optic',\r\n",
        "          'MonthlyCharges',\r\n",
        "          'tenure',\r\n",
        "          'TotalCharges']]\r\n",
        "y = train['Churn_Yes']"
      ],
      "execution_count": 29,
      "outputs": []
    },
    {
      "cell_type": "code",
      "metadata": {
        "colab": {
          "base_uri": "https://localhost:8080/"
        },
        "id": "g_KZDsgTSrb2",
        "outputId": "b981d6a4-98e4-456e-b86a-ff86fc5a04c9"
      },
      "source": [
        "print(X.shape)\r\n",
        "print(y.shape)"
      ],
      "execution_count": 30,
      "outputs": [
        {
          "output_type": "stream",
          "text": [
            "(4000, 12)\n",
            "(4000,)\n"
          ],
          "name": "stdout"
        }
      ]
    },
    {
      "cell_type": "markdown",
      "metadata": {
        "id": "_mebttIMJ_SS"
      },
      "source": [
        "***Splitting the train and test data for model training***"
      ]
    },
    {
      "cell_type": "code",
      "metadata": {
        "id": "bGQR0rhtSEmK"
      },
      "source": [
        "from sklearn import model_selection\r\n",
        "xtrain,xtest,ytrain,ytest = model_selection.train_test_split(X,y,test_size=0.2,random_state=0)"
      ],
      "execution_count": 32,
      "outputs": []
    },
    {
      "cell_type": "markdown",
      "metadata": {
        "id": "J5zpiptnKIkm"
      },
      "source": [
        "***Testing each model accuracy on training data***"
      ]
    },
    {
      "cell_type": "code",
      "metadata": {
        "id": "ngD0lvVzTLPO"
      },
      "source": [
        "models = []\r\n",
        "models.append(('LR', LogisticRegression()))\r\n",
        "models.append(('SVC', SVC()))\r\n",
        "models.append(('Linear_SVC', LinearSVC()))\r\n",
        "models.append(('SGD', SGDClassifier(max_iter=5, tol=None)))\r\n",
        "models.append(('NB', GaussianNB()))\r\n",
        "models.append(('RF', RandomForestClassifier(n_estimators = 100)))\r\n",
        "models.append(('abc', AdaBoostClassifier()))"
      ],
      "execution_count": 35,
      "outputs": []
    },
    {
      "cell_type": "code",
      "metadata": {
        "colab": {
          "base_uri": "https://localhost:8080/"
        },
        "id": "PVO96jg9TLTR",
        "outputId": "dac3ba73-0deb-4cb6-baa9-ad15ad2506de"
      },
      "source": [
        "results = []\r\n",
        "names = []\r\n",
        "for name, model in models:\r\n",
        "  cv_result = cross_val_score(model, xtrain,ytrain, scoring='accuracy', cv=10)\r\n",
        "  results.append(cv_result)\r\n",
        "  names.append(name)\r\n",
        "  print('%s: %f (%f)' % (name, cv_result.mean(), cv_result.std()))"
      ],
      "execution_count": 36,
      "outputs": [
        {
          "output_type": "stream",
          "text": [
            "LR: 0.796563 (0.024782)\n",
            "SVC: 0.784375 (0.016536)\n",
            "Linear_SVC: 0.733437 (0.079070)\n",
            "SGD: 0.766562 (0.041577)\n",
            "NB: 0.738125 (0.039301)\n",
            "RF: 0.781562 (0.018825)\n",
            "abc: 0.795937 (0.031032)\n"
          ],
          "name": "stdout"
        }
      ]
    },
    {
      "cell_type": "markdown",
      "metadata": {
        "id": "JJZxlyBoKy3B"
      },
      "source": [
        "-----------------------"
      ]
    },
    {
      "cell_type": "markdown",
      "metadata": {
        "id": "7nu6DlkBKTlc"
      },
      "source": [
        "# ***Defining ROC_AUC curve***"
      ]
    },
    {
      "cell_type": "code",
      "metadata": {
        "id": "CDdcsiGfTLXa"
      },
      "source": [
        "def plot_roc(model,xtest,ytest,color='b'):\r\n",
        "    proba = model.predict_proba(xtest)[:,1]\r\n",
        "    fpr, tpr, thresholds = roc_curve(ytest, proba)\r\n",
        "    plt.title('Receiver Operating Characteristic')\r\n",
        "    plt.plot(fpr, tpr, color, label = 'AUC = %0.2f' % roc_auc_score(ytest,ypred))\r\n",
        "    plt.legend(loc = 'lower right')\r\n",
        "    plt.plot([0, 1], [0, 1],'k--')\r\n",
        "    plt.xlim([0, 1])\r\n",
        "    plt.ylim([0, 1])\r\n",
        "    plt.ylabel('True Positive Rate')\r\n",
        "    plt.xlabel('False Positive Rate')\r\n",
        "    plt.show()"
      ],
      "execution_count": 37,
      "outputs": []
    },
    {
      "cell_type": "code",
      "metadata": {
        "colab": {
          "base_uri": "https://localhost:8080/"
        },
        "id": "xy61FQHjTLbp",
        "outputId": "b51cdda9-e74e-4a8c-f772-4f9029e98ffb"
      },
      "source": [
        "np.unique(ytest, return_counts=True)"
      ],
      "execution_count": 38,
      "outputs": [
        {
          "output_type": "execute_result",
          "data": {
            "text/plain": [
              "(array([0, 1], dtype=uint8), array([582, 218]))"
            ]
          },
          "metadata": {
            "tags": []
          },
          "execution_count": 38
        }
      ]
    },
    {
      "cell_type": "code",
      "metadata": {
        "colab": {
          "base_uri": "https://localhost:8080/"
        },
        "id": "FT7_8LXCT_Cn",
        "outputId": "3724933f-73d5-4f71-afcb-1c72349643f1"
      },
      "source": [
        "np.unique(ytrain, return_counts=True)"
      ],
      "execution_count": 39,
      "outputs": [
        {
          "output_type": "execute_result",
          "data": {
            "text/plain": [
              "(array([0, 1], dtype=uint8), array([2361,  839]))"
            ]
          },
          "metadata": {
            "tags": []
          },
          "execution_count": 39
        }
      ]
    },
    {
      "cell_type": "markdown",
      "metadata": {
        "id": "OTvnVeOvKokx"
      },
      "source": [
        "# **Logistic Regression**"
      ]
    },
    {
      "cell_type": "code",
      "metadata": {
        "colab": {
          "base_uri": "https://localhost:8080/"
        },
        "id": "qqByRfU5T_Hl",
        "outputId": "9f53fb4f-5c81-481e-da6a-230dd69e3607"
      },
      "source": [
        "from sklearn.linear_model import LogisticRegression\r\n",
        "\r\n",
        "lr = LogisticRegression(class_weight='balanced',random_state=11)\r\n",
        "lr.fit(xtrain, ytrain)"
      ],
      "execution_count": 40,
      "outputs": [
        {
          "output_type": "execute_result",
          "data": {
            "text/plain": [
              "LogisticRegression(C=1.0, class_weight='balanced', dual=False,\n",
              "                   fit_intercept=True, intercept_scaling=1, l1_ratio=None,\n",
              "                   max_iter=100, multi_class='auto', n_jobs=None, penalty='l2',\n",
              "                   random_state=11, solver='lbfgs', tol=0.0001, verbose=0,\n",
              "                   warm_start=False)"
            ]
          },
          "metadata": {
            "tags": []
          },
          "execution_count": 40
        }
      ]
    },
    {
      "cell_type": "code",
      "metadata": {
        "id": "SWxWDlsaT_Le"
      },
      "source": [
        "ypred = lr.predict(xtest)"
      ],
      "execution_count": 41,
      "outputs": []
    },
    {
      "cell_type": "code",
      "metadata": {
        "colab": {
          "base_uri": "https://localhost:8080/",
          "height": 516
        },
        "id": "kl6cg44NT_PK",
        "outputId": "aa101e42-5992-4ddf-ab45-b0aa3cbf75db"
      },
      "source": [
        "print(metrics.accuracy_score(ytest, ypred))\r\n",
        "print(metrics.classification_report(ytest,ypred))\r\n",
        "print(confusion_matrix(ytest,ypred))\r\n",
        "print(\"AUC -> \",roc_auc_score(ytest,ypred))\r\n",
        "plot_roc(lr,xtest,ytest,'g')"
      ],
      "execution_count": 42,
      "outputs": [
        {
          "output_type": "stream",
          "text": [
            "0.765\n",
            "              precision    recall  f1-score   support\n",
            "\n",
            "           0       0.93      0.74      0.82       582\n",
            "           1       0.54      0.84      0.66       218\n",
            "\n",
            "    accuracy                           0.77       800\n",
            "   macro avg       0.74      0.79      0.74       800\n",
            "weighted avg       0.82      0.77      0.78       800\n",
            "\n",
            "[[428 154]\n",
            " [ 34 184]]\n",
            "AUC ->  0.7897159431255715\n"
          ],
          "name": "stdout"
        },
        {
          "output_type": "display_data",
          "data": {
            "image/png": "[encoded data removed]",
            "text/plain": [
              "<Figure size 432x288 with 1 Axes>"
            ]
          },
          "metadata": {
            "tags": [],
            "needs_background": "light"
          }
        }
      ]
    },
    {
      "cell_type": "code",
      "metadata": {
        "colab": {
          "base_uri": "https://localhost:8080/",
          "height": 499
        },
        "id": "aVpJPAHgT_St",
        "outputId": "0fd7292d-5ece-4765-ba62-b7dfae266b82"
      },
      "source": [
        "model = LogisticRegression(C=0.01, class_weight='balanced', max_iter=2000,\r\n",
        "                   random_state=10, tol=10)\r\n",
        "model.fit(xtrain,ytrain)\r\n",
        "ypred = model.predict(xtest)\r\n",
        "print(confusion_matrix(ytest,ypred))\r\n",
        "print(classification_report(ytest,ypred))\r\n",
        "print(\"AUC -> \",roc_auc_score(ytest,ypred))\r\n",
        "plot_roc(model,xtest,ytest,'g')"
      ],
      "execution_count": 43,
      "outputs": [
        {
          "output_type": "stream",
          "text": [
            "[[436 146]\n",
            " [ 40 178]]\n",
            "              precision    recall  f1-score   support\n",
            "\n",
            "           0       0.92      0.75      0.82       582\n",
            "           1       0.55      0.82      0.66       218\n",
            "\n",
            "    accuracy                           0.77       800\n",
            "   macro avg       0.73      0.78      0.74       800\n",
            "weighted avg       0.82      0.77      0.78       800\n",
            "\n",
            "AUC ->  0.7828273274693401\n"
          ],
          "name": "stdout"
        },
        {
          "output_type": "display_data",
          "data": {
            "image/png": "[encoded data removed]",
            "text/plain": [
              "<Figure size 432x288 with 1 Axes>"
            ]
          },
          "metadata": {
            "tags": [],
            "needs_background": "light"
          }
        }
      ]
    },
    {
      "cell_type": "code",
      "metadata": {
        "id": "13qV-iy2T_XH"
      },
      "source": [
        "thresholds = roc_curve(ytest, lr.predict_proba(xtest)[:,1])[2]"
      ],
      "execution_count": 44,
      "outputs": []
    },
    {
      "cell_type": "code",
      "metadata": {
        "id": "2tBLC8T7T_ar"
      },
      "source": [
        "ypred = lr.predict_proba(xtest)[:,1]"
      ],
      "execution_count": 45,
      "outputs": []
    },
    {
      "cell_type": "code",
      "metadata": {
        "id": "Q1r-Tp8-T_d0"
      },
      "source": [
        "f1 = []\r\n",
        "for threshold in thresholds:\r\n",
        "    temp = []\r\n",
        "    for i in ypred:\r\n",
        "        if i<threshold:\r\n",
        "            temp.append(0)\r\n",
        "        else:\r\n",
        "            temp.append(1)\r\n",
        "    f1.append(f1_score(ytest, temp))"
      ],
      "execution_count": 46,
      "outputs": []
    },
    {
      "cell_type": "code",
      "metadata": {
        "colab": {
          "base_uri": "https://localhost:8080/",
          "height": 269
        },
        "id": "sKy2z9a2UvbG",
        "outputId": "dbb78876-0f95-4756-ea72-8f30a9936274"
      },
      "source": [
        "plt.plot(thresholds, f1)\r\n",
        "plt.grid(True)\r\n",
        "plt.ylim([0,1])\r\n",
        "plt.xlim([0,1])\r\n",
        "plt.show()"
      ],
      "execution_count": 47,
      "outputs": [
        {
          "output_type": "display_data",
          "data": {
            "image/png": "[encoded data removed]",
            "text/plain": [
              "<Figure size 432x288 with 1 Axes>"
            ]
          },
          "metadata": {
            "tags": [],
            "needs_background": "light"
          }
        }
      ]
    },
    {
      "cell_type": "code",
      "metadata": {
        "colab": {
          "base_uri": "https://localhost:8080/"
        },
        "id": "Y6Du8J42UvgP",
        "outputId": "fffef991-b018-4440-f1cd-579a68c72dbf"
      },
      "source": [
        "thresholds[np.argmax(f1)]"
      ],
      "execution_count": 48,
      "outputs": [
        {
          "output_type": "execute_result",
          "data": {
            "text/plain": [
              "0.5560974320205885"
            ]
          },
          "metadata": {
            "tags": []
          },
          "execution_count": 48
        }
      ]
    },
    {
      "cell_type": "code",
      "metadata": {
        "colab": {
          "base_uri": "https://localhost:8080/"
        },
        "id": "QxGdhfYMUvk3",
        "outputId": "7bba729f-1cc5-462b-8dd0-7c8764c90ab2"
      },
      "source": [
        "pred = []\r\n",
        "for i in ypred:\r\n",
        "    if i<0.5560974320205885:\r\n",
        "        pred.append(0)\r\n",
        "    else:\r\n",
        "        pred.append(1)\r\n",
        "print(confusion_matrix(ytest,pred))\r\n",
        "print(classification_report(ytest,pred))"
      ],
      "execution_count": 49,
      "outputs": [
        {
          "output_type": "stream",
          "text": [
            "[[452 130]\n",
            " [ 43 175]]\n",
            "              precision    recall  f1-score   support\n",
            "\n",
            "           0       0.91      0.78      0.84       582\n",
            "           1       0.57      0.80      0.67       218\n",
            "\n",
            "    accuracy                           0.78       800\n",
            "   macro avg       0.74      0.79      0.75       800\n",
            "weighted avg       0.82      0.78      0.79       800\n",
            "\n"
          ],
          "name": "stdout"
        }
      ]
    },
    {
      "cell_type": "code",
      "metadata": {
        "id": "9etiYWvYUvrU"
      },
      "source": [
        ""
      ],
      "execution_count": null,
      "outputs": []
    },
    {
      "cell_type": "markdown",
      "metadata": {
        "id": "4zjj3nMhXCgz"
      },
      "source": [
        "# **RANDOM FOREST**"
      ]
    },
    {
      "cell_type": "code",
      "metadata": {
        "id": "eWLKdjpYUvwB"
      },
      "source": [
        "from sklearn.ensemble import RandomForestClassifier\r\n",
        "\r\n",
        "rf = RandomForestClassifier()\r\n",
        "rf.fit(xtrain,ytrain)\r\n",
        "rf_pred = rf.predict(xtest)"
      ],
      "execution_count": 50,
      "outputs": []
    },
    {
      "cell_type": "code",
      "metadata": {
        "colab": {
          "base_uri": "https://localhost:8080/"
        },
        "id": "nDYlWlDcUv0P",
        "outputId": "6569a46c-a6cf-4558-fc37-1002603045ba"
      },
      "source": [
        "metrics.accuracy_score(ytest, rf_pred)"
      ],
      "execution_count": 51,
      "outputs": [
        {
          "output_type": "execute_result",
          "data": {
            "text/plain": [
              "0.7875"
            ]
          },
          "metadata": {
            "tags": []
          },
          "execution_count": 51
        }
      ]
    },
    {
      "cell_type": "code",
      "metadata": {
        "colab": {
          "base_uri": "https://localhost:8080/",
          "height": 516
        },
        "id": "9MuKs7u6Uv3n",
        "outputId": "2572e86d-c0fd-4cf9-b0b1-754393e8450d"
      },
      "source": [
        "print(confusion_matrix(ytest,rf_pred))\r\n",
        "print(classification_report(ytest,rf_pred))\r\n",
        "print(\"F1 -> \",f1_score(ytest,rf_pred))\r\n",
        "print(\"Accuracy -> \",accuracy_score(ytest,rf_pred))\r\n",
        "plot_roc(rf,xtest,ytest,'g')"
      ],
      "execution_count": 52,
      "outputs": [
        {
          "output_type": "stream",
          "text": [
            "[[516  66]\n",
            " [104 114]]\n",
            "              precision    recall  f1-score   support\n",
            "\n",
            "           0       0.83      0.89      0.86       582\n",
            "           1       0.63      0.52      0.57       218\n",
            "\n",
            "    accuracy                           0.79       800\n",
            "   macro avg       0.73      0.70      0.72       800\n",
            "weighted avg       0.78      0.79      0.78       800\n",
            "\n",
            "F1 ->  0.5728643216080402\n",
            "Accuracy ->  0.7875\n"
          ],
          "name": "stdout"
        },
        {
          "output_type": "display_data",
          "data": {
            "image/png": "[encoded data removed]",
            "text/plain": [
              "<Figure size 432x288 with 1 Axes>"
            ]
          },
          "metadata": {
            "tags": [],
            "needs_background": "light"
          }
        }
      ]
    },
    {
      "cell_type": "code",
      "metadata": {
        "colab": {
          "base_uri": "https://localhost:8080/"
        },
        "id": "3YMhyCntUv7G",
        "outputId": "e4233131-b986-4b22-af23-6c034a9e4d96"
      },
      "source": [
        "params = {'n_estimators':[200,500,700,1000,2000],\r\n",
        "          'max_depth':[8,10,15,20,30],\r\n",
        "          'min_samples_split':[2,3,5,8]}\r\n",
        "\r\n",
        "RandomCV = RandomizedSearchCV(estimator = RandomForestClassifier(random_state =10, oob_score=True),\r\n",
        "                              cv =5,\r\n",
        "                              n_iter =10,\r\n",
        "                              verbose =2,\r\n",
        "                              param_distributions =params,\r\n",
        "                              random_state =12,\r\n",
        "                              scoring ='f1')\r\n",
        "\r\n",
        "RandomCV.fit(xtrain,ytrain)\r\n"
      ],
      "execution_count": 53,
      "outputs": [
        {
          "output_type": "stream",
          "text": [
            "Fitting 5 folds for each of 10 candidates, totalling 50 fits\n",
            "[CV] n_estimators=700, min_samples_split=8, max_depth=8 ..............\n"
          ],
          "name": "stdout"
        },
        {
          "output_type": "stream",
          "text": [
            "[Parallel(n_jobs=1)]: Using backend SequentialBackend with 1 concurrent workers.\n"
          ],
          "name": "stderr"
        },
        {
          "output_type": "stream",
          "text": [
            "[CV]  n_estimators=700, min_samples_split=8, max_depth=8, total=   2.5s\n",
            "[CV] n_estimators=700, min_samples_split=8, max_depth=8 ..............\n"
          ],
          "name": "stdout"
        },
        {
          "output_type": "stream",
          "text": [
            "[Parallel(n_jobs=1)]: Done   1 out of   1 | elapsed:    2.5s remaining:    0.0s\n"
          ],
          "name": "stderr"
        },
        {
          "output_type": "stream",
          "text": [
            "[CV]  n_estimators=700, min_samples_split=8, max_depth=8, total=   2.4s\n",
            "[CV] n_estimators=700, min_samples_split=8, max_depth=8 ..............\n",
            "[CV]  n_estimators=700, min_samples_split=8, max_depth=8, total=   2.4s\n",
            "[CV] n_estimators=700, min_samples_split=8, max_depth=8 ..............\n",
            "[CV]  n_estimators=700, min_samples_split=8, max_depth=8, total=   2.4s\n",
            "[CV] n_estimators=700, min_samples_split=8, max_depth=8 ..............\n",
            "[CV]  n_estimators=700, min_samples_split=8, max_depth=8, total=   2.4s\n",
            "[CV] n_estimators=500, min_samples_split=2, max_depth=15 .............\n",
            "[CV]  n_estimators=500, min_samples_split=2, max_depth=15, total=   2.1s\n",
            "[CV] n_estimators=500, min_samples_split=2, max_depth=15 .............\n",
            "[CV]  n_estimators=500, min_samples_split=2, max_depth=15, total=   2.0s\n",
            "[CV] n_estimators=500, min_samples_split=2, max_depth=15 .............\n",
            "[CV]  n_estimators=500, min_samples_split=2, max_depth=15, total=   2.1s\n",
            "[CV] n_estimators=500, min_samples_split=2, max_depth=15 .............\n",
            "[CV]  n_estimators=500, min_samples_split=2, max_depth=15, total=   2.1s\n",
            "[CV] n_estimators=500, min_samples_split=2, max_depth=15 .............\n",
            "[CV]  n_estimators=500, min_samples_split=2, max_depth=15, total=   2.1s\n",
            "[CV] n_estimators=700, min_samples_split=5, max_depth=30 .............\n",
            "[CV]  n_estimators=700, min_samples_split=5, max_depth=30, total=   2.8s\n",
            "[CV] n_estimators=700, min_samples_split=5, max_depth=30 .............\n",
            "[CV]  n_estimators=700, min_samples_split=5, max_depth=30, total=   2.9s\n",
            "[CV] n_estimators=700, min_samples_split=5, max_depth=30 .............\n",
            "[CV]  n_estimators=700, min_samples_split=5, max_depth=30, total=   2.8s\n",
            "[CV] n_estimators=700, min_samples_split=5, max_depth=30 .............\n",
            "[CV]  n_estimators=700, min_samples_split=5, max_depth=30, total=   2.8s\n",
            "[CV] n_estimators=700, min_samples_split=5, max_depth=30 .............\n",
            "[CV]  n_estimators=700, min_samples_split=5, max_depth=30, total=   2.9s\n",
            "[CV] n_estimators=2000, min_samples_split=5, max_depth=8 .............\n",
            "[CV]  n_estimators=2000, min_samples_split=5, max_depth=8, total=   7.0s\n",
            "[CV] n_estimators=2000, min_samples_split=5, max_depth=8 .............\n",
            "[CV]  n_estimators=2000, min_samples_split=5, max_depth=8, total=   7.0s\n",
            "[CV] n_estimators=2000, min_samples_split=5, max_depth=8 .............\n",
            "[CV]  n_estimators=2000, min_samples_split=5, max_depth=8, total=   6.9s\n",
            "[CV] n_estimators=2000, min_samples_split=5, max_depth=8 .............\n",
            "[CV]  n_estimators=2000, min_samples_split=5, max_depth=8, total=   7.0s\n",
            "[CV] n_estimators=2000, min_samples_split=5, max_depth=8 .............\n",
            "[CV]  n_estimators=2000, min_samples_split=5, max_depth=8, total=   6.9s\n",
            "[CV] n_estimators=1000, min_samples_split=3, max_depth=20 ............\n",
            "[CV]  n_estimators=1000, min_samples_split=3, max_depth=20, total=   4.2s\n",
            "[CV] n_estimators=1000, min_samples_split=3, max_depth=20 ............\n",
            "[CV]  n_estimators=1000, min_samples_split=3, max_depth=20, total=   4.1s\n",
            "[CV] n_estimators=1000, min_samples_split=3, max_depth=20 ............\n",
            "[CV]  n_estimators=1000, min_samples_split=3, max_depth=20, total=   4.1s\n",
            "[CV] n_estimators=1000, min_samples_split=3, max_depth=20 ............\n",
            "[CV]  n_estimators=1000, min_samples_split=3, max_depth=20, total=   4.1s\n",
            "[CV] n_estimators=1000, min_samples_split=3, max_depth=20 ............\n",
            "[CV]  n_estimators=1000, min_samples_split=3, max_depth=20, total=   4.1s\n",
            "[CV] n_estimators=500, min_samples_split=5, max_depth=10 .............\n",
            "[CV]  n_estimators=500, min_samples_split=5, max_depth=10, total=   1.8s\n",
            "[CV] n_estimators=500, min_samples_split=5, max_depth=10 .............\n",
            "[CV]  n_estimators=500, min_samples_split=5, max_depth=10, total=   1.9s\n",
            "[CV] n_estimators=500, min_samples_split=5, max_depth=10 .............\n",
            "[CV]  n_estimators=500, min_samples_split=5, max_depth=10, total=   1.9s\n",
            "[CV] n_estimators=500, min_samples_split=5, max_depth=10 .............\n",
            "[CV]  n_estimators=500, min_samples_split=5, max_depth=10, total=   1.8s\n",
            "[CV] n_estimators=500, min_samples_split=5, max_depth=10 .............\n",
            "[CV]  n_estimators=500, min_samples_split=5, max_depth=10, total=   1.9s\n",
            "[CV] n_estimators=2000, min_samples_split=3, max_depth=30 ............\n",
            "[CV]  n_estimators=2000, min_samples_split=3, max_depth=30, total=   8.3s\n",
            "[CV] n_estimators=2000, min_samples_split=3, max_depth=30 ............\n",
            "[CV]  n_estimators=2000, min_samples_split=3, max_depth=30, total=   8.1s\n",
            "[CV] n_estimators=2000, min_samples_split=3, max_depth=30 ............\n",
            "[CV]  n_estimators=2000, min_samples_split=3, max_depth=30, total=   8.1s\n",
            "[CV] n_estimators=2000, min_samples_split=3, max_depth=30 ............\n",
            "[CV]  n_estimators=2000, min_samples_split=3, max_depth=30, total=   8.2s\n",
            "[CV] n_estimators=2000, min_samples_split=3, max_depth=30 ............\n",
            "[CV]  n_estimators=2000, min_samples_split=3, max_depth=30, total=   8.2s\n",
            "[CV] n_estimators=200, min_samples_split=8, max_depth=8 ..............\n",
            "[CV]  n_estimators=200, min_samples_split=8, max_depth=8, total=   0.7s\n",
            "[CV] n_estimators=200, min_samples_split=8, max_depth=8 ..............\n",
            "[CV]  n_estimators=200, min_samples_split=8, max_depth=8, total=   0.7s\n",
            "[CV] n_estimators=200, min_samples_split=8, max_depth=8 ..............\n",
            "[CV]  n_estimators=200, min_samples_split=8, max_depth=8, total=   0.8s\n",
            "[CV] n_estimators=200, min_samples_split=8, max_depth=8 ..............\n",
            "[CV]  n_estimators=200, min_samples_split=8, max_depth=8, total=   0.7s\n",
            "[CV] n_estimators=200, min_samples_split=8, max_depth=8 ..............\n",
            "[CV]  n_estimators=200, min_samples_split=8, max_depth=8, total=   0.7s\n",
            "[CV] n_estimators=500, min_samples_split=2, max_depth=10 .............\n",
            "[CV]  n_estimators=500, min_samples_split=2, max_depth=10, total=   1.9s\n",
            "[CV] n_estimators=500, min_samples_split=2, max_depth=10 .............\n",
            "[CV]  n_estimators=500, min_samples_split=2, max_depth=10, total=   1.9s\n",
            "[CV] n_estimators=500, min_samples_split=2, max_depth=10 .............\n",
            "[CV]  n_estimators=500, min_samples_split=2, max_depth=10, total=   2.0s\n",
            "[CV] n_estimators=500, min_samples_split=2, max_depth=10 .............\n",
            "[CV]  n_estimators=500, min_samples_split=2, max_depth=10, total=   1.9s\n",
            "[CV] n_estimators=500, min_samples_split=2, max_depth=10 .............\n",
            "[CV]  n_estimators=500, min_samples_split=2, max_depth=10, total=   1.9s\n",
            "[CV] n_estimators=200, min_samples_split=2, max_depth=20 .............\n",
            "[CV]  n_estimators=200, min_samples_split=2, max_depth=20, total=   0.8s\n",
            "[CV] n_estimators=200, min_samples_split=2, max_depth=20 .............\n",
            "[CV]  n_estimators=200, min_samples_split=2, max_depth=20, total=   0.9s\n",
            "[CV] n_estimators=200, min_samples_split=2, max_depth=20 .............\n",
            "[CV]  n_estimators=200, min_samples_split=2, max_depth=20, total=   0.9s\n",
            "[CV] n_estimators=200, min_samples_split=2, max_depth=20 .............\n",
            "[CV]  n_estimators=200, min_samples_split=2, max_depth=20, total=   0.8s\n",
            "[CV] n_estimators=200, min_samples_split=2, max_depth=20 .............\n",
            "[CV]  n_estimators=200, min_samples_split=2, max_depth=20, total=   0.8s\n"
          ],
          "name": "stdout"
        },
        {
          "output_type": "stream",
          "text": [
            "[Parallel(n_jobs=1)]: Done  50 out of  50 | elapsed:  2.7min finished\n"
          ],
          "name": "stderr"
        },
        {
          "output_type": "execute_result",
          "data": {
            "text/plain": [
              "RandomizedSearchCV(cv=5, error_score=nan,\n",
              "                   estimator=RandomForestClassifier(bootstrap=True,\n",
              "                                                    ccp_alpha=0.0,\n",
              "                                                    class_weight=None,\n",
              "                                                    criterion='gini',\n",
              "                                                    max_depth=None,\n",
              "                                                    max_features='auto',\n",
              "                                                    max_leaf_nodes=None,\n",
              "                                                    max_samples=None,\n",
              "                                                    min_impurity_decrease=0.0,\n",
              "                                                    min_impurity_split=None,\n",
              "                                                    min_samples_leaf=1,\n",
              "                                                    min_samples_split=2,\n",
              "                                                    min_weight_fraction_leaf=0.0,\n",
              "                                                    n_estimators=100,\n",
              "                                                    n_jobs=None, oob_score=True,\n",
              "                                                    random_state=10, verbose=0,\n",
              "                                                    warm_start=False),\n",
              "                   iid='deprecated', n_iter=10, n_jobs=None,\n",
              "                   param_distributions={'max_depth': [8, 10, 15, 20, 30],\n",
              "                                        'min_samples_split': [2, 3, 5, 8],\n",
              "                                        'n_estimators': [200, 500, 700, 1000,\n",
              "                                                         2000]},\n",
              "                   pre_dispatch='2*n_jobs', random_state=12, refit=True,\n",
              "                   return_train_score=False, scoring='f1', verbose=2)"
            ]
          },
          "metadata": {
            "tags": []
          },
          "execution_count": 53
        }
      ]
    },
    {
      "cell_type": "code",
      "metadata": {
        "colab": {
          "base_uri": "https://localhost:8080/"
        },
        "id": "U9bM9i-cUv_B",
        "outputId": "4231b7c9-8e15-4ec8-b696-972773e78407"
      },
      "source": [
        "RandomCV.best_estimator_"
      ],
      "execution_count": 54,
      "outputs": [
        {
          "output_type": "execute_result",
          "data": {
            "text/plain": [
              "RandomForestClassifier(bootstrap=True, ccp_alpha=0.0, class_weight=None,\n",
              "                       criterion='gini', max_depth=10, max_features='auto',\n",
              "                       max_leaf_nodes=None, max_samples=None,\n",
              "                       min_impurity_decrease=0.0, min_impurity_split=None,\n",
              "                       min_samples_leaf=1, min_samples_split=2,\n",
              "                       min_weight_fraction_leaf=0.0, n_estimators=500,\n",
              "                       n_jobs=None, oob_score=True, random_state=10, verbose=0,\n",
              "                       warm_start=False)"
            ]
          },
          "metadata": {
            "tags": []
          },
          "execution_count": 54
        }
      ]
    },
    {
      "cell_type": "code",
      "metadata": {
        "colab": {
          "base_uri": "https://localhost:8080/",
          "height": 516
        },
        "id": "gYxYa_K5UwCy",
        "outputId": "8126677a-e4b3-40c5-eb28-252114a5fd86"
      },
      "source": [
        "model = RandomForestClassifier(max_depth=10, min_samples_split=2, n_estimators=500,\r\n",
        "                       oob_score=True, random_state=10)\r\n",
        "model.fit(xtrain,ytrain)\r\n",
        "ypred = model.predict(xtest)\r\n",
        "print(confusion_matrix(ytest,ypred))\r\n",
        "print(classification_report(ytest,ypred))\r\n",
        "print(\"F1 -> \",f1_score(ytest,pred))\r\n",
        "print(\"Accuracy -> \",accuracy_score(ytest,pred))\r\n",
        "plot_roc(model,xtest,ytest,'g')"
      ],
      "execution_count": 55,
      "outputs": [
        {
          "output_type": "stream",
          "text": [
            "[[531  51]\n",
            " [103 115]]\n",
            "              precision    recall  f1-score   support\n",
            "\n",
            "           0       0.84      0.91      0.87       582\n",
            "           1       0.69      0.53      0.60       218\n",
            "\n",
            "    accuracy                           0.81       800\n",
            "   macro avg       0.77      0.72      0.74       800\n",
            "weighted avg       0.80      0.81      0.80       800\n",
            "\n",
            "F1 ->  0.6692160611854684\n",
            "Accuracy ->  0.78375\n"
          ],
          "name": "stdout"
        },
        {
          "output_type": "display_data",
          "data": {
            "image/png": "[encoded data removed]",
            "text/plain": [
              "<Figure size 432x288 with 1 Axes>"
            ]
          },
          "metadata": {
            "tags": [],
            "needs_background": "light"
          }
        }
      ]
    },
    {
      "cell_type": "code",
      "metadata": {
        "id": "2IR5chkuVogG"
      },
      "source": [
        "thresholds = precision_recall_curve(ytest, model.predict_proba(xtest)[:,1])[2]"
      ],
      "execution_count": 56,
      "outputs": []
    },
    {
      "cell_type": "code",
      "metadata": {
        "id": "bFzvcgNqVolj"
      },
      "source": [
        "ypred = model.predict_proba(xtest)[:,1]"
      ],
      "execution_count": 57,
      "outputs": []
    },
    {
      "cell_type": "code",
      "metadata": {
        "id": "Zn07bWLlVopz"
      },
      "source": [
        "f1 = []\r\n",
        "for threshold in thresholds:\r\n",
        "    temp = []\r\n",
        "    for i in ypred:\r\n",
        "        if i<threshold:\r\n",
        "            temp.append(0)\r\n",
        "        else:\r\n",
        "            temp.append(1)\r\n",
        "    f1.append(f1_score(ytest, temp))"
      ],
      "execution_count": 58,
      "outputs": []
    },
    {
      "cell_type": "code",
      "metadata": {
        "colab": {
          "base_uri": "https://localhost:8080/",
          "height": 269
        },
        "id": "OCbiy1tTVouJ",
        "outputId": "a81d7fa7-29fe-4d34-d3da-8ace4bf36641"
      },
      "source": [
        "plt.plot(thresholds, f1)\r\n",
        "plt.grid(True)\r\n",
        "plt.ylim([0,1])\r\n",
        "plt.xlim([0,1])\r\n",
        "plt.show()"
      ],
      "execution_count": 59,
      "outputs": [
        {
          "output_type": "display_data",
          "data": {
            "image/png": "[encoded data removed]",
            "text/plain": [
              "<Figure size 432x288 with 1 Axes>"
            ]
          },
          "metadata": {
            "tags": [],
            "needs_background": "light"
          }
        }
      ]
    },
    {
      "cell_type": "code",
      "metadata": {
        "colab": {
          "base_uri": "https://localhost:8080/"
        },
        "id": "XB48imL3V2yR",
        "outputId": "8856b5fe-63bf-48b1-f778-b9306bd1a6ba"
      },
      "source": [
        "thresholds[np.argmax(f1)]"
      ],
      "execution_count": 60,
      "outputs": [
        {
          "output_type": "execute_result",
          "data": {
            "text/plain": [
              "0.32639820087639076"
            ]
          },
          "metadata": {
            "tags": []
          },
          "execution_count": 60
        }
      ]
    },
    {
      "cell_type": "code",
      "metadata": {
        "colab": {
          "base_uri": "https://localhost:8080/"
        },
        "id": "ytD6650iV23t",
        "outputId": "96c82122-fc6d-411e-f76b-935370dc4391"
      },
      "source": [
        "pred = []\r\n",
        "for i in ypred:\r\n",
        "    if i<0.32639820087639076:\r\n",
        "        pred.append(0)\r\n",
        "    else:\r\n",
        "        pred.append(1)\r\n",
        "print(confusion_matrix(ytest,pred))\r\n",
        "print(classification_report(ytest,pred))\r\n",
        "print(\"F1 -> \",f1_score(ytest,pred))\r\n",
        "print(\"Accuracy -> \",accuracy_score(ytest,pred))"
      ],
      "execution_count": 61,
      "outputs": [
        {
          "output_type": "stream",
          "text": [
            "[[469 113]\n",
            " [ 46 172]]\n",
            "              precision    recall  f1-score   support\n",
            "\n",
            "           0       0.91      0.81      0.86       582\n",
            "           1       0.60      0.79      0.68       218\n",
            "\n",
            "    accuracy                           0.80       800\n",
            "   macro avg       0.76      0.80      0.77       800\n",
            "weighted avg       0.83      0.80      0.81       800\n",
            "\n",
            "F1 ->  0.6838966202783301\n",
            "Accuracy ->  0.80125\n"
          ],
          "name": "stdout"
        }
      ]
    },
    {
      "cell_type": "code",
      "metadata": {
        "id": "Eo9IVDK6V2_r"
      },
      "source": [
        ""
      ],
      "execution_count": null,
      "outputs": []
    },
    {
      "cell_type": "markdown",
      "metadata": {
        "id": "33ly_HOVW3Uk"
      },
      "source": [
        "# **GBM**"
      ]
    },
    {
      "cell_type": "code",
      "metadata": {
        "colab": {
          "base_uri": "https://localhost:8080/",
          "height": 516
        },
        "id": "nfzxL1RjWAKf",
        "outputId": "93526a74-2256-463b-c4b0-43dbb396b84e"
      },
      "source": [
        "model = GradientBoostingClassifier(learning_rate=0.01)\r\n",
        "model.fit(xtrain,ytrain)\r\n",
        "ypred = model.predict(xtest)\r\n",
        "print(confusion_matrix(ytest,ypred))\r\n",
        "print(classification_report(ytest,ypred))\r\n",
        "print(\"F1 -> \",f1_score(ytest,pred))\r\n",
        "print(\"Accuracy -> \",accuracy_score(ytest,pred))\r\n",
        "plot_roc(model,xtest,ytest,'g')"
      ],
      "execution_count": 62,
      "outputs": [
        {
          "output_type": "stream",
          "text": [
            "[[564  18]\n",
            " [169  49]]\n",
            "              precision    recall  f1-score   support\n",
            "\n",
            "           0       0.77      0.97      0.86       582\n",
            "           1       0.73      0.22      0.34       218\n",
            "\n",
            "    accuracy                           0.77       800\n",
            "   macro avg       0.75      0.60      0.60       800\n",
            "weighted avg       0.76      0.77      0.72       800\n",
            "\n",
            "F1 ->  0.6838966202783301\n",
            "Accuracy ->  0.80125\n"
          ],
          "name": "stdout"
        },
        {
          "output_type": "display_data",
          "data": {
            "image/png": "[encoded data removed]",
            "text/plain": [
              "<Figure size 432x288 with 1 Axes>"
            ]
          },
          "metadata": {
            "tags": [],
            "needs_background": "light"
          }
        }
      ]
    },
    {
      "cell_type": "markdown",
      "metadata": {
        "id": "-nR_h7kaL6Qb"
      },
      "source": [
        "--------------------------"
      ]
    },
    {
      "cell_type": "markdown",
      "metadata": {
        "id": "QmVHEsk0MA1r"
      },
      "source": [
        "# **Prediction on Validation Data**"
      ]
    },
    {
      "cell_type": "code",
      "metadata": {
        "id": "T2BgDJC9htHm"
      },
      "source": [
        "val = df[4000:]"
      ],
      "execution_count": 91,
      "outputs": []
    },
    {
      "cell_type": "code",
      "metadata": {
        "id": "b4FJ4OQmohCi"
      },
      "source": [
        "valid = val.copy()"
      ],
      "execution_count": 92,
      "outputs": []
    },
    {
      "cell_type": "code",
      "metadata": {
        "colab": {
          "base_uri": "https://localhost:8080/",
          "height": 258
        },
        "id": "709ibIYxWAXA",
        "outputId": "4e0210a9-aa2f-4a1b-ec6d-280a582b468c"
      },
      "source": [
        "valid.head()"
      ],
      "execution_count": 93,
      "outputs": [
        {
          "output_type": "execute_result",
          "data": {
            "text/html": [
              "<div>\n",
              "<style scoped>\n",
              "    .dataframe tbody tr th:only-of-type {\n",
              "        vertical-align: middle;\n",
              "    }\n",
              "\n",
              "    .dataframe tbody tr th {\n",
              "        vertical-align: top;\n",
              "    }\n",
              "\n",
              "    .dataframe thead th {\n",
              "        text-align: right;\n",
              "    }\n",
              "</style>\n",
              "<table border=\"1\" class=\"dataframe\">\n",
              "  <thead>\n",
              "    <tr style=\"text-align: right;\">\n",
              "      <th></th>\n",
              "      <th>gender_Male</th>\n",
              "      <th>Partner_Yes</th>\n",
              "      <th>Dependents_Yes</th>\n",
              "      <th>PhoneService_Yes</th>\n",
              "      <th>MultipleLines_No phone service</th>\n",
              "      <th>MultipleLines_Yes</th>\n",
              "      <th>InternetService_Fiber optic</th>\n",
              "      <th>InternetService_No</th>\n",
              "      <th>OnlineSecurity_No internet service</th>\n",
              "      <th>OnlineSecurity_Yes</th>\n",
              "      <th>OnlineBackup_No internet service</th>\n",
              "      <th>OnlineBackup_Yes</th>\n",
              "      <th>DeviceProtection_No internet service</th>\n",
              "      <th>DeviceProtection_Yes</th>\n",
              "      <th>TechSupport_No internet service</th>\n",
              "      <th>TechSupport_Yes</th>\n",
              "      <th>StreamingTV_No internet service</th>\n",
              "      <th>StreamingTV_Yes</th>\n",
              "      <th>StreamingMovies_No internet service</th>\n",
              "      <th>StreamingMovies_Yes</th>\n",
              "      <th>Contract_One year</th>\n",
              "      <th>Contract_Two year</th>\n",
              "      <th>PaperlessBilling_Yes</th>\n",
              "      <th>PaymentMethod_Credit card (automatic)</th>\n",
              "      <th>PaymentMethod_Electronic check</th>\n",
              "      <th>PaymentMethod_Mailed check</th>\n",
              "      <th>Churn_Yes</th>\n",
              "      <th>SeniorCitizen</th>\n",
              "      <th>tenure</th>\n",
              "      <th>MonthlyCharges</th>\n",
              "      <th>TotalCharges</th>\n",
              "    </tr>\n",
              "  </thead>\n",
              "  <tbody>\n",
              "    <tr>\n",
              "      <th>4000</th>\n",
              "      <td>0</td>\n",
              "      <td>0</td>\n",
              "      <td>0</td>\n",
              "      <td>1</td>\n",
              "      <td>0</td>\n",
              "      <td>1</td>\n",
              "      <td>1</td>\n",
              "      <td>0</td>\n",
              "      <td>0</td>\n",
              "      <td>0</td>\n",
              "      <td>0</td>\n",
              "      <td>0</td>\n",
              "      <td>0</td>\n",
              "      <td>1</td>\n",
              "      <td>0</td>\n",
              "      <td>0</td>\n",
              "      <td>0</td>\n",
              "      <td>1</td>\n",
              "      <td>0</td>\n",
              "      <td>1</td>\n",
              "      <td>0</td>\n",
              "      <td>0</td>\n",
              "      <td>1</td>\n",
              "      <td>0</td>\n",
              "      <td>1</td>\n",
              "      <td>0</td>\n",
              "      <td>0</td>\n",
              "      <td>1</td>\n",
              "      <td>39</td>\n",
              "      <td>99.75</td>\n",
              "      <td>4036.00</td>\n",
              "    </tr>\n",
              "    <tr>\n",
              "      <th>4001</th>\n",
              "      <td>1</td>\n",
              "      <td>1</td>\n",
              "      <td>1</td>\n",
              "      <td>1</td>\n",
              "      <td>0</td>\n",
              "      <td>1</td>\n",
              "      <td>1</td>\n",
              "      <td>0</td>\n",
              "      <td>0</td>\n",
              "      <td>0</td>\n",
              "      <td>0</td>\n",
              "      <td>1</td>\n",
              "      <td>0</td>\n",
              "      <td>1</td>\n",
              "      <td>0</td>\n",
              "      <td>1</td>\n",
              "      <td>0</td>\n",
              "      <td>1</td>\n",
              "      <td>0</td>\n",
              "      <td>1</td>\n",
              "      <td>0</td>\n",
              "      <td>1</td>\n",
              "      <td>1</td>\n",
              "      <td>0</td>\n",
              "      <td>0</td>\n",
              "      <td>0</td>\n",
              "      <td>0</td>\n",
              "      <td>0</td>\n",
              "      <td>45</td>\n",
              "      <td>109.75</td>\n",
              "      <td>4900.65</td>\n",
              "    </tr>\n",
              "    <tr>\n",
              "      <th>4002</th>\n",
              "      <td>1</td>\n",
              "      <td>1</td>\n",
              "      <td>1</td>\n",
              "      <td>1</td>\n",
              "      <td>0</td>\n",
              "      <td>1</td>\n",
              "      <td>0</td>\n",
              "      <td>0</td>\n",
              "      <td>0</td>\n",
              "      <td>1</td>\n",
              "      <td>0</td>\n",
              "      <td>1</td>\n",
              "      <td>0</td>\n",
              "      <td>1</td>\n",
              "      <td>0</td>\n",
              "      <td>1</td>\n",
              "      <td>0</td>\n",
              "      <td>1</td>\n",
              "      <td>0</td>\n",
              "      <td>0</td>\n",
              "      <td>0</td>\n",
              "      <td>1</td>\n",
              "      <td>1</td>\n",
              "      <td>0</td>\n",
              "      <td>0</td>\n",
              "      <td>0</td>\n",
              "      <td>0</td>\n",
              "      <td>0</td>\n",
              "      <td>72</td>\n",
              "      <td>80.85</td>\n",
              "      <td>5727.45</td>\n",
              "    </tr>\n",
              "    <tr>\n",
              "      <th>4003</th>\n",
              "      <td>0</td>\n",
              "      <td>0</td>\n",
              "      <td>0</td>\n",
              "      <td>1</td>\n",
              "      <td>0</td>\n",
              "      <td>0</td>\n",
              "      <td>0</td>\n",
              "      <td>1</td>\n",
              "      <td>1</td>\n",
              "      <td>0</td>\n",
              "      <td>1</td>\n",
              "      <td>0</td>\n",
              "      <td>1</td>\n",
              "      <td>0</td>\n",
              "      <td>1</td>\n",
              "      <td>0</td>\n",
              "      <td>1</td>\n",
              "      <td>0</td>\n",
              "      <td>1</td>\n",
              "      <td>0</td>\n",
              "      <td>0</td>\n",
              "      <td>1</td>\n",
              "      <td>0</td>\n",
              "      <td>0</td>\n",
              "      <td>0</td>\n",
              "      <td>1</td>\n",
              "      <td>0</td>\n",
              "      <td>0</td>\n",
              "      <td>38</td>\n",
              "      <td>20.30</td>\n",
              "      <td>743.05</td>\n",
              "    </tr>\n",
              "    <tr>\n",
              "      <th>4004</th>\n",
              "      <td>1</td>\n",
              "      <td>1</td>\n",
              "      <td>0</td>\n",
              "      <td>1</td>\n",
              "      <td>0</td>\n",
              "      <td>1</td>\n",
              "      <td>0</td>\n",
              "      <td>0</td>\n",
              "      <td>0</td>\n",
              "      <td>1</td>\n",
              "      <td>0</td>\n",
              "      <td>1</td>\n",
              "      <td>0</td>\n",
              "      <td>1</td>\n",
              "      <td>0</td>\n",
              "      <td>1</td>\n",
              "      <td>0</td>\n",
              "      <td>0</td>\n",
              "      <td>0</td>\n",
              "      <td>0</td>\n",
              "      <td>0</td>\n",
              "      <td>1</td>\n",
              "      <td>1</td>\n",
              "      <td>0</td>\n",
              "      <td>0</td>\n",
              "      <td>0</td>\n",
              "      <td>0</td>\n",
              "      <td>0</td>\n",
              "      <td>72</td>\n",
              "      <td>67.80</td>\n",
              "      <td>4804.65</td>\n",
              "    </tr>\n",
              "  </tbody>\n",
              "</table>\n",
              "</div>"
            ],
            "text/plain": [
              "      gender_Male  Partner_Yes  Dependents_Yes  PhoneService_Yes  \\\n",
              "4000            0            0               0                 1   \n",
              "4001            1            1               1                 1   \n",
              "4002            1            1               1                 1   \n",
              "4003            0            0               0                 1   \n",
              "4004            1            1               0                 1   \n",
              "\n",
              "      MultipleLines_No phone service  MultipleLines_Yes  \\\n",
              "4000                               0                  1   \n",
              "4001                               0                  1   \n",
              "4002                               0                  1   \n",
              "4003                               0                  0   \n",
              "4004                               0                  1   \n",
              "\n",
              "      InternetService_Fiber optic  InternetService_No  \\\n",
              "4000                            1                   0   \n",
              "4001                            1                   0   \n",
              "4002                            0                   0   \n",
              "4003                            0                   1   \n",
              "4004                            0                   0   \n",
              "\n",
              "      OnlineSecurity_No internet service  OnlineSecurity_Yes  \\\n",
              "4000                                   0                   0   \n",
              "4001                                   0                   0   \n",
              "4002                                   0                   1   \n",
              "4003                                   1                   0   \n",
              "4004                                   0                   1   \n",
              "\n",
              "      OnlineBackup_No internet service  OnlineBackup_Yes  \\\n",
              "4000                                 0                 0   \n",
              "4001                                 0                 1   \n",
              "4002                                 0                 1   \n",
              "4003                                 1                 0   \n",
              "4004                                 0                 1   \n",
              "\n",
              "      DeviceProtection_No internet service  DeviceProtection_Yes  \\\n",
              "4000                                     0                     1   \n",
              "4001                                     0                     1   \n",
              "4002                                     0                     1   \n",
              "4003                                     1                     0   \n",
              "4004                                     0                     1   \n",
              "\n",
              "      TechSupport_No internet service  TechSupport_Yes  \\\n",
              "4000                                0                0   \n",
              "4001                                0                1   \n",
              "4002                                0                1   \n",
              "4003                                1                0   \n",
              "4004                                0                1   \n",
              "\n",
              "      StreamingTV_No internet service  StreamingTV_Yes  \\\n",
              "4000                                0                1   \n",
              "4001                                0                1   \n",
              "4002                                0                1   \n",
              "4003                                1                0   \n",
              "4004                                0                0   \n",
              "\n",
              "      StreamingMovies_No internet service  StreamingMovies_Yes  \\\n",
              "4000                                    0                    1   \n",
              "4001                                    0                    1   \n",
              "4002                                    0                    0   \n",
              "4003                                    1                    0   \n",
              "4004                                    0                    0   \n",
              "\n",
              "      Contract_One year  Contract_Two year  PaperlessBilling_Yes  \\\n",
              "4000                  0                  0                     1   \n",
              "4001                  0                  1                     1   \n",
              "4002                  0                  1                     1   \n",
              "4003                  0                  1                     0   \n",
              "4004                  0                  1                     1   \n",
              "\n",
              "      PaymentMethod_Credit card (automatic)  PaymentMethod_Electronic check  \\\n",
              "4000                                      0                               1   \n",
              "4001                                      0                               0   \n",
              "4002                                      0                               0   \n",
              "4003                                      0                               0   \n",
              "4004                                      0                               0   \n",
              "\n",
              "      PaymentMethod_Mailed check  Churn_Yes  SeniorCitizen  tenure  \\\n",
              "4000                           0          0              1      39   \n",
              "4001                           0          0              0      45   \n",
              "4002                           0          0              0      72   \n",
              "4003                           1          0              0      38   \n",
              "4004                           0          0              0      72   \n",
              "\n",
              "      MonthlyCharges  TotalCharges  \n",
              "4000           99.75       4036.00  \n",
              "4001          109.75       4900.65  \n",
              "4002           80.85       5727.45  \n",
              "4003           20.30        743.05  \n",
              "4004           67.80       4804.65  "
            ]
          },
          "metadata": {
            "tags": []
          },
          "execution_count": 93
        }
      ]
    },
    {
      "cell_type": "code",
      "metadata": {
        "colab": {
          "base_uri": "https://localhost:8080/",
          "height": 473
        },
        "id": "h62uJCzAWAc6",
        "outputId": "6ce41878-76c6-46ee-c12b-33c684cae492"
      },
      "source": [
        "valid.reset_index(inplace=True)\r\n",
        "del valid['index']\r\n",
        "valid"
      ],
      "execution_count": 94,
      "outputs": [
        {
          "output_type": "execute_result",
          "data": {
            "text/html": [
              "<div>\n",
              "<style scoped>\n",
              "    .dataframe tbody tr th:only-of-type {\n",
              "        vertical-align: middle;\n",
              "    }\n",
              "\n",
              "    .dataframe tbody tr th {\n",
              "        vertical-align: top;\n",
              "    }\n",
              "\n",
              "    .dataframe thead th {\n",
              "        text-align: right;\n",
              "    }\n",
              "</style>\n",
              "<table border=\"1\" class=\"dataframe\">\n",
              "  <thead>\n",
              "    <tr style=\"text-align: right;\">\n",
              "      <th></th>\n",
              "      <th>gender_Male</th>\n",
              "      <th>Partner_Yes</th>\n",
              "      <th>Dependents_Yes</th>\n",
              "      <th>PhoneService_Yes</th>\n",
              "      <th>MultipleLines_No phone service</th>\n",
              "      <th>MultipleLines_Yes</th>\n",
              "      <th>InternetService_Fiber optic</th>\n",
              "      <th>InternetService_No</th>\n",
              "      <th>OnlineSecurity_No internet service</th>\n",
              "      <th>OnlineSecurity_Yes</th>\n",
              "      <th>OnlineBackup_No internet service</th>\n",
              "      <th>OnlineBackup_Yes</th>\n",
              "      <th>DeviceProtection_No internet service</th>\n",
              "      <th>DeviceProtection_Yes</th>\n",
              "      <th>TechSupport_No internet service</th>\n",
              "      <th>TechSupport_Yes</th>\n",
              "      <th>StreamingTV_No internet service</th>\n",
              "      <th>StreamingTV_Yes</th>\n",
              "      <th>StreamingMovies_No internet service</th>\n",
              "      <th>StreamingMovies_Yes</th>\n",
              "      <th>Contract_One year</th>\n",
              "      <th>Contract_Two year</th>\n",
              "      <th>PaperlessBilling_Yes</th>\n",
              "      <th>PaymentMethod_Credit card (automatic)</th>\n",
              "      <th>PaymentMethod_Electronic check</th>\n",
              "      <th>PaymentMethod_Mailed check</th>\n",
              "      <th>Churn_Yes</th>\n",
              "      <th>SeniorCitizen</th>\n",
              "      <th>tenure</th>\n",
              "      <th>MonthlyCharges</th>\n",
              "      <th>TotalCharges</th>\n",
              "    </tr>\n",
              "  </thead>\n",
              "  <tbody>\n",
              "    <tr>\n",
              "      <th>0</th>\n",
              "      <td>0</td>\n",
              "      <td>0</td>\n",
              "      <td>0</td>\n",
              "      <td>1</td>\n",
              "      <td>0</td>\n",
              "      <td>1</td>\n",
              "      <td>1</td>\n",
              "      <td>0</td>\n",
              "      <td>0</td>\n",
              "      <td>0</td>\n",
              "      <td>0</td>\n",
              "      <td>0</td>\n",
              "      <td>0</td>\n",
              "      <td>1</td>\n",
              "      <td>0</td>\n",
              "      <td>0</td>\n",
              "      <td>0</td>\n",
              "      <td>1</td>\n",
              "      <td>0</td>\n",
              "      <td>1</td>\n",
              "      <td>0</td>\n",
              "      <td>0</td>\n",
              "      <td>1</td>\n",
              "      <td>0</td>\n",
              "      <td>1</td>\n",
              "      <td>0</td>\n",
              "      <td>0</td>\n",
              "      <td>1</td>\n",
              "      <td>39</td>\n",
              "      <td>99.75</td>\n",
              "      <td>4036.00</td>\n",
              "    </tr>\n",
              "    <tr>\n",
              "      <th>1</th>\n",
              "      <td>1</td>\n",
              "      <td>1</td>\n",
              "      <td>1</td>\n",
              "      <td>1</td>\n",
              "      <td>0</td>\n",
              "      <td>1</td>\n",
              "      <td>1</td>\n",
              "      <td>0</td>\n",
              "      <td>0</td>\n",
              "      <td>0</td>\n",
              "      <td>0</td>\n",
              "      <td>1</td>\n",
              "      <td>0</td>\n",
              "      <td>1</td>\n",
              "      <td>0</td>\n",
              "      <td>1</td>\n",
              "      <td>0</td>\n",
              "      <td>1</td>\n",
              "      <td>0</td>\n",
              "      <td>1</td>\n",
              "      <td>0</td>\n",
              "      <td>1</td>\n",
              "      <td>1</td>\n",
              "      <td>0</td>\n",
              "      <td>0</td>\n",
              "      <td>0</td>\n",
              "      <td>0</td>\n",
              "      <td>0</td>\n",
              "      <td>45</td>\n",
              "      <td>109.75</td>\n",
              "      <td>4900.65</td>\n",
              "    </tr>\n",
              "    <tr>\n",
              "      <th>2</th>\n",
              "      <td>1</td>\n",
              "      <td>1</td>\n",
              "      <td>1</td>\n",
              "      <td>1</td>\n",
              "      <td>0</td>\n",
              "      <td>1</td>\n",
              "      <td>0</td>\n",
              "      <td>0</td>\n",
              "      <td>0</td>\n",
              "      <td>1</td>\n",
              "      <td>0</td>\n",
              "      <td>1</td>\n",
              "      <td>0</td>\n",
              "      <td>1</td>\n",
              "      <td>0</td>\n",
              "      <td>1</td>\n",
              "      <td>0</td>\n",
              "      <td>1</td>\n",
              "      <td>0</td>\n",
              "      <td>0</td>\n",
              "      <td>0</td>\n",
              "      <td>1</td>\n",
              "      <td>1</td>\n",
              "      <td>0</td>\n",
              "      <td>0</td>\n",
              "      <td>0</td>\n",
              "      <td>0</td>\n",
              "      <td>0</td>\n",
              "      <td>72</td>\n",
              "      <td>80.85</td>\n",
              "      <td>5727.45</td>\n",
              "    </tr>\n",
              "    <tr>\n",
              "      <th>3</th>\n",
              "      <td>0</td>\n",
              "      <td>0</td>\n",
              "      <td>0</td>\n",
              "      <td>1</td>\n",
              "      <td>0</td>\n",
              "      <td>0</td>\n",
              "      <td>0</td>\n",
              "      <td>1</td>\n",
              "      <td>1</td>\n",
              "      <td>0</td>\n",
              "      <td>1</td>\n",
              "      <td>0</td>\n",
              "      <td>1</td>\n",
              "      <td>0</td>\n",
              "      <td>1</td>\n",
              "      <td>0</td>\n",
              "      <td>1</td>\n",
              "      <td>0</td>\n",
              "      <td>1</td>\n",
              "      <td>0</td>\n",
              "      <td>0</td>\n",
              "      <td>1</td>\n",
              "      <td>0</td>\n",
              "      <td>0</td>\n",
              "      <td>0</td>\n",
              "      <td>1</td>\n",
              "      <td>0</td>\n",
              "      <td>0</td>\n",
              "      <td>38</td>\n",
              "      <td>20.30</td>\n",
              "      <td>743.05</td>\n",
              "    </tr>\n",
              "    <tr>\n",
              "      <th>4</th>\n",
              "      <td>1</td>\n",
              "      <td>1</td>\n",
              "      <td>0</td>\n",
              "      <td>1</td>\n",
              "      <td>0</td>\n",
              "      <td>1</td>\n",
              "      <td>0</td>\n",
              "      <td>0</td>\n",
              "      <td>0</td>\n",
              "      <td>1</td>\n",
              "      <td>0</td>\n",
              "      <td>1</td>\n",
              "      <td>0</td>\n",
              "      <td>1</td>\n",
              "      <td>0</td>\n",
              "      <td>1</td>\n",
              "      <td>0</td>\n",
              "      <td>0</td>\n",
              "      <td>0</td>\n",
              "      <td>0</td>\n",
              "      <td>0</td>\n",
              "      <td>1</td>\n",
              "      <td>1</td>\n",
              "      <td>0</td>\n",
              "      <td>0</td>\n",
              "      <td>0</td>\n",
              "      <td>0</td>\n",
              "      <td>0</td>\n",
              "      <td>72</td>\n",
              "      <td>67.80</td>\n",
              "      <td>4804.65</td>\n",
              "    </tr>\n",
              "    <tr>\n",
              "      <th>...</th>\n",
              "      <td>...</td>\n",
              "      <td>...</td>\n",
              "      <td>...</td>\n",
              "      <td>...</td>\n",
              "      <td>...</td>\n",
              "      <td>...</td>\n",
              "      <td>...</td>\n",
              "      <td>...</td>\n",
              "      <td>...</td>\n",
              "      <td>...</td>\n",
              "      <td>...</td>\n",
              "      <td>...</td>\n",
              "      <td>...</td>\n",
              "      <td>...</td>\n",
              "      <td>...</td>\n",
              "      <td>...</td>\n",
              "      <td>...</td>\n",
              "      <td>...</td>\n",
              "      <td>...</td>\n",
              "      <td>...</td>\n",
              "      <td>...</td>\n",
              "      <td>...</td>\n",
              "      <td>...</td>\n",
              "      <td>...</td>\n",
              "      <td>...</td>\n",
              "      <td>...</td>\n",
              "      <td>...</td>\n",
              "      <td>...</td>\n",
              "      <td>...</td>\n",
              "      <td>...</td>\n",
              "      <td>...</td>\n",
              "    </tr>\n",
              "    <tr>\n",
              "      <th>3038</th>\n",
              "      <td>1</td>\n",
              "      <td>1</td>\n",
              "      <td>1</td>\n",
              "      <td>1</td>\n",
              "      <td>0</td>\n",
              "      <td>1</td>\n",
              "      <td>0</td>\n",
              "      <td>0</td>\n",
              "      <td>0</td>\n",
              "      <td>1</td>\n",
              "      <td>0</td>\n",
              "      <td>0</td>\n",
              "      <td>0</td>\n",
              "      <td>1</td>\n",
              "      <td>0</td>\n",
              "      <td>1</td>\n",
              "      <td>0</td>\n",
              "      <td>1</td>\n",
              "      <td>0</td>\n",
              "      <td>1</td>\n",
              "      <td>1</td>\n",
              "      <td>0</td>\n",
              "      <td>1</td>\n",
              "      <td>0</td>\n",
              "      <td>0</td>\n",
              "      <td>1</td>\n",
              "      <td>0</td>\n",
              "      <td>0</td>\n",
              "      <td>24</td>\n",
              "      <td>84.80</td>\n",
              "      <td>1990.50</td>\n",
              "    </tr>\n",
              "    <tr>\n",
              "      <th>3039</th>\n",
              "      <td>0</td>\n",
              "      <td>1</td>\n",
              "      <td>1</td>\n",
              "      <td>1</td>\n",
              "      <td>0</td>\n",
              "      <td>1</td>\n",
              "      <td>1</td>\n",
              "      <td>0</td>\n",
              "      <td>0</td>\n",
              "      <td>0</td>\n",
              "      <td>0</td>\n",
              "      <td>1</td>\n",
              "      <td>0</td>\n",
              "      <td>1</td>\n",
              "      <td>0</td>\n",
              "      <td>0</td>\n",
              "      <td>0</td>\n",
              "      <td>1</td>\n",
              "      <td>0</td>\n",
              "      <td>1</td>\n",
              "      <td>1</td>\n",
              "      <td>0</td>\n",
              "      <td>1</td>\n",
              "      <td>1</td>\n",
              "      <td>0</td>\n",
              "      <td>0</td>\n",
              "      <td>0</td>\n",
              "      <td>0</td>\n",
              "      <td>72</td>\n",
              "      <td>103.20</td>\n",
              "      <td>7362.90</td>\n",
              "    </tr>\n",
              "    <tr>\n",
              "      <th>3040</th>\n",
              "      <td>0</td>\n",
              "      <td>1</td>\n",
              "      <td>1</td>\n",
              "      <td>0</td>\n",
              "      <td>1</td>\n",
              "      <td>0</td>\n",
              "      <td>0</td>\n",
              "      <td>0</td>\n",
              "      <td>0</td>\n",
              "      <td>1</td>\n",
              "      <td>0</td>\n",
              "      <td>0</td>\n",
              "      <td>0</td>\n",
              "      <td>0</td>\n",
              "      <td>0</td>\n",
              "      <td>0</td>\n",
              "      <td>0</td>\n",
              "      <td>0</td>\n",
              "      <td>0</td>\n",
              "      <td>0</td>\n",
              "      <td>0</td>\n",
              "      <td>0</td>\n",
              "      <td>1</td>\n",
              "      <td>0</td>\n",
              "      <td>1</td>\n",
              "      <td>0</td>\n",
              "      <td>0</td>\n",
              "      <td>0</td>\n",
              "      <td>11</td>\n",
              "      <td>29.60</td>\n",
              "      <td>346.45</td>\n",
              "    </tr>\n",
              "    <tr>\n",
              "      <th>3041</th>\n",
              "      <td>1</td>\n",
              "      <td>1</td>\n",
              "      <td>0</td>\n",
              "      <td>1</td>\n",
              "      <td>0</td>\n",
              "      <td>1</td>\n",
              "      <td>1</td>\n",
              "      <td>0</td>\n",
              "      <td>0</td>\n",
              "      <td>0</td>\n",
              "      <td>0</td>\n",
              "      <td>0</td>\n",
              "      <td>0</td>\n",
              "      <td>0</td>\n",
              "      <td>0</td>\n",
              "      <td>0</td>\n",
              "      <td>0</td>\n",
              "      <td>0</td>\n",
              "      <td>0</td>\n",
              "      <td>0</td>\n",
              "      <td>0</td>\n",
              "      <td>0</td>\n",
              "      <td>1</td>\n",
              "      <td>0</td>\n",
              "      <td>0</td>\n",
              "      <td>1</td>\n",
              "      <td>1</td>\n",
              "      <td>1</td>\n",
              "      <td>4</td>\n",
              "      <td>74.40</td>\n",
              "      <td>306.60</td>\n",
              "    </tr>\n",
              "    <tr>\n",
              "      <th>3042</th>\n",
              "      <td>1</td>\n",
              "      <td>0</td>\n",
              "      <td>0</td>\n",
              "      <td>1</td>\n",
              "      <td>0</td>\n",
              "      <td>0</td>\n",
              "      <td>1</td>\n",
              "      <td>0</td>\n",
              "      <td>0</td>\n",
              "      <td>1</td>\n",
              "      <td>0</td>\n",
              "      <td>0</td>\n",
              "      <td>0</td>\n",
              "      <td>1</td>\n",
              "      <td>0</td>\n",
              "      <td>1</td>\n",
              "      <td>0</td>\n",
              "      <td>1</td>\n",
              "      <td>0</td>\n",
              "      <td>1</td>\n",
              "      <td>0</td>\n",
              "      <td>1</td>\n",
              "      <td>1</td>\n",
              "      <td>0</td>\n",
              "      <td>0</td>\n",
              "      <td>0</td>\n",
              "      <td>0</td>\n",
              "      <td>0</td>\n",
              "      <td>66</td>\n",
              "      <td>105.65</td>\n",
              "      <td>6844.50</td>\n",
              "    </tr>\n",
              "  </tbody>\n",
              "</table>\n",
              "<p>3043 rows × 31 columns</p>\n",
              "</div>"
            ],
            "text/plain": [
              "      gender_Male  Partner_Yes  Dependents_Yes  PhoneService_Yes  \\\n",
              "0               0            0               0                 1   \n",
              "1               1            1               1                 1   \n",
              "2               1            1               1                 1   \n",
              "3               0            0               0                 1   \n",
              "4               1            1               0                 1   \n",
              "...           ...          ...             ...               ...   \n",
              "3038            1            1               1                 1   \n",
              "3039            0            1               1                 1   \n",
              "3040            0            1               1                 0   \n",
              "3041            1            1               0                 1   \n",
              "3042            1            0               0                 1   \n",
              "\n",
              "      MultipleLines_No phone service  MultipleLines_Yes  \\\n",
              "0                                  0                  1   \n",
              "1                                  0                  1   \n",
              "2                                  0                  1   \n",
              "3                                  0                  0   \n",
              "4                                  0                  1   \n",
              "...                              ...                ...   \n",
              "3038                               0                  1   \n",
              "3039                               0                  1   \n",
              "3040                               1                  0   \n",
              "3041                               0                  1   \n",
              "3042                               0                  0   \n",
              "\n",
              "      InternetService_Fiber optic  InternetService_No  \\\n",
              "0                               1                   0   \n",
              "1                               1                   0   \n",
              "2                               0                   0   \n",
              "3                               0                   1   \n",
              "4                               0                   0   \n",
              "...                           ...                 ...   \n",
              "3038                            0                   0   \n",
              "3039                            1                   0   \n",
              "3040                            0                   0   \n",
              "3041                            1                   0   \n",
              "3042                            1                   0   \n",
              "\n",
              "      OnlineSecurity_No internet service  OnlineSecurity_Yes  \\\n",
              "0                                      0                   0   \n",
              "1                                      0                   0   \n",
              "2                                      0                   1   \n",
              "3                                      1                   0   \n",
              "4                                      0                   1   \n",
              "...                                  ...                 ...   \n",
              "3038                                   0                   1   \n",
              "3039                                   0                   0   \n",
              "3040                                   0                   1   \n",
              "3041                                   0                   0   \n",
              "3042                                   0                   1   \n",
              "\n",
              "      OnlineBackup_No internet service  OnlineBackup_Yes  \\\n",
              "0                                    0                 0   \n",
              "1                                    0                 1   \n",
              "2                                    0                 1   \n",
              "3                                    1                 0   \n",
              "4                                    0                 1   \n",
              "...                                ...               ...   \n",
              "3038                                 0                 0   \n",
              "3039                                 0                 1   \n",
              "3040                                 0                 0   \n",
              "3041                                 0                 0   \n",
              "3042                                 0                 0   \n",
              "\n",
              "      DeviceProtection_No internet service  DeviceProtection_Yes  \\\n",
              "0                                        0                     1   \n",
              "1                                        0                     1   \n",
              "2                                        0                     1   \n",
              "3                                        1                     0   \n",
              "4                                        0                     1   \n",
              "...                                    ...                   ...   \n",
              "3038                                     0                     1   \n",
              "3039                                     0                     1   \n",
              "3040                                     0                     0   \n",
              "3041                                     0                     0   \n",
              "3042                                     0                     1   \n",
              "\n",
              "      TechSupport_No internet service  TechSupport_Yes  \\\n",
              "0                                   0                0   \n",
              "1                                   0                1   \n",
              "2                                   0                1   \n",
              "3                                   1                0   \n",
              "4                                   0                1   \n",
              "...                               ...              ...   \n",
              "3038                                0                1   \n",
              "3039                                0                0   \n",
              "3040                                0                0   \n",
              "3041                                0                0   \n",
              "3042                                0                1   \n",
              "\n",
              "      StreamingTV_No internet service  StreamingTV_Yes  \\\n",
              "0                                   0                1   \n",
              "1                                   0                1   \n",
              "2                                   0                1   \n",
              "3                                   1                0   \n",
              "4                                   0                0   \n",
              "...                               ...              ...   \n",
              "3038                                0                1   \n",
              "3039                                0                1   \n",
              "3040                                0                0   \n",
              "3041                                0                0   \n",
              "3042                                0                1   \n",
              "\n",
              "      StreamingMovies_No internet service  StreamingMovies_Yes  \\\n",
              "0                                       0                    1   \n",
              "1                                       0                    1   \n",
              "2                                       0                    0   \n",
              "3                                       1                    0   \n",
              "4                                       0                    0   \n",
              "...                                   ...                  ...   \n",
              "3038                                    0                    1   \n",
              "3039                                    0                    1   \n",
              "3040                                    0                    0   \n",
              "3041                                    0                    0   \n",
              "3042                                    0                    1   \n",
              "\n",
              "      Contract_One year  Contract_Two year  PaperlessBilling_Yes  \\\n",
              "0                     0                  0                     1   \n",
              "1                     0                  1                     1   \n",
              "2                     0                  1                     1   \n",
              "3                     0                  1                     0   \n",
              "4                     0                  1                     1   \n",
              "...                 ...                ...                   ...   \n",
              "3038                  1                  0                     1   \n",
              "3039                  1                  0                     1   \n",
              "3040                  0                  0                     1   \n",
              "3041                  0                  0                     1   \n",
              "3042                  0                  1                     1   \n",
              "\n",
              "      PaymentMethod_Credit card (automatic)  PaymentMethod_Electronic check  \\\n",
              "0                                         0                               1   \n",
              "1                                         0                               0   \n",
              "2                                         0                               0   \n",
              "3                                         0                               0   \n",
              "4                                         0                               0   \n",
              "...                                     ...                             ...   \n",
              "3038                                      0                               0   \n",
              "3039                                      1                               0   \n",
              "3040                                      0                               1   \n",
              "3041                                      0                               0   \n",
              "3042                                      0                               0   \n",
              "\n",
              "      PaymentMethod_Mailed check  Churn_Yes  SeniorCitizen  tenure  \\\n",
              "0                              0          0              1      39   \n",
              "1                              0          0              0      45   \n",
              "2                              0          0              0      72   \n",
              "3                              1          0              0      38   \n",
              "4                              0          0              0      72   \n",
              "...                          ...        ...            ...     ...   \n",
              "3038                           1          0              0      24   \n",
              "3039                           0          0              0      72   \n",
              "3040                           0          0              0      11   \n",
              "3041                           1          1              1       4   \n",
              "3042                           0          0              0      66   \n",
              "\n",
              "      MonthlyCharges  TotalCharges  \n",
              "0              99.75       4036.00  \n",
              "1             109.75       4900.65  \n",
              "2              80.85       5727.45  \n",
              "3              20.30        743.05  \n",
              "4              67.80       4804.65  \n",
              "...              ...           ...  \n",
              "3038           84.80       1990.50  \n",
              "3039          103.20       7362.90  \n",
              "3040           29.60        346.45  \n",
              "3041           74.40        306.60  \n",
              "3042          105.65       6844.50  \n",
              "\n",
              "[3043 rows x 31 columns]"
            ]
          },
          "metadata": {
            "tags": []
          },
          "execution_count": 94
        }
      ]
    },
    {
      "cell_type": "code",
      "metadata": {
        "colab": {
          "base_uri": "https://localhost:8080/"
        },
        "id": "vkPI37AkWAhP",
        "outputId": "5b84424c-3dae-496b-dd8e-aff209d72cb9"
      },
      "source": [
        "valid.isnull().sum()"
      ],
      "execution_count": 95,
      "outputs": [
        {
          "output_type": "execute_result",
          "data": {
            "text/plain": [
              "gender_Male                              0\n",
              "Partner_Yes                              0\n",
              "Dependents_Yes                           0\n",
              "PhoneService_Yes                         0\n",
              "MultipleLines_No phone service           0\n",
              "MultipleLines_Yes                        0\n",
              "InternetService_Fiber optic              0\n",
              "InternetService_No                       0\n",
              "OnlineSecurity_No internet service       0\n",
              "OnlineSecurity_Yes                       0\n",
              "OnlineBackup_No internet service         0\n",
              "OnlineBackup_Yes                         0\n",
              "DeviceProtection_No internet service     0\n",
              "DeviceProtection_Yes                     0\n",
              "TechSupport_No internet service          0\n",
              "TechSupport_Yes                          0\n",
              "StreamingTV_No internet service          0\n",
              "StreamingTV_Yes                          0\n",
              "StreamingMovies_No internet service      0\n",
              "StreamingMovies_Yes                      0\n",
              "Contract_One year                        0\n",
              "Contract_Two year                        0\n",
              "PaperlessBilling_Yes                     0\n",
              "PaymentMethod_Credit card (automatic)    0\n",
              "PaymentMethod_Electronic check           0\n",
              "PaymentMethod_Mailed check               0\n",
              "Churn_Yes                                0\n",
              "SeniorCitizen                            0\n",
              "tenure                                   0\n",
              "MonthlyCharges                           0\n",
              "TotalCharges                             0\n",
              "dtype: int64"
            ]
          },
          "metadata": {
            "tags": []
          },
          "execution_count": 95
        }
      ]
    },
    {
      "cell_type": "code",
      "metadata": {
        "colab": {
          "base_uri": "https://localhost:8080/",
          "height": 419
        },
        "id": "JlhF2mGcWAlN",
        "outputId": "feaf6ed1-0739-4c4c-c75d-bfc209529f1e"
      },
      "source": [
        "temp = valid[['MonthlyCharges','TotalCharges']]\r\n",
        "scaler = StandardScaler()\r\n",
        "scaler.fit(temp)\r\n",
        "temp = pd.DataFrame(scaler.transform(temp), columns= ['MonthlyCharges','TotalCharges'])\r\n",
        "temp"
      ],
      "execution_count": 96,
      "outputs": [
        {
          "output_type": "execute_result",
          "data": {
            "text/html": [
              "<div>\n",
              "<style scoped>\n",
              "    .dataframe tbody tr th:only-of-type {\n",
              "        vertical-align: middle;\n",
              "    }\n",
              "\n",
              "    .dataframe tbody tr th {\n",
              "        vertical-align: top;\n",
              "    }\n",
              "\n",
              "    .dataframe thead th {\n",
              "        text-align: right;\n",
              "    }\n",
              "</style>\n",
              "<table border=\"1\" class=\"dataframe\">\n",
              "  <thead>\n",
              "    <tr style=\"text-align: right;\">\n",
              "      <th></th>\n",
              "      <th>MonthlyCharges</th>\n",
              "      <th>TotalCharges</th>\n",
              "    </tr>\n",
              "  </thead>\n",
              "  <tbody>\n",
              "    <tr>\n",
              "      <th>0</th>\n",
              "      <td>1.170848</td>\n",
              "      <td>0.763442</td>\n",
              "    </tr>\n",
              "    <tr>\n",
              "      <th>1</th>\n",
              "      <td>1.503124</td>\n",
              "      <td>1.145151</td>\n",
              "    </tr>\n",
              "    <tr>\n",
              "      <th>2</th>\n",
              "      <td>0.542846</td>\n",
              "      <td>1.510151</td>\n",
              "    </tr>\n",
              "    <tr>\n",
              "      <th>3</th>\n",
              "      <td>-1.469085</td>\n",
              "      <td>-0.690267</td>\n",
              "    </tr>\n",
              "    <tr>\n",
              "      <th>4</th>\n",
              "      <td>0.109226</td>\n",
              "      <td>1.102771</td>\n",
              "    </tr>\n",
              "    <tr>\n",
              "      <th>...</th>\n",
              "      <td>...</td>\n",
              "      <td>...</td>\n",
              "    </tr>\n",
              "    <tr>\n",
              "      <th>3038</th>\n",
              "      <td>0.674095</td>\n",
              "      <td>-0.139567</td>\n",
              "    </tr>\n",
              "    <tr>\n",
              "      <th>3039</th>\n",
              "      <td>1.285483</td>\n",
              "      <td>2.232139</td>\n",
              "    </tr>\n",
              "    <tr>\n",
              "      <th>3040</th>\n",
              "      <td>-1.160069</td>\n",
              "      <td>-0.865351</td>\n",
              "    </tr>\n",
              "    <tr>\n",
              "      <th>3041</th>\n",
              "      <td>0.328528</td>\n",
              "      <td>-0.882943</td>\n",
              "    </tr>\n",
              "    <tr>\n",
              "      <th>3042</th>\n",
              "      <td>1.366890</td>\n",
              "      <td>2.003285</td>\n",
              "    </tr>\n",
              "  </tbody>\n",
              "</table>\n",
              "<p>3043 rows × 2 columns</p>\n",
              "</div>"
            ],
            "text/plain": [
              "      MonthlyCharges  TotalCharges\n",
              "0           1.170848      0.763442\n",
              "1           1.503124      1.145151\n",
              "2           0.542846      1.510151\n",
              "3          -1.469085     -0.690267\n",
              "4           0.109226      1.102771\n",
              "...              ...           ...\n",
              "3038        0.674095     -0.139567\n",
              "3039        1.285483      2.232139\n",
              "3040       -1.160069     -0.865351\n",
              "3041        0.328528     -0.882943\n",
              "3042        1.366890      2.003285\n",
              "\n",
              "[3043 rows x 2 columns]"
            ]
          },
          "metadata": {
            "tags": []
          },
          "execution_count": 96
        }
      ]
    },
    {
      "cell_type": "code",
      "metadata": {
        "id": "9xoXBtGdWAop"
      },
      "source": [
        "valid = valid.drop(['MonthlyCharges','TotalCharges'], axis=1)\r\n",
        "valid = pd.concat([valid,temp], axis=1)"
      ],
      "execution_count": 97,
      "outputs": []
    },
    {
      "cell_type": "code",
      "metadata": {
        "id": "eumLxRpeWAtE"
      },
      "source": [
        "valid = valid[['TechSupport_Yes',\r\n",
        " 'Partner_Yes',\r\n",
        " 'PaperlessBilling_Yes',\r\n",
        " 'Contract_One year',\r\n",
        " 'OnlineSecurity_Yes',\r\n",
        " 'gender_Male',\r\n",
        " 'Contract_Two year',\r\n",
        " 'PaymentMethod_Electronic check',\r\n",
        "          'InternetService_Fiber optic',\r\n",
        "          'MonthlyCharges',\r\n",
        "          'tenure',\r\n",
        "          'TotalCharges']]"
      ],
      "execution_count": 98,
      "outputs": []
    },
    {
      "cell_type": "markdown",
      "metadata": {
        "id": "B_6MtUyrMTGv"
      },
      "source": [
        "***Random forest for data prediction***"
      ]
    },
    {
      "cell_type": "code",
      "metadata": {
        "id": "UddzUoNwWAxT"
      },
      "source": [
        "RF = RandomForestClassifier(max_depth=10, min_samples_split=2, n_estimators=500,\r\n",
        "                       oob_score=True, random_state=10)"
      ],
      "execution_count": 99,
      "outputs": []
    },
    {
      "cell_type": "code",
      "metadata": {
        "id": "LTwbvEbLWA1r"
      },
      "source": [
        "RF.fit(X,y)\r\n",
        "RFpred = RF.predict_proba(valid)[:,1]"
      ],
      "execution_count": 100,
      "outputs": []
    },
    {
      "cell_type": "code",
      "metadata": {
        "id": "glOVaX3ZhKT-"
      },
      "source": [
        "RFout = []\r\n",
        "for i in RFpred:\r\n",
        "    if i<0.32639820087639076:\r\n",
        "        RFout.append(0)\r\n",
        "    else:\r\n",
        "        RFout.append(1)"
      ],
      "execution_count": 101,
      "outputs": []
    },
    {
      "cell_type": "markdown",
      "metadata": {
        "id": "0aDuccflMh_U"
      },
      "source": [
        "***Logistic Regression for Data prediction***"
      ]
    },
    {
      "cell_type": "code",
      "metadata": {
        "id": "2S645slKhKHP"
      },
      "source": [
        "LR = LogisticRegression(C=0.01, class_weight='balanced', max_iter=2000,\r\n",
        "                   random_state=10, tol=10)"
      ],
      "execution_count": 102,
      "outputs": []
    },
    {
      "cell_type": "code",
      "metadata": {
        "id": "b9OWQpU8hJpT"
      },
      "source": [
        "LR.fit(X,y)\r\n",
        "LRpred = LR.predict_proba(valid)[:,1]"
      ],
      "execution_count": 103,
      "outputs": []
    },
    {
      "cell_type": "code",
      "metadata": {
        "id": "qJ7eIo2_hJih"
      },
      "source": [
        "LRout = []\r\n",
        "for i in LRpred:\r\n",
        "    if i<0.5560974320205885:\r\n",
        "        LRout.append(0)\r\n",
        "    else:\r\n",
        "        LRout.append(1)"
      ],
      "execution_count": 104,
      "outputs": []
    },
    {
      "cell_type": "code",
      "metadata": {
        "colab": {
          "base_uri": "https://localhost:8080/",
          "height": 669
        },
        "id": "jv3DHiZGhJZL",
        "outputId": "bac36eed-9820-4105-d229-b45693ebc9b7"
      },
      "source": [
        "final_RF = pd.DataFrame({'ID': list(data['customerID'][4000:].values), 'Churn': RFout})\r\n",
        "# 'logistic': logisticout\r\n",
        " \r\n",
        "final_RF.head(20)"
      ],
      "execution_count": 107,
      "outputs": [
        {
          "output_type": "execute_result",
          "data": {
            "text/html": [
              "<div>\n",
              "<style scoped>\n",
              "    .dataframe tbody tr th:only-of-type {\n",
              "        vertical-align: middle;\n",
              "    }\n",
              "\n",
              "    .dataframe tbody tr th {\n",
              "        vertical-align: top;\n",
              "    }\n",
              "\n",
              "    .dataframe thead th {\n",
              "        text-align: right;\n",
              "    }\n",
              "</style>\n",
              "<table border=\"1\" class=\"dataframe\">\n",
              "  <thead>\n",
              "    <tr style=\"text-align: right;\">\n",
              "      <th></th>\n",
              "      <th>ID</th>\n",
              "      <th>Churn</th>\n",
              "    </tr>\n",
              "  </thead>\n",
              "  <tbody>\n",
              "    <tr>\n",
              "      <th>0</th>\n",
              "      <td>0420-HLGXF</td>\n",
              "      <td>1</td>\n",
              "    </tr>\n",
              "    <tr>\n",
              "      <th>1</th>\n",
              "      <td>7446-KQISO</td>\n",
              "      <td>0</td>\n",
              "    </tr>\n",
              "    <tr>\n",
              "      <th>2</th>\n",
              "      <td>9823-EALYC</td>\n",
              "      <td>0</td>\n",
              "    </tr>\n",
              "    <tr>\n",
              "      <th>3</th>\n",
              "      <td>0582-AVCLN</td>\n",
              "      <td>0</td>\n",
              "    </tr>\n",
              "    <tr>\n",
              "      <th>4</th>\n",
              "      <td>5803-NQJZO</td>\n",
              "      <td>0</td>\n",
              "    </tr>\n",
              "    <tr>\n",
              "      <th>5</th>\n",
              "      <td>2565-JSLRY</td>\n",
              "      <td>1</td>\n",
              "    </tr>\n",
              "    <tr>\n",
              "      <th>6</th>\n",
              "      <td>2607-DHDAK</td>\n",
              "      <td>0</td>\n",
              "    </tr>\n",
              "    <tr>\n",
              "      <th>7</th>\n",
              "      <td>1073-XXCZD</td>\n",
              "      <td>0</td>\n",
              "    </tr>\n",
              "    <tr>\n",
              "      <th>8</th>\n",
              "      <td>0743-HRVFF</td>\n",
              "      <td>0</td>\n",
              "    </tr>\n",
              "    <tr>\n",
              "      <th>9</th>\n",
              "      <td>4006-HKYHO</td>\n",
              "      <td>0</td>\n",
              "    </tr>\n",
              "    <tr>\n",
              "      <th>10</th>\n",
              "      <td>3727-JEZTU</td>\n",
              "      <td>1</td>\n",
              "    </tr>\n",
              "    <tr>\n",
              "      <th>11</th>\n",
              "      <td>8143-ETQTI</td>\n",
              "      <td>0</td>\n",
              "    </tr>\n",
              "    <tr>\n",
              "      <th>12</th>\n",
              "      <td>6689-KXGBO</td>\n",
              "      <td>1</td>\n",
              "    </tr>\n",
              "    <tr>\n",
              "      <th>13</th>\n",
              "      <td>9667-TKTVZ</td>\n",
              "      <td>1</td>\n",
              "    </tr>\n",
              "    <tr>\n",
              "      <th>14</th>\n",
              "      <td>3657-COGMW</td>\n",
              "      <td>0</td>\n",
              "    </tr>\n",
              "    <tr>\n",
              "      <th>15</th>\n",
              "      <td>8570-KLJYJ</td>\n",
              "      <td>0</td>\n",
              "    </tr>\n",
              "    <tr>\n",
              "      <th>16</th>\n",
              "      <td>7754-IXRMC</td>\n",
              "      <td>1</td>\n",
              "    </tr>\n",
              "    <tr>\n",
              "      <th>17</th>\n",
              "      <td>9473-CBZOP</td>\n",
              "      <td>0</td>\n",
              "    </tr>\n",
              "    <tr>\n",
              "      <th>18</th>\n",
              "      <td>2969-WGHQO</td>\n",
              "      <td>0</td>\n",
              "    </tr>\n",
              "    <tr>\n",
              "      <th>19</th>\n",
              "      <td>6615-NGGZJ</td>\n",
              "      <td>1</td>\n",
              "    </tr>\n",
              "  </tbody>\n",
              "</table>\n",
              "</div>"
            ],
            "text/plain": [
              "            ID  Churn\n",
              "0   0420-HLGXF      1\n",
              "1   7446-KQISO      0\n",
              "2   9823-EALYC      0\n",
              "3   0582-AVCLN      0\n",
              "4   5803-NQJZO      0\n",
              "5   2565-JSLRY      1\n",
              "6   2607-DHDAK      0\n",
              "7   1073-XXCZD      0\n",
              "8   0743-HRVFF      0\n",
              "9   4006-HKYHO      0\n",
              "10  3727-JEZTU      1\n",
              "11  8143-ETQTI      0\n",
              "12  6689-KXGBO      1\n",
              "13  9667-TKTVZ      1\n",
              "14  3657-COGMW      0\n",
              "15  8570-KLJYJ      0\n",
              "16  7754-IXRMC      1\n",
              "17  9473-CBZOP      0\n",
              "18  2969-WGHQO      0\n",
              "19  6615-NGGZJ      1"
            ]
          },
          "metadata": {
            "tags": []
          },
          "execution_count": 107
        }
      ]
    },
    {
      "cell_type": "markdown",
      "metadata": {
        "id": "tCvNI1WyMrHn"
      },
      "source": [
        "## **comparing the result of both the model**"
      ]
    },
    {
      "cell_type": "code",
      "metadata": {
        "colab": {
          "base_uri": "https://localhost:8080/",
          "height": 669
        },
        "id": "IgQ4hf8J-V8k",
        "outputId": "523b9925-7c76-4cfb-bc1f-ef971f4ff0df"
      },
      "source": [
        "final = pd.DataFrame({'ID': list(data['customerID'][4000:].values), 'ChurnRF': RFout, 'ChurnLR': LRout})\r\n",
        "# 'logistic': logisticout\r\n",
        " \r\n",
        "final.head(20)"
      ],
      "execution_count": 108,
      "outputs": [
        {
          "output_type": "execute_result",
          "data": {
            "text/html": [
              "<div>\n",
              "<style scoped>\n",
              "    .dataframe tbody tr th:only-of-type {\n",
              "        vertical-align: middle;\n",
              "    }\n",
              "\n",
              "    .dataframe tbody tr th {\n",
              "        vertical-align: top;\n",
              "    }\n",
              "\n",
              "    .dataframe thead th {\n",
              "        text-align: right;\n",
              "    }\n",
              "</style>\n",
              "<table border=\"1\" class=\"dataframe\">\n",
              "  <thead>\n",
              "    <tr style=\"text-align: right;\">\n",
              "      <th></th>\n",
              "      <th>ID</th>\n",
              "      <th>ChurnRF</th>\n",
              "      <th>ChurnLR</th>\n",
              "    </tr>\n",
              "  </thead>\n",
              "  <tbody>\n",
              "    <tr>\n",
              "      <th>0</th>\n",
              "      <td>0420-HLGXF</td>\n",
              "      <td>1</td>\n",
              "      <td>1</td>\n",
              "    </tr>\n",
              "    <tr>\n",
              "      <th>1</th>\n",
              "      <td>7446-KQISO</td>\n",
              "      <td>0</td>\n",
              "      <td>0</td>\n",
              "    </tr>\n",
              "    <tr>\n",
              "      <th>2</th>\n",
              "      <td>9823-EALYC</td>\n",
              "      <td>0</td>\n",
              "      <td>0</td>\n",
              "    </tr>\n",
              "    <tr>\n",
              "      <th>3</th>\n",
              "      <td>0582-AVCLN</td>\n",
              "      <td>0</td>\n",
              "      <td>0</td>\n",
              "    </tr>\n",
              "    <tr>\n",
              "      <th>4</th>\n",
              "      <td>5803-NQJZO</td>\n",
              "      <td>0</td>\n",
              "      <td>0</td>\n",
              "    </tr>\n",
              "    <tr>\n",
              "      <th>5</th>\n",
              "      <td>2565-JSLRY</td>\n",
              "      <td>1</td>\n",
              "      <td>0</td>\n",
              "    </tr>\n",
              "    <tr>\n",
              "      <th>6</th>\n",
              "      <td>2607-DHDAK</td>\n",
              "      <td>0</td>\n",
              "      <td>0</td>\n",
              "    </tr>\n",
              "    <tr>\n",
              "      <th>7</th>\n",
              "      <td>1073-XXCZD</td>\n",
              "      <td>0</td>\n",
              "      <td>0</td>\n",
              "    </tr>\n",
              "    <tr>\n",
              "      <th>8</th>\n",
              "      <td>0743-HRVFF</td>\n",
              "      <td>0</td>\n",
              "      <td>0</td>\n",
              "    </tr>\n",
              "    <tr>\n",
              "      <th>9</th>\n",
              "      <td>4006-HKYHO</td>\n",
              "      <td>0</td>\n",
              "      <td>0</td>\n",
              "    </tr>\n",
              "    <tr>\n",
              "      <th>10</th>\n",
              "      <td>3727-JEZTU</td>\n",
              "      <td>1</td>\n",
              "      <td>0</td>\n",
              "    </tr>\n",
              "    <tr>\n",
              "      <th>11</th>\n",
              "      <td>8143-ETQTI</td>\n",
              "      <td>0</td>\n",
              "      <td>0</td>\n",
              "    </tr>\n",
              "    <tr>\n",
              "      <th>12</th>\n",
              "      <td>6689-KXGBO</td>\n",
              "      <td>1</td>\n",
              "      <td>1</td>\n",
              "    </tr>\n",
              "    <tr>\n",
              "      <th>13</th>\n",
              "      <td>9667-TKTVZ</td>\n",
              "      <td>1</td>\n",
              "      <td>1</td>\n",
              "    </tr>\n",
              "    <tr>\n",
              "      <th>14</th>\n",
              "      <td>3657-COGMW</td>\n",
              "      <td>0</td>\n",
              "      <td>0</td>\n",
              "    </tr>\n",
              "    <tr>\n",
              "      <th>15</th>\n",
              "      <td>8570-KLJYJ</td>\n",
              "      <td>0</td>\n",
              "      <td>0</td>\n",
              "    </tr>\n",
              "    <tr>\n",
              "      <th>16</th>\n",
              "      <td>7754-IXRMC</td>\n",
              "      <td>1</td>\n",
              "      <td>1</td>\n",
              "    </tr>\n",
              "    <tr>\n",
              "      <th>17</th>\n",
              "      <td>9473-CBZOP</td>\n",
              "      <td>0</td>\n",
              "      <td>0</td>\n",
              "    </tr>\n",
              "    <tr>\n",
              "      <th>18</th>\n",
              "      <td>2969-WGHQO</td>\n",
              "      <td>0</td>\n",
              "      <td>1</td>\n",
              "    </tr>\n",
              "    <tr>\n",
              "      <th>19</th>\n",
              "      <td>6615-NGGZJ</td>\n",
              "      <td>1</td>\n",
              "      <td>1</td>\n",
              "    </tr>\n",
              "  </tbody>\n",
              "</table>\n",
              "</div>"
            ],
            "text/plain": [
              "            ID  ChurnRF  ChurnLR\n",
              "0   0420-HLGXF        1        1\n",
              "1   7446-KQISO        0        0\n",
              "2   9823-EALYC        0        0\n",
              "3   0582-AVCLN        0        0\n",
              "4   5803-NQJZO        0        0\n",
              "5   2565-JSLRY        1        0\n",
              "6   2607-DHDAK        0        0\n",
              "7   1073-XXCZD        0        0\n",
              "8   0743-HRVFF        0        0\n",
              "9   4006-HKYHO        0        0\n",
              "10  3727-JEZTU        1        0\n",
              "11  8143-ETQTI        0        0\n",
              "12  6689-KXGBO        1        1\n",
              "13  9667-TKTVZ        1        1\n",
              "14  3657-COGMW        0        0\n",
              "15  8570-KLJYJ        0        0\n",
              "16  7754-IXRMC        1        1\n",
              "17  9473-CBZOP        0        0\n",
              "18  2969-WGHQO        0        1\n",
              "19  6615-NGGZJ        1        1"
            ]
          },
          "metadata": {
            "tags": []
          },
          "execution_count": 108
        }
      ]
    },
    {
      "cell_type": "code",
      "metadata": {
        "id": "yCEEBsdZ-V0e"
      },
      "source": [
        "final[['ID', 'ChurnRF','ChurnLR']].to_csv(\"output.csv\",index = False, header=True)"
      ],
      "execution_count": 109,
      "outputs": []
    },
    {
      "cell_type": "code",
      "metadata": {
        "id": "45nqff2i-Vt5"
      },
      "source": [
        ""
      ],
      "execution_count": null,
      "outputs": []
    },
    {
      "cell_type": "code",
      "metadata": {
        "id": "KvUu9t8m-X6f"
      },
      "source": [
        ""
      ],
      "execution_count": null,
      "outputs": []
    },
    {
      "cell_type": "code",
      "metadata": {
        "id": "MrpzM8zg-Xau"
      },
      "source": [
        ""
      ],
      "execution_count": null,
      "outputs": []
    }
  ]
}